{
 "cells": [
  {
   "cell_type": "markdown",
   "metadata": {},
   "source": [
    "# Table of Contents:\n",
    "- [Overview on Content Addressable aRchives (CAR / .car)](#overview-on-content-addressable-archives-car--car)\n",
    "- [Create CAR Files](#create-car-files)\n",
    "- [Creating Interactive CLI Widgets](#creating-interactive-cli-widgets)\n"
   ]
  },
  {
   "cell_type": "markdown",
   "metadata": {},
   "source": [
    "Hthat you'll find large datasets \n",
    "\n",
    "\n",
    "When content is imported into [IPFS](https://docs.ipfs.tech/concepts/what-is-ipfs/) (InterPlanetary File System), a unique [CID](https://docs.ipfs.tech/concepts/content-addressing/#what-is-a-cid) (content identifier) hash is generated representing the content itself. But \n",
    "\n",
    "\n",
    "\n",
    "This representation can be further decomposed as the content-addressed data is chunked into smaller blocks, generating a unique CID hash and ultimately  constructing a Merkle DAG (Directed Acyclic Graphs). To retrieve the content we just ,   Now imagine the scenario \n",
    "\n",
    "Large collections of content can be organized and stored in CAR  \n",
    "\n",
    "In this post, we will discuss how to manage and store  \n",
    "\n",
    "The CAR format (Content Addressable aRchives) can be used to store content addressable objects in the form of IPLD block data as a sequence of bytes\n",
    "\n",
    "makes files and directories content-addressable via CIDs by chunking files into smaller blocks constructing a Merkle DAG, by chunking files in sm\n",
    "\n",
    "The basic idea is that this representation makes files and Additionaly, this content is \n",
    "\n",
    "\n",
    "\n",
    "In the dynamic landscape of decentralized systems, where efficient data management is pivotal, Content Addressable Archives (CAR) emerge as a fundamental and powerful tool. Understanding CAR files is essential for anyone navigating the realms of decentralized storage, particularly in frameworks like IPFS and Filecoin. CAR files play a crucial role in enabling the seamless storage and retrieval of data in decentralized networks, addressing challenges related to efficiency, security, and data integrity.\n",
    "\n",
    "\n",
    "\n",
    "CAR (Content Addressable Archives) files in a decentralized system. They are used to store content addressable objects in the form of IPLD block data as a sequence of bytes, and are fundamental in creating a Filecoin Piece, which goes through several transformations in the negotiation process between the storage client and storage provider. CAR files are also used in IPFS (InterPlanetary File System) to represent complex data structures using IPLD DAGs (Directed Acyclic Graphs) 1. \n",
    "\n",
    "In this blog post, we will explore the technical details of CAR files and IPLD DAGs, tools and libraries used to create CAR files, and performing partial extractions use case of partial extraction. We will also discuss how CAR files are used in decentralized storage systems and how they can ensure data integrity in a decentralized network."
   ]
  },
  {
   "cell_type": "markdown",
   "metadata": {},
   "source": []
  },
  {
   "cell_type": "markdown",
   "metadata": {},
   "source": [
    "When dealing with large geospatial datasets, such as Landsat 9 imagery, effective management, storage, and seamless transfer of massive data are key challenges for both data stewards and users seeking to access the content. One common solution for bundling and compressing these datasets is using `.tar` files (a type [File archiver](https://en.wikipedia.org/wiki/File_archiver)), aiding data stewards in organization and simplifying data transfer for users. Transitioning into the realm of decentralized systems, [Content Addressable Archives](https://ipld.io/specs/transport/car/carv1/) (CAR) present a solution akin to `.tar` files. CAR files, like their traditional counterparts, play a role in maintaining data organization and accessibility in decentralized setups. In this blog post, we'll look into the technical details of `.car` files and explore some practical applications inherent to [IPFS](https://docs.ipfs.tech/concepts/what-is-ipfs/) (InterPlanetary File System).\n",
    "\n",
    "#### What is **content** in IPFS?\n",
    "\n",
    "When content is imported into IPFS, a unique [CID](https://docs.ipfs.tech/concepts/content-addressing/#what-is-a-cid) (content identifier) hash is generated representing the content itself.  This representation can be further decomposed as the content-addressed data is chunked into smaller blocks, generating a unique CID hash node linked to the parent hash node. This list of linked CIDs is known as a [Merkle DAG](https://docs.ipfs.tech/concepts/merkle-dag/) (Directed Acyclic Graphs). Thus, in this example since the CID is unique, we can use it as a link, replacing location-based identifiers, like URLs, with ones based on the content of the data itself. \n",
    "\n",
    "Let's take a look at what this would look like visually using a directory of files:\n",
    "\n",
    "<center><img src=\"https://proto.school/tutorial-assets/T0008L03-directory-graph.png\" alt=\"CARv2 Format\" width=\"40%\"></center>\n",
    "\n",
    "and as a Merkle DAG, we’ll simplify the [graph tree](https://en.wikipedia.org/wiki/Tree_(graph_theory)) representation of the content with two attributes: the name of the file, and the data corresponding to the file’s contents. These attributes, bundled together, make up the data of our node, represented below in the orange box.\n",
    "\n",
    "<center><img src=\"https://proto.school/tutorial-assets/T0008L04-complete-dag.svg\" alt=\"CARv2 Format\" width=\"70%\"></center>\n",
    "\n",
    "The root directory **pics** is the **root node** of the DAG with the CID **baf8**. If we wanted to see all the content in the sub-directory, **cats**, we would reference the CID **baf7** which would return:\n",
    "\n",
    "<center><img src=\"https://proto.school/tutorial-assets/T0008L04-partial-dag.svg\" alt=\"CARv2 Format\" width=\"40%\"></center>\n",
    "\n",
    "You may have also noticed that the **root** CID label for the **pics** directory has a higher integer value compared to the **children** CIDs for each of the files at the bottom of the graph tree.  That's because the representations of DAGs are derived from the bottom up. Each node's CID depends on it's descendants. Any alterations to the images and or additions/deletions to each folder would change the CID value of the parent node. This is because parent nodes cannot be created until CIDs of their children can be determined. \n",
    "\n",
    "> The CID labels are purely for explanation. For an in-depth look at the formatting of a CID, see this interactive tutorial on the [Anatomy of a CID](https://proto.school/anatomy-of-a-cid).\n",
    "\n",
    "So how does this relate to maintaining and organizing large datasets? At the heart of any dataset is it's data structure! From wikipedia, a [data structure](https://en.wikipedia.org/wiki/Data_structure) is defined as:\n",
    "\n",
    "> In computer science, a data structure is a data organization, management and storage format that enables efficient access and modification. More precisely, a data structure is a collection of data values, the relationships among them, and the functions or operations that can be applied to the data.\n",
    "\n",
    "The choices we make when structuring how our data is organized has significant implications for the types of interactions that can be performed. Therefore, the larger a dataset is the more important it is to tailor the structure the way we intend to use or access it. Structure gives data meaning and organization and in the case of generating DAGs, a unique identifier.\n",
    "\n",
    "### Organizing **DAGs** into **CARs**\n"
   ]
  },
  {
   "cell_type": "markdown",
   "metadata": {},
   "source": [
    "After identifying the intended \n",
    "\n",
    "When it comes to organizing large datasets of Directed Acyclic Graphs (DAGs), Content Addressable Archives (CARs) provide a robust and efficient solution. A CAR file is a sequential data format used to store and organize collections of DAGs. Each DAG in a CAR file is given a unique identifier, which allows for efficient access and modification. By grouping related DAGs together into thematic CAR files, we can create meaningful and organized structures within our dataset. This thematic organization not only enhances data retrieval and manipulation but also adds a layer of context to the data, making it more understandable and usable. Therefore, when dealing with large datasets, especially those comprising of DAGs, CAR files offer a structured, efficient, and meaningful way of data organization.\n",
    "\n",
    "\n",
    "In the context of the InterPlanetary File System (IPFS), organizing large datasets of Directed Acyclic Graphs (DAGs) becomes crucial. IPFS uses Content Addressable Archives (CARs) to efficiently manage these DAGs. A CAR file is a sequential data format used to store and organize collections of DAGs within the IPFS. Each DAG in a CAR file is given a unique identifier, which allows for efficient access and modification. By grouping related DAGs together into thematic CAR files, we can create meaningful and organized structures within our dataset. This thematic organization not only enhances data retrieval and manipulation but also adds a layer of context to the data, making it more understandable and usable. Therefore, when dealing with large datasets in IPFS, especially those comprising of DAGs, CAR files offer a structured, efficient, and meaningful way of data organization."
   ]
  },
  {
   "cell_type": "markdown",
   "metadata": {},
   "source": [
    "Content Addressable Archives (CARs) are a specialized data format used for efficient storage and organization of very large datasets, particularly those composed of Directed Acyclic Graphs (DAGs). Similar to .tar files, CAR files bundle together a collection of data into a single file. However, unlike .tar files, CAR files are designed to work with content-addressed storage systems, such as the InterPlanetary File System (IPFS). Each piece of data in a CAR file, typically a block of a DAG, is given a unique identifier based on its content. This allows for efficient access and modification, as well as deduplication of data. The CAR format is defined by a specification that outlines how data should be serialized and organized within the file. This includes a header that lists the root nodes of the DAGs, followed by a sequence of length-prefixed blocks of data. Organizing DAGs into CAR files allows for efficient retrieval and manipulation of data, as well as thematic grouping of related DAGs. This can be particularly useful in use cases where large datasets need to be distributed across multiple nodes in a network, such as in a decentralized file system."
   ]
  }
 ],
 "metadata": {
  "kernelspec": {
   "display_name": ".venv",
   "language": "python",
   "name": "python3"
  },
  "language_info": {
   "codemirror_mode": {
    "name": "ipython",
    "version": 3
   },
   "file_extension": ".py",
   "mimetype": "text/x-python",
   "name": "python",
   "nbconvert_exporter": "python",
   "pygments_lexer": "ipython3",
   "version": "3.10.8"
  }
 },
 "nbformat": 4,
 "nbformat_minor": 2
}
