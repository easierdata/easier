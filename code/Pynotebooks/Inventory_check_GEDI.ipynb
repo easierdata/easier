{
 "cells": [
  {
   "cell_type": "markdown",
   "id": "fc5eea04-0e4d-4bc4-a5b1-67ee0ca4cae6",
   "metadata": {},
   "source": [
    "# Inventory list and status check - GEDI "
   ]
  },
  {
   "cell_type": "code",
   "execution_count": 49,
   "id": "4429f2e2-9180-45eb-b664-8544c6eccd48",
   "metadata": {},
   "outputs": [],
   "source": [
    "import pandas as pd\n",
    "import datetime\n",
    "import os"
   ]
  },
  {
   "cell_type": "code",
   "execution_count": 56,
   "id": "65714b7e-8fc7-48ed-9e46-24b119cc4fd4",
   "metadata": {},
   "outputs": [
    {
     "data": {
      "text/plain": [
       "'04-07-2023'"
      ]
     },
     "execution_count": 56,
     "metadata": {},
     "output_type": "execute_result"
    }
   ],
   "source": []
  },
  {
   "cell_type": "markdown",
   "id": "42bc0dc3-bff5-4bcb-beb6-d579318e6363",
   "metadata": {},
   "source": [
    "## Inventory list"
   ]
  },
  {
   "cell_type": "markdown",
   "id": "c2573a90-4919-45aa-8508-21c65c12518b",
   "metadata": {},
   "source": [
    "### Data Pool with all files\n",
    "L1/L2 : https://e4ftl01.cr.usgs.gov/GEDI/\n",
    "\n",
    "L3/L4 : https://daac.ornl.gov/daacdata/gedi/"
   ]
  },
  {
   "cell_type": "code",
   "execution_count": 13,
   "id": "4be844b2-3723-49a7-90f9-b63d8df3af98",
   "metadata": {},
   "outputs": [],
   "source": [
    "#!pip install beautifulsoup4"
   ]
  },
  {
   "cell_type": "code",
   "execution_count": null,
   "id": "6330ca52-c91f-424e-a1a2-16a1acfa26e1",
   "metadata": {},
   "outputs": [],
   "source": []
  },
  {
   "cell_type": "code",
   "execution_count": 174,
   "id": "ef279cfe-ce89-4f0c-92f6-e9283c854024",
   "metadata": {},
   "outputs": [],
   "source": [
    "avail_products = [\"GEDI01_B.002\",\"GEDI02_A.002\",\"GEDI02_B.002\"]\n",
    "product = avail_products[2]"
   ]
  },
  {
   "cell_type": "code",
   "execution_count": 175,
   "id": "0d34ebf1-7e47-4cc7-8cea-75bc40b71555",
   "metadata": {},
   "outputs": [],
   "source": [
    "import requests\n",
    "from bs4 import BeautifulSoup\n",
    "url = f\"https://e4ftl01.cr.usgs.gov/GEDI/{product}/\""
   ]
  },
  {
   "cell_type": "code",
   "execution_count": 282,
   "id": "29490436-390c-4e94-922e-700349f1802d",
   "metadata": {},
   "outputs": [],
   "source": [
    "l3l4_products = [\"GEDI_L3_LandSurface_Metrics_V2\",\"GEDI_L4A_AGB_Density_V2_1\",\"GEDI_L4B_Gridded_Biomass\"]\n",
    "product = l3l4_products[0]\n",
    "url = f\"https://daac.ornl.gov/daacdata/gedi/{product}/\""
   ]
  },
  {
   "cell_type": "code",
   "execution_count": 232,
   "id": "7ed94318-2ae7-4817-94c1-dbc32174cbe5",
   "metadata": {},
   "outputs": [
    {
     "data": {
      "text/plain": [
       "'https://daac.ornl.gov/daacdata/gedi/GEDI_L4A_AGB_Density_V2_1/'"
      ]
     },
     "execution_count": 232,
     "metadata": {},
     "output_type": "execute_result"
    }
   ],
   "source": [
    "url"
   ]
  },
  {
   "cell_type": "code",
   "execution_count": 233,
   "id": "54df9123-0377-41aa-9ba0-df8896f1c90e",
   "metadata": {},
   "outputs": [],
   "source": [
    "response = requests.get(url)\n",
    "next_level_links = []\n",
    "valid=False\n",
    "if response.status_code == 200:\n",
    "    soup = BeautifulSoup(response.content, 'html.parser')\n",
    "    links = soup.find_all('a', href=True)  # find all <a> elements with href attribute\n",
    "    for link in links:\n",
    "        if valid:\n",
    "            next_level_links.append(url+link['href'])\n",
    "        if link.get_text() == \"Parent Directory\":\n",
    "            valid=True\n",
    "else:\n",
    "    print(\"Failed to retrieve directory listing\")"
   ]
  },
  {
   "cell_type": "code",
   "execution_count": 234,
   "id": "c65f8f22-8c3e-4e20-80d1-9c9987e7ae7d",
   "metadata": {},
   "outputs": [
    {
     "data": {
      "text/plain": [
       "['https://daac.ornl.gov/daacdata/gedi/GEDI_L4A_AGB_Density_V2_1/comp/',\n",
       " 'https://daac.ornl.gov/daacdata/gedi/GEDI_L4A_AGB_Density_V2_1/data/']"
      ]
     },
     "execution_count": 234,
     "metadata": {},
     "output_type": "execute_result"
    }
   ],
   "source": [
    "next_level_links"
   ]
  },
  {
   "cell_type": "code",
   "execution_count": 235,
   "id": "0cf55d70-58f3-4898-8962-750e30fd7c6c",
   "metadata": {},
   "outputs": [],
   "source": [
    "direct_download_links = []\n",
    "def get_file_dict(url):\n",
    "    response = requests.get(url)\n",
    "\n",
    "    if response.status_code == 200:\n",
    "        valid=False\n",
    "        soup = BeautifulSoup(response.content, 'html.parser')\n",
    "        file_dict = {}\n",
    "        links = soup.find_all('a', href=True)\n",
    "        for link in links:\n",
    "            href = link['href']\n",
    "            if link.get_text() == \"Parent Directory\":\n",
    "                valid=True\n",
    "            elif valid:\n",
    "                if href.endswith('/'):\n",
    "                    subdir_url = url + href\n",
    "                    subdir_dict = get_file_dict(subdir_url)  # recursively call get_file_dict for subdirectory\n",
    "                    file_dict.update(subdir_dict)\n",
    "                else:\n",
    "                    direct_download_links.append(url + href)\n",
    "                    file_dict[link.text] = url + href\n",
    "        return file_dict\n",
    "    else:\n",
    "        print(f\"Failed to retrieve directory listing for {url}\")\n",
    "        return {}"
   ]
  },
  {
   "cell_type": "code",
   "execution_count": 236,
   "id": "ba5c7294-77ee-4de2-9c46-75b839bad559",
   "metadata": {},
   "outputs": [],
   "source": [
    "import tqdm"
   ]
  },
  {
   "cell_type": "code",
   "execution_count": 237,
   "id": "ad7891c7-8be3-45b4-8b5a-53e2cab37316",
   "metadata": {},
   "outputs": [
    {
     "name": "stderr",
     "output_type": "stream",
     "text": [
      "100%|███████████████████████████████████| 2/2 [00:30<00:00, 15.08s/it]\n"
     ]
    }
   ],
   "source": [
    "for l in tqdm.tqdm(next_level_links):\n",
    "    day_file_dict = get_file_dict(l)\n",
    "    #print(len(day_file_dict))"
   ]
  },
  {
   "cell_type": "code",
   "execution_count": 214,
   "id": "16e0e096-97b9-47ac-bdcc-443f28885d9d",
   "metadata": {},
   "outputs": [],
   "source": [
    "\n",
    "#product_file_dict = get_file_dict(url)"
   ]
  },
  {
   "cell_type": "code",
   "execution_count": 238,
   "id": "6d7b5bdd-0ab8-4fbe-96fd-863c0055e5c9",
   "metadata": {},
   "outputs": [
    {
     "data": {
      "text/plain": [
       "70701"
      ]
     },
     "execution_count": 238,
     "metadata": {},
     "output_type": "execute_result"
    }
   ],
   "source": [
    "len(direct_download_links)"
   ]
  },
  {
   "cell_type": "code",
   "execution_count": null,
   "id": "eef62194-17d9-4499-ae92-8597380e4da8",
   "metadata": {},
   "outputs": [],
   "source": [
    "direct_download_links"
   ]
  },
  {
   "cell_type": "code",
   "execution_count": 240,
   "id": "09c1595a-5178-44bc-b96a-7f2b41c040b6",
   "metadata": {},
   "outputs": [],
   "source": [
    "today_s = datetime.datetime.now().date().strftime(\"%m-%d-%Y\")\n",
    "init_inventory = pd.DataFrame({'file_location':direct_download_links,'cache':'no','last_check':''})"
   ]
  },
  {
   "cell_type": "code",
   "execution_count": 241,
   "id": "a1302067-82c1-4836-b478-6a623e71d701",
   "metadata": {},
   "outputs": [
    {
     "data": {
      "text/html": [
       "<div>\n",
       "<style scoped>\n",
       "    .dataframe tbody tr th:only-of-type {\n",
       "        vertical-align: middle;\n",
       "    }\n",
       "\n",
       "    .dataframe tbody tr th {\n",
       "        vertical-align: top;\n",
       "    }\n",
       "\n",
       "    .dataframe thead th {\n",
       "        text-align: right;\n",
       "    }\n",
       "</style>\n",
       "<table border=\"1\" class=\"dataframe\">\n",
       "  <thead>\n",
       "    <tr style=\"text-align: right;\">\n",
       "      <th></th>\n",
       "      <th>file_location</th>\n",
       "      <th>cache</th>\n",
       "      <th>last_check</th>\n",
       "    </tr>\n",
       "  </thead>\n",
       "  <tbody>\n",
       "    <tr>\n",
       "      <th>0</th>\n",
       "      <td>https://daac.ornl.gov/daacdata/gedi/GEDI_L4A_A...</td>\n",
       "      <td>no</td>\n",
       "      <td></td>\n",
       "    </tr>\n",
       "    <tr>\n",
       "      <th>1</th>\n",
       "      <td>https://daac.ornl.gov/daacdata/gedi/GEDI_L4A_A...</td>\n",
       "      <td>no</td>\n",
       "      <td></td>\n",
       "    </tr>\n",
       "    <tr>\n",
       "      <th>2</th>\n",
       "      <td>https://daac.ornl.gov/daacdata/gedi/GEDI_L4A_A...</td>\n",
       "      <td>no</td>\n",
       "      <td></td>\n",
       "    </tr>\n",
       "    <tr>\n",
       "      <th>3</th>\n",
       "      <td>https://daac.ornl.gov/daacdata/gedi/GEDI_L4A_A...</td>\n",
       "      <td>no</td>\n",
       "      <td></td>\n",
       "    </tr>\n",
       "    <tr>\n",
       "      <th>4</th>\n",
       "      <td>https://daac.ornl.gov/daacdata/gedi/GEDI_L4A_A...</td>\n",
       "      <td>no</td>\n",
       "      <td></td>\n",
       "    </tr>\n",
       "    <tr>\n",
       "      <th>...</th>\n",
       "      <td>...</td>\n",
       "      <td>...</td>\n",
       "      <td>...</td>\n",
       "    </tr>\n",
       "    <tr>\n",
       "      <th>70696</th>\n",
       "      <td>https://daac.ornl.gov/daacdata/gedi/GEDI_L4A_A...</td>\n",
       "      <td>no</td>\n",
       "      <td></td>\n",
       "    </tr>\n",
       "    <tr>\n",
       "      <th>70697</th>\n",
       "      <td>https://daac.ornl.gov/daacdata/gedi/GEDI_L4A_A...</td>\n",
       "      <td>no</td>\n",
       "      <td></td>\n",
       "    </tr>\n",
       "    <tr>\n",
       "      <th>70698</th>\n",
       "      <td>https://daac.ornl.gov/daacdata/gedi/GEDI_L4A_A...</td>\n",
       "      <td>no</td>\n",
       "      <td></td>\n",
       "    </tr>\n",
       "    <tr>\n",
       "      <th>70699</th>\n",
       "      <td>https://daac.ornl.gov/daacdata/gedi/GEDI_L4A_A...</td>\n",
       "      <td>no</td>\n",
       "      <td></td>\n",
       "    </tr>\n",
       "    <tr>\n",
       "      <th>70700</th>\n",
       "      <td>https://daac.ornl.gov/daacdata/gedi/GEDI_L4A_A...</td>\n",
       "      <td>no</td>\n",
       "      <td></td>\n",
       "    </tr>\n",
       "  </tbody>\n",
       "</table>\n",
       "<p>70701 rows × 3 columns</p>\n",
       "</div>"
      ],
      "text/plain": [
       "                                           file_location cache last_check\n",
       "0      https://daac.ornl.gov/daacdata/gedi/GEDI_L4A_A...    no           \n",
       "1      https://daac.ornl.gov/daacdata/gedi/GEDI_L4A_A...    no           \n",
       "2      https://daac.ornl.gov/daacdata/gedi/GEDI_L4A_A...    no           \n",
       "3      https://daac.ornl.gov/daacdata/gedi/GEDI_L4A_A...    no           \n",
       "4      https://daac.ornl.gov/daacdata/gedi/GEDI_L4A_A...    no           \n",
       "...                                                  ...   ...        ...\n",
       "70696  https://daac.ornl.gov/daacdata/gedi/GEDI_L4A_A...    no           \n",
       "70697  https://daac.ornl.gov/daacdata/gedi/GEDI_L4A_A...    no           \n",
       "70698  https://daac.ornl.gov/daacdata/gedi/GEDI_L4A_A...    no           \n",
       "70699  https://daac.ornl.gov/daacdata/gedi/GEDI_L4A_A...    no           \n",
       "70700  https://daac.ornl.gov/daacdata/gedi/GEDI_L4A_A...    no           \n",
       "\n",
       "[70701 rows x 3 columns]"
      ]
     },
     "execution_count": 241,
     "metadata": {},
     "output_type": "execute_result"
    }
   ],
   "source": [
    "init_inventory"
   ]
  },
  {
   "cell_type": "code",
   "execution_count": 242,
   "id": "9c3c2de2-2cf5-47dc-8caf-1e5753b1d8f7",
   "metadata": {},
   "outputs": [],
   "source": [
    "init_inventory.to_csv(f'../../data/gedi/inventory_{product}_latest.csv',index=False)"
   ]
  },
  {
   "cell_type": "markdown",
   "id": "f6adde7d-e9fd-4386-9927-0bc214f63a77",
   "metadata": {},
   "source": [
    "### GEDI finder\n",
    "https://git.earthdata.nasa.gov/projects/LPDUR/repos/gedi-finder-tutorial-python/browse/GEDI_Finder.py"
   ]
  },
  {
   "cell_type": "code",
   "execution_count": 2,
   "id": "8281ad26-b3fd-4989-b457-bf1eee862436",
   "metadata": {},
   "outputs": [],
   "source": [
    "import requests as r\n",
    "from datetime import datetime\n",
    "import os"
   ]
  },
  {
   "cell_type": "code",
   "execution_count": 4,
   "id": "346bc79d-742a-4326-a796-e3ab95c1ab10",
   "metadata": {},
   "outputs": [
    {
     "name": "stdout",
     "output_type": "stream",
     "text": [
      "24 GEDI01_B.002 Version 2 granules found.\n"
     ]
    }
   ],
   "source": [
    "##################################### Define Function to Query CMR ################################\n",
    "def gedi_finder(product, bbox):\n",
    "    \n",
    "    # Define the base CMR granule search url, including LPDAAC provider name and max page size (2000 is the max allowed)\n",
    "    cmr = \"https://cmr.earthdata.nasa.gov/search/granules.json?pretty=true&provider=LPDAAC_ECS&page_size=2000&concept_id=\"\n",
    "    \n",
    "    # Set up dictionary where key is GEDI shortname + version and value is CMR Concept ID\n",
    "    concept_ids = {'GEDI01_B.002': 'C1908344278-LPDAAC_ECS', \n",
    "                   'GEDI02_A.002': 'C1908348134-LPDAAC_ECS', \n",
    "                   'GEDI02_B.002': 'C1908350066-LPDAAC_ECS'}\n",
    "    \n",
    "    # CMR uses pagination for queries with more features returned than the page size\n",
    "    page = 1\n",
    "    bbox = bbox.replace(' ', '')  # Remove any white spaces\n",
    "    try:\n",
    "        # Send GET request to CMR granule search endpoint w/ product concept ID, bbox & page number, format return as json\n",
    "        cmr_response = r.get(f\"{cmr}{concept_ids[product]}&bounding_box={bbox}&pageNum={page}\").json()['feed']['entry']\n",
    "        \n",
    "        # If 2000 features are returned, move to the next page and submit another request, and append to the response\n",
    "        while len(cmr_response) % 2000 == 0:\n",
    "            page += 1\n",
    "            cmr_response += r.get(f\"{cmr}{concept_ids[product]}&bounding_box={bbox}&pageNum={page}\").json()['feed']['entry']\n",
    "        \n",
    "        # CMR returns more info than just the Data Pool links, below use list comprehension to return a list of DP links\n",
    "        return [c['links'][0]['href'] for c in cmr_response]\n",
    "    except:\n",
    "        # If the request did not complete successfully, print out the response from CMR\n",
    "        print(r.get(f\"{cmr}{concept_ids[product]}&bounding_box={bbox.replace(' ', '')}&pageNum={page}\").json())\n",
    "        \n",
    "################################ Execute GEDI Finder Function #####################################\n",
    "# User-provided inputs (UPDATE FOR YOUR DESIRED PRODUCT AND BOUNDING BOX REGION OF INTEREST)\n",
    "product = 'GEDI01_B.002'           # Options include 'GEDI01_B.002', 'GEDI02_A.002', 'GEDI02_B.002'\n",
    "#bbox = '-73.65,-12.64,-47.81,9.7'  # bounding box coordinates in LL Longitude, LL Latitude, UR Longitude, UR Latitude format\n",
    "bbox = '-76.964657,38.978967,-76.928008,39.002783'\n",
    "# Call the gedi_finder function using the user-provided inputs\n",
    "granules = gedi_finder(product, bbox)\n",
    "print(f\"{len(granules)} {product} Version 2 granules found.\")\n",
    "\n",
    "#################################### Export Results ###############################################\n",
    "# Set up output textfile name using the current datetime\n",
    "outName = f\"{product.replace('.', '_')}_GranuleList_{datetime.now().strftime('%Y%m%d%H%M%S')}.txt\"\n",
    "\n",
    "# Open file and write each granule link on a new line\n",
    "with open(outName, \"w\") as gf:\n",
    "    for g in granules:\n",
    "        gf.write(f\"{g}\\n\")"
   ]
  },
  {
   "cell_type": "code",
   "execution_count": 5,
   "id": "a26b3212-f080-4031-91c5-e0bde6ed6a2a",
   "metadata": {},
   "outputs": [],
   "source": [
    "#retrieve stac information\n",
    "\n",
    "# User-provided inputs (UPDATE FOR YOUR DESIRED PRODUCT AND BOUNDING BOX REGION OF INTEREST)\n",
    "product = 'GEDI01_B.002'           # Options include 'GEDI01_B.002', 'GEDI02_A.002', 'GEDI02_B.002'\n",
    "#bbox = '-73.65,-12.64,-47.81,9.7'  # bounding box coordinates in LL Longitude, LL Latitude, UR Longitude, UR Latitude format\n",
    "bbox = '-76.964657,38.978967,-76.928008,39.002783'\n",
    "\n",
    "# Define the base CMR granule search url, including LPDAAC provider name and max page size (2000 is the max allowed)\n",
    "cmr = \"https://cmr.earthdata.nasa.gov/search/granules.json?pretty=true&provider=LPDAAC_ECS&page_size=2000&concept_id=\"\n",
    "\n",
    "# Set up dictionary where key is GEDI shortname + version and value is CMR Concept ID\n",
    "concept_ids = {'GEDI01_B.002': 'C1908344278-LPDAAC_ECS', \n",
    "               'GEDI02_A.002': 'C1908348134-LPDAAC_ECS', \n",
    "               'GEDI02_B.002': 'C1908350066-LPDAAC_ECS'}\n",
    "# CMR uses pagination for queries with more features returned than the page size\n",
    "page = 1\n",
    "bbox = bbox.replace(' ', '')  # Remove any white spaces\n",
    "# Send GET request to CMR granule search endpoint w/ product concept ID, bbox & page number, format return as json\n",
    "cmr_response = r.get(f\"{cmr}{concept_ids[product]}&bounding_box={bbox}&pageNum={page}\",headers={'Accept':\"application/json; profile=stac-catalogue\"})\n"
   ]
  },
  {
   "cell_type": "code",
   "execution_count": null,
   "id": "9b19a6e8-485e-454e-a079-779e12ae0bff",
   "metadata": {},
   "outputs": [],
   "source": [
    "cmr_response.json()['feed']['entry']"
   ]
  },
  {
   "cell_type": "markdown",
   "id": "2afd1145-5526-40ef-a4ae-591083c9907d",
   "metadata": {},
   "source": [
    "## Inventory check"
   ]
  },
  {
   "cell_type": "code",
   "execution_count": 298,
   "id": "8fd08969-ffc9-44ca-8ba6-dfcf46dfe915",
   "metadata": {},
   "outputs": [
    {
     "data": {
      "text/plain": [
       "['GEDI01_B.002', 'GEDI02_A.002', 'GEDI02_B.002']"
      ]
     },
     "execution_count": 298,
     "metadata": {},
     "output_type": "execute_result"
    }
   ],
   "source": [
    "[\"GEDI01_B.002\",\"GEDI02_A.002\",\"GEDI02_B.002\"]"
   ]
  },
  {
   "cell_type": "code",
   "execution_count": null,
   "id": "b668c209-bdba-4be9-8836-cfbd8f65aa2a",
   "metadata": {},
   "outputs": [],
   "source": [
    "[\"GEDI_L3_LandSurface_Metrics_V2\",\"GEDI_L4A_AGB_Density_V2_1\",\"GEDI_L4B_Gridded_Biomass\"]"
   ]
  },
  {
   "cell_type": "code",
   "execution_count": 436,
   "id": "98d25ae9-aae8-4f4c-bbec-4a5674fa883c",
   "metadata": {},
   "outputs": [],
   "source": [
    "product = \"GEDI02_B.002\""
   ]
  },
  {
   "cell_type": "code",
   "execution_count": 437,
   "id": "2a468512-40de-4e7b-b254-d425b0ec0abb",
   "metadata": {},
   "outputs": [],
   "source": [
    "inventory = pd.read_csv(f'../../data/gedi/inventory_{product}_latest.csv')"
   ]
  },
  {
   "cell_type": "code",
   "execution_count": 438,
   "id": "e6b9b791-f36b-46de-b22f-6a9a5ce725c2",
   "metadata": {},
   "outputs": [],
   "source": [
    "local_cache_root = \"../../../daac_data_download_python/data/\""
   ]
  },
  {
   "cell_type": "code",
   "execution_count": 439,
   "id": "3c061235-8e3a-4b61-966d-12349b0cf1c6",
   "metadata": {},
   "outputs": [
    {
     "data": {
      "text/plain": [
       "'GEDI02_B.002'"
      ]
     },
     "execution_count": 439,
     "metadata": {},
     "output_type": "execute_result"
    }
   ],
   "source": [
    "product"
   ]
  },
  {
   "cell_type": "code",
   "execution_count": 440,
   "id": "9985101e-5bab-4a1a-ad83-8b7d328c3fd1",
   "metadata": {},
   "outputs": [],
   "source": [
    "def check_file(x,product):\n",
    "    fp = local_cache_root+product+x.split(product)[1]\n",
    "    #print(fp)\n",
    "    return 'yes' if os.path.isfile(fp) else 'no'"
   ]
  },
  {
   "cell_type": "code",
   "execution_count": 390,
   "id": "48f77e16-2d39-4e05-9061-5b6bd2ca10d5",
   "metadata": {},
   "outputs": [],
   "source": [
    "def check_file(x,product):\n",
    "    fp = local_cache_root+product+x.split(\"gedi/\"+product)[1]\n",
    "    #print(fp)\n",
    "    return 'yes' if os.path.isfile(fp) else 'no'"
   ]
  },
  {
   "cell_type": "code",
   "execution_count": 448,
   "id": "3514b4eb-f335-4b0e-9f8f-e2fa3a1ce227",
   "metadata": {},
   "outputs": [],
   "source": [
    "inventory['cache'] =inventory.file_location.map(lambda x:check_file(x,product))"
   ]
  },
  {
   "cell_type": "code",
   "execution_count": 449,
   "id": "83ef9400-a51a-4dd6-8362-db8e519e0510",
   "metadata": {},
   "outputs": [],
   "source": [
    "today_s = datetime.datetime.now().date().strftime(\"%m-%d-%Y\")\n",
    "inventory.loc[inventory.cache==\"yes\",'last_check']=today_s"
   ]
  },
  {
   "cell_type": "code",
   "execution_count": 450,
   "id": "7c69ec55-e1ce-4c8e-bab6-0aae89aad7fc",
   "metadata": {},
   "outputs": [
    {
     "data": {
      "text/html": [
       "<div>\n",
       "<style scoped>\n",
       "    .dataframe tbody tr th:only-of-type {\n",
       "        vertical-align: middle;\n",
       "    }\n",
       "\n",
       "    .dataframe tbody tr th {\n",
       "        vertical-align: top;\n",
       "    }\n",
       "\n",
       "    .dataframe thead th {\n",
       "        text-align: right;\n",
       "    }\n",
       "</style>\n",
       "<table border=\"1\" class=\"dataframe\">\n",
       "  <thead>\n",
       "    <tr style=\"text-align: right;\">\n",
       "      <th></th>\n",
       "      <th>file_location</th>\n",
       "      <th>cache</th>\n",
       "      <th>last_check</th>\n",
       "    </tr>\n",
       "  </thead>\n",
       "  <tbody>\n",
       "    <tr>\n",
       "      <th>0</th>\n",
       "      <td>https://e4ftl01.cr.usgs.gov/GEDI/GEDI02_B.002/...</td>\n",
       "      <td>yes</td>\n",
       "      <td>05-02-2023</td>\n",
       "    </tr>\n",
       "    <tr>\n",
       "      <th>1</th>\n",
       "      <td>https://e4ftl01.cr.usgs.gov/GEDI/GEDI02_B.002/...</td>\n",
       "      <td>yes</td>\n",
       "      <td>05-02-2023</td>\n",
       "    </tr>\n",
       "    <tr>\n",
       "      <th>2</th>\n",
       "      <td>https://e4ftl01.cr.usgs.gov/GEDI/GEDI02_B.002/...</td>\n",
       "      <td>yes</td>\n",
       "      <td>05-02-2023</td>\n",
       "    </tr>\n",
       "    <tr>\n",
       "      <th>3</th>\n",
       "      <td>https://e4ftl01.cr.usgs.gov/GEDI/GEDI02_B.002/...</td>\n",
       "      <td>yes</td>\n",
       "      <td>05-02-2023</td>\n",
       "    </tr>\n",
       "    <tr>\n",
       "      <th>4</th>\n",
       "      <td>https://e4ftl01.cr.usgs.gov/GEDI/GEDI02_B.002/...</td>\n",
       "      <td>yes</td>\n",
       "      <td>05-02-2023</td>\n",
       "    </tr>\n",
       "    <tr>\n",
       "      <th>...</th>\n",
       "      <td>...</td>\n",
       "      <td>...</td>\n",
       "      <td>...</td>\n",
       "    </tr>\n",
       "    <tr>\n",
       "      <th>209569</th>\n",
       "      <td>https://e4ftl01.cr.usgs.gov/GEDI/GEDI02_B.002/...</td>\n",
       "      <td>yes</td>\n",
       "      <td>05-02-2023</td>\n",
       "    </tr>\n",
       "    <tr>\n",
       "      <th>209570</th>\n",
       "      <td>https://e4ftl01.cr.usgs.gov/GEDI/GEDI02_B.002/...</td>\n",
       "      <td>yes</td>\n",
       "      <td>05-02-2023</td>\n",
       "    </tr>\n",
       "    <tr>\n",
       "      <th>209571</th>\n",
       "      <td>https://e4ftl01.cr.usgs.gov/GEDI/GEDI02_B.002/...</td>\n",
       "      <td>yes</td>\n",
       "      <td>05-02-2023</td>\n",
       "    </tr>\n",
       "    <tr>\n",
       "      <th>209572</th>\n",
       "      <td>https://e4ftl01.cr.usgs.gov/GEDI/GEDI02_B.002/...</td>\n",
       "      <td>yes</td>\n",
       "      <td>05-02-2023</td>\n",
       "    </tr>\n",
       "    <tr>\n",
       "      <th>209573</th>\n",
       "      <td>https://e4ftl01.cr.usgs.gov/GEDI/GEDI02_B.002/...</td>\n",
       "      <td>yes</td>\n",
       "      <td>05-02-2023</td>\n",
       "    </tr>\n",
       "  </tbody>\n",
       "</table>\n",
       "<p>209574 rows × 3 columns</p>\n",
       "</div>"
      ],
      "text/plain": [
       "                                            file_location cache  last_check\n",
       "0       https://e4ftl01.cr.usgs.gov/GEDI/GEDI02_B.002/...   yes  05-02-2023\n",
       "1       https://e4ftl01.cr.usgs.gov/GEDI/GEDI02_B.002/...   yes  05-02-2023\n",
       "2       https://e4ftl01.cr.usgs.gov/GEDI/GEDI02_B.002/...   yes  05-02-2023\n",
       "3       https://e4ftl01.cr.usgs.gov/GEDI/GEDI02_B.002/...   yes  05-02-2023\n",
       "4       https://e4ftl01.cr.usgs.gov/GEDI/GEDI02_B.002/...   yes  05-02-2023\n",
       "...                                                   ...   ...         ...\n",
       "209569  https://e4ftl01.cr.usgs.gov/GEDI/GEDI02_B.002/...   yes  05-02-2023\n",
       "209570  https://e4ftl01.cr.usgs.gov/GEDI/GEDI02_B.002/...   yes  05-02-2023\n",
       "209571  https://e4ftl01.cr.usgs.gov/GEDI/GEDI02_B.002/...   yes  05-02-2023\n",
       "209572  https://e4ftl01.cr.usgs.gov/GEDI/GEDI02_B.002/...   yes  05-02-2023\n",
       "209573  https://e4ftl01.cr.usgs.gov/GEDI/GEDI02_B.002/...   yes  05-02-2023\n",
       "\n",
       "[209574 rows x 3 columns]"
      ]
     },
     "execution_count": 450,
     "metadata": {},
     "output_type": "execute_result"
    }
   ],
   "source": [
    "inventory"
   ]
  },
  {
   "cell_type": "code",
   "execution_count": 451,
   "id": "ec5c2be6-97d1-4385-bd3b-0b1695b34c95",
   "metadata": {},
   "outputs": [
    {
     "data": {
      "text/plain": [
       "yes    209574\n",
       "Name: cache, dtype: int64"
      ]
     },
     "execution_count": 451,
     "metadata": {},
     "output_type": "execute_result"
    }
   ],
   "source": [
    "inventory.cache.value_counts()"
   ]
  },
  {
   "cell_type": "code",
   "execution_count": 452,
   "id": "71bf6d69-b5f3-46fd-8ab1-c53d1da79d31",
   "metadata": {},
   "outputs": [],
   "source": [
    "inventory.to_csv(f'../../data/gedi/inventory_{product}_latest.csv',index=False)"
   ]
  },
  {
   "cell_type": "markdown",
   "id": "1ad5c20c-4ddb-4242-bd8f-b743c8569a07",
   "metadata": {},
   "source": [
    "## Cache to local\n"
   ]
  },
  {
   "cell_type": "code",
   "execution_count": 86,
   "id": "5b004336-993b-4195-942c-13506b0dd88b",
   "metadata": {},
   "outputs": [],
   "source": [
    "# Load necessary packages into Python\n",
    "from subprocess import Popen\n",
    "from getpass import getpass\n",
    "from netrc import netrc\n",
    "import argparse\n",
    "import time\n",
    "import os\n",
    "import requests"
   ]
  },
  {
   "cell_type": "code",
   "execution_count": null,
   "id": "9cbcb184-52d9-4330-9c79-355b39a02c33",
   "metadata": {},
   "outputs": [],
   "source": [
    "# ----------------------------------USER-DEFINED VARIABLES--------------------------------------- #\n",
    "# Set up command line arguments\n",
    "parser = argparse.ArgumentParser(formatter_class=argparse.ArgumentDefaultsHelpFormatter)\n",
    "parser.add_argument('-dir', '--directory', required=True, help='Specify directory to save files to')\n",
    "parser.add_argument('-f', '--files', required=True, help='A single granule URL, or the location of csv or textfile containing granule URLs')\n",
    "args = parser.parse_args()\n",
    "\n",
    "saveDir = args.directory  # Set local directory to download to\n",
    "files = args.files        # Define file(s) to download from the LP DAAC Data Pool\n",
    "prompts = ['Enter NASA Earthdata Login Username \\n(or create an account at urs.earthdata.nasa.gov): ',\n",
    "           'Enter NASA Earthdata Login Password: ']"
   ]
  },
  {
   "cell_type": "code",
   "execution_count": null,
   "id": "4492ac97-1227-42a6-a9f0-8bf5a2f23391",
   "metadata": {},
   "outputs": [],
   "source": [
    "# ---------------------------------SET UP WORKSPACE---------------------------------------------- #\n",
    "# Create a list of files to download based on input type of files above\n",
    "if files.endswith('.txt') or files.endswith('.csv'):\n",
    "    fileList = open(files, 'r').readlines()  # If input is textfile w file URLs\n",
    "elif isinstance(files, str):\n",
    "    fileList = [files]                       # If input is a single file\n",
    "\n",
    "# Generalize download directory\n",
    "if saveDir[-1] != '/' and saveDir[-1] != '\\\\':\n",
    "    saveDir = saveDir.strip(\"'\").strip('\"') + os.sep"
   ]
  },
  {
   "cell_type": "code",
   "execution_count": 89,
   "id": "09402745-bba1-4cb1-aaec-8be2620b8c2b",
   "metadata": {},
   "outputs": [],
   "source": [
    "urs = 'urs.earthdata.nasa.gov'    # Address to call for authentication\n",
    "\n",
    "# --------------------------------AUTHENTICATION CONFIGURATION----------------------------------- #\n",
    "# Determine if netrc file exists, and if so, if it includes NASA Earthdata Login Credentials\n",
    "try:\n",
    "    netrcDir = os.path.expanduser(\"~/.netrc\")\n",
    "    netrc(netrcDir).authenticators(urs)[0]\n",
    "\n",
    "# Below, create a netrc file and prompt user for NASA Earthdata Login Username and Password\n",
    "except FileNotFoundError:\n",
    "    homeDir = os.path.expanduser(\"~\")\n",
    "    Popen('touch {0}.netrc | chmod og-rw {0}.netrc | echo machine {1} >> {0}.netrc'.format(homeDir + os.sep, urs), shell=True)\n",
    "    Popen('echo login {} >> {}.netrc'.format(getpass(prompt=prompts[0]), homeDir + os.sep), shell=True)\n",
    "    Popen('echo password {} >> {}.netrc'.format(getpass(prompt=prompts[1]), homeDir + os.sep), shell=True)\n",
    "\n",
    "# Determine OS and edit netrc file if it exists but is not set up for NASA Earthdata Login\n",
    "except TypeError:\n",
    "    homeDir = os.path.expanduser(\"~\")\n",
    "    Popen('echo machine {1} >> {0}.netrc'.format(homeDir + os.sep, urs), shell=True)\n",
    "    Popen('echo login {} >> {}.netrc'.format(getpass(prompt=prompts[0]), homeDir + os.sep), shell=True)\n",
    "    Popen('echo password {} >> {}.netrc'.format(getpass(prompt=prompts[1]), homeDir + os.sep), shell=True)\n",
    "\n",
    "# Delay for up to 1 minute to allow user to submit username and password before continuing\n",
    "tries = 0\n",
    "while tries < 30:\n",
    "    try:\n",
    "        netrc(netrcDir).authenticators(urs)[2]\n",
    "    except:\n",
    "        time.sleep(2.0)\n",
    "    tries += 1"
   ]
  },
  {
   "cell_type": "code",
   "execution_count": 93,
   "id": "bc664e61-6369-4482-a93b-ab6183838cad",
   "metadata": {},
   "outputs": [],
   "source": [
    "from pathlib import Path"
   ]
  },
  {
   "cell_type": "code",
   "execution_count": 295,
   "id": "29cd54b0-a004-4701-b07c-3b696153cd74",
   "metadata": {},
   "outputs": [],
   "source": [
    "tasks = inventory.query('cache==\"no\"')"
   ]
  },
  {
   "cell_type": "code",
   "execution_count": 296,
   "id": "ff9cd58b-26f2-4105-9c6b-086c7411a488",
   "metadata": {},
   "outputs": [],
   "source": [
    "fileList = tasks.file_location[0:10000].tolist()"
   ]
  },
  {
   "cell_type": "code",
   "execution_count": 108,
   "id": "5690a1b8-aa2a-4e9d-8d47-19595ebf567c",
   "metadata": {},
   "outputs": [],
   "source": [
    "import warnings\n",
    "warnings.filterwarnings(\"ignore\")"
   ]
  },
  {
   "cell_type": "code",
   "execution_count": 297,
   "id": "a6035653-c108-400e-a275-d798eff87cb6",
   "metadata": {},
   "outputs": [
    {
     "data": {
      "text/plain": [
       "['https://daac.ornl.gov/daacdata/gedi/GEDI_L3_LandSurface_Metrics_V2/comp/GEDI_L3_LandSurface_Metrics_V2.pdf']"
      ]
     },
     "execution_count": 297,
     "metadata": {},
     "output_type": "execute_result"
    }
   ],
   "source": [
    "fileList"
   ]
  },
  {
   "cell_type": "code",
   "execution_count": 275,
   "id": "576e094f-0a42-41f0-bf59-6490e954b24c",
   "metadata": {},
   "outputs": [
    {
     "name": "stdout",
     "output_type": "stream",
     "text": [
      "401\n",
      "GEDI_ATBD_L4A_v1.0.pdf not downloaded. Verify that your username and password are correct in /home/liuz/.netrc\n"
     ]
    }
   ],
   "source": [
    "f = fileList[0]\n",
    "saveName = local_cache_root+product+f.split(product)[1]\n",
    "if not Path(saveName).parent.exists():\n",
    "    Path(saveName).parent.mkdir(parents=True)\n",
    "\n",
    "# Create and submit request and download file\n",
    "with requests.get(f.strip(), verify=True, stream=True, auth=(netrc(netrcDir).authenticators(urs)[0], netrc(netrcDir).authenticators(urs)[2])) as response:\n",
    "    if response.status_code != 200:\n",
    "        print(response.status_code)\n",
    "        print(\"{} not downloaded. Verify that your username and password are correct in {}\".format(f.split('/')[-1].strip(), netrcDir))\n",
    "    else:\n",
    "        response.raw.decode_content = True\n",
    "        content = response.raw\n",
    "        with open(saveName, 'wb') as d:\n",
    "            while True:\n",
    "                chunk = content.read(16 * 1024)\n",
    "                if not chunk:\n",
    "                    break\n",
    "                d.write(chunk)"
   ]
  },
  {
   "cell_type": "code",
   "execution_count": 278,
   "id": "1223ad44-c697-408f-97b5-97b62da2fe54",
   "metadata": {},
   "outputs": [],
   "source": [
    "#!/usr/bin/python\n",
    "from http.cookiejar import CookieJar\n",
    "from urllib.parse import urlencode\n",
    " \n",
    "import urllib.request as urllib\n",
    " \n",
    "# The user credentials that will be used to authenticate access to the data\n",
    " \n",
    "username = netrc(netrcDir).authenticators(urs)[0]\n",
    "password = netrc(netrcDir).authenticators(urs)[2]\n",
    "\n",
    "# The url of the file we wish to retrieve\n",
    "\n",
    "#url = \"http://e4ftl01.cr.usgs.gov/MOLA/MYD17A3H.006/2009.01.01/MYD17A3H.A2009001.h12v05.006.2015198130546.hdf.xml\"\n",
    "\n",
    "# Create a password manager to deal with the 401 reponse that is returned from\n",
    "# Earthdata Login\n",
    " \n",
    "password_manager = urllib.HTTPPasswordMgrWithDefaultRealm()\n",
    "password_manager.add_password(None, \"https://urs.earthdata.nasa.gov\", username, password)\n",
    " \n",
    "# Create a cookie jar for storing cookies. This is used to store and return\n",
    "# the session cookie given to use by the data server (otherwise it will just\n",
    "# keep sending us back to Earthdata Login to authenticate).  Ideally, we\n",
    "# should use a file based cookie jar to preserve cookies between runs. This\n",
    "# will make it much more efficient.\n",
    " \n",
    "cookie_jar = CookieJar()\n",
    "  \n",
    "\n",
    "# Install all the handlers.\n",
    " \n",
    "opener = urllib.build_opener(\n",
    "    urllib.HTTPBasicAuthHandler(password_manager),\n",
    "    #urllib2.HTTPHandler(debuglevel=1),    # Uncomment these two lines to see\n",
    "    #urllib2.HTTPSHandler(debuglevel=1),   # details of the requests/responses\n",
    "    urllib.HTTPCookieProcessor(cookie_jar))\n",
    "urllib.install_opener(opener)\n",
    "\n",
    "# Create and submit the request. There are a wide range of exceptions that\n",
    "# can be thrown here, including HTTPError and URLError. These should be\n",
    "# caught and handled.\n",
    "\n",
    "request = urllib.Request(url)\n",
    "response = urllib.urlopen(request)\n",
    "\n",
    "\n",
    "\n",
    "if response.getcode() != 200:\n",
    "    print(\"{} not downloaded. Verify that your username and password are correct in {}\".format(f.split('/')[-1].strip(), netrcDir))\n",
    "else:\n",
    "    content = response.read()\n",
    "    with open(saveName, 'wb') as d:\n",
    "        d.write(content)"
   ]
  },
  {
   "cell_type": "code",
   "execution_count": null,
   "id": "b9688261-7a65-48af-b98c-7110eaf4eb64",
   "metadata": {},
   "outputs": [],
   "source": [
    "## migrated to python script for parallelization\n",
    "# -----------------------------------------DOWNLOAD FILE(S)-------------------------------------- #\n",
    "# Loop through and download all files to the directory specified above, and keeping same filenames\n",
    "for f in tqdm.tqdm(fileList):\n",
    "    saveName = local_cache_root+product+f.split(product)[1]\n",
    "    if not Path(saveName).parent.exists():\n",
    "        Path(saveName).parent.mkdir()\n",
    "\n",
    "    # Create and submit request and download file\n",
    "    with requests.get(f.strip(), verify=False, stream=True, auth=(netrc(netrcDir).authenticators(urs)[0], netrc(netrcDir).authenticators(urs)[2])) as response:\n",
    "        if response.status_code != 200:\n",
    "            print(\"{} not downloaded. Verify that your username and password are correct in {}\".format(f.split('/')[-1].strip(), netrcDir))\n",
    "        else:\n",
    "            response.raw.decode_content = True\n",
    "            content = response.raw\n",
    "            with open(saveName, 'wb') as d:\n",
    "                while True:\n",
    "                    chunk = content.read(16 * 1024)\n",
    "                    if not chunk:\n",
    "                        break\n",
    "                    d.write(chunk)\n",
    "            #print('Downloaded file: {}'.format(saveName))\n",
    "    #time.sleep(1.0)"
   ]
  },
  {
   "cell_type": "code",
   "execution_count": 353,
   "id": "20f6c273-86a4-4642-aaef-e2f45c7d7b76",
   "metadata": {},
   "outputs": [],
   "source": [
    "import datetime"
   ]
  },
  {
   "cell_type": "code",
   "execution_count": 355,
   "id": "3fcb90ea-4af3-41cc-9149-bf993263f57e",
   "metadata": {},
   "outputs": [
    {
     "name": "stdout",
     "output_type": "stream",
     "text": [
      "2023-04-26 16:16:48.606545\n"
     ]
    }
   ],
   "source": [
    "print(datetime.datetime.now())"
   ]
  },
  {
   "cell_type": "code",
   "execution_count": null,
   "id": "16d34e70-b197-4c46-b0f6-98b9c4389096",
   "metadata": {},
   "outputs": [],
   "source": []
  }
 ],
 "metadata": {
  "kernelspec": {
   "display_name": "Python 3 (ipykernel)",
   "language": "python",
   "name": "python3"
  },
  "language_info": {
   "codemirror_mode": {
    "name": "ipython",
    "version": 3
   },
   "file_extension": ".py",
   "mimetype": "text/x-python",
   "name": "python",
   "nbconvert_exporter": "python",
   "pygments_lexer": "ipython3",
   "version": "3.8.8"
  }
 },
 "nbformat": 4,
 "nbformat_minor": 5
}
