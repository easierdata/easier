{
 "cells": [
  {
   "cell_type": "code",
   "execution_count": null,
   "metadata": {},
   "outputs": [],
   "source": [
    "!pip install boto3"
   ]
  },
  {
   "cell_type": "code",
   "execution_count": null,
   "metadata": {},
   "outputs": [],
   "source": [
    "import boto3\n",
    "from botocore.exceptions import NoCredentialsError\n",
    "from pathlib import Path\n",
    "import pandas as pd\n",
    "\n",
    "\n",
    "ACCESS_KEY = \"\"\n",
    "SECRET_KEY = \"\"\n",
    "\n",
    "PATH_TO_CSV = \"\"\n",
    "car_dir = Path(\"\")\n",
    "\n",
    "s3 = boto3.client('s3', aws_access_key_id=ACCESS_KEY,\n",
    "                      aws_secret_access_key=SECRET_KEY)\n",
    "\n",
    "df = pd.read_csv(PATH_TO_CSV)\n",
    "\n",
    "def upload_to_aws(local_file, bucket, s3_file):\n",
    "    \n",
    "    try:\n",
    "        s3.upload_file(local_file, bucket, s3_file)\n",
    "        print(\"Upload Successful\")\n",
    "        return True\n",
    "    except FileNotFoundError:\n",
    "        print(\"The file was not found\")\n",
    "        return False\n",
    "    except NoCredentialsError:\n",
    "        print(\"Credentials not available\")\n",
    "        return False\n",
    "\n",
    "\n",
    "\n",
    "for idx, row in df.iterrows():\n",
    "  print(\"Index \", idx)\n",
    "  print(row[\"name\"])\n",
    "  car_target = car_dir / str(row[\"file\"])\n",
    "\n",
    "  if not car_target.exists():\n",
    "    print(row[\"name\"])\n",
    "    print(\"does not exists\")\n",
    "    continue\n",
    "\n",
    "  print(str(car_target), '<NAME>', row[\"file\"])\n",
    "  uploaded = upload_to_aws(str(car_target), '<NAME>', row[\"file\"])\n",
    "\n",
    "  if not uploaded:\n",
    "    print(row[\"name\"])\n",
    "    print(\"not uploaded\")"
   ]
  }
 ],
 "metadata": {
  "kernelspec": {
   "display_name": "Python 3.10.7 64-bit",
   "language": "python",
   "name": "python3"
  },
  "language_info": {
   "name": "python",
   "version": "3.10.7"
  },
  "orig_nbformat": 4,
  "vscode": {
   "interpreter": {
    "hash": "b0fa6594d8f4cbf19f97940f81e996739fb7646882a419484c72d19e05852a7e"
   }
  }
 },
 "nbformat": 4,
 "nbformat_minor": 2
}
