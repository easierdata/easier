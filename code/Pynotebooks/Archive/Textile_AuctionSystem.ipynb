{
 "cells": [
  {
   "cell_type": "code",
   "execution_count": 77,
   "metadata": {
    "id": "Rz0tVZsp6_kO"
   },
   "outputs": [],
   "source": [
    "import json\n",
    "import os\n",
    "import time\n",
    "from datetime import datetime, timedelta\n",
    "\n",
    "import pandas as pd\n",
    "import requests\n",
    "from dotenv import load_dotenv\n",
    "\n",
    "load_dotenv()\n",
    "TOKEN = os.getenv(\"TOKEN\")\n",
    "TMPDIR = os.getenv(\"TMPDIR\")\n",
    "DATAROOT = os.getenv(\"DATAROOT\")\n",
    "ENDPOINT = os.getenv(\"ENDPOINT\")\n",
    "# PATH_TO_SCRIPT = \"\"\n",
    "\n",
    "# PATH_TO_CSV = \"\"\n",
    "# NEW_CSV = \"\"\n",
    "dataset = \"\"\n",
    "year = \"2013\"\n",
    "NEW_CSV = f\"{DATAROOT}/{dataset}-CAR_{year}_car_master.csv\""
   ]
  },
  {
   "cell_type": "code",
   "execution_count": null,
   "metadata": {},
   "outputs": [],
   "source": [
    "NEW_CSV = \"\""
   ]
  },
  {
   "cell_type": "code",
   "execution_count": 78,
   "metadata": {
    "id": "MNpvdECaqp3Q"
   },
   "outputs": [],
   "source": [
    "df = pd.read_csv(NEW_CSV, index_col=0)"
   ]
  },
  {
   "cell_type": "code",
   "execution_count": 79,
   "metadata": {},
   "outputs": [],
   "source": [
    "if \"textile_id\" not in df.columns:\n",
    "    df[\"textile_id\"] = \"\""
   ]
  },
  {
   "cell_type": "code",
   "execution_count": null,
   "metadata": {},
   "outputs": [],
   "source": [
    "year"
   ]
  },
  {
   "cell_type": "code",
   "execution_count": null,
   "metadata": {},
   "outputs": [],
   "source": [
    "df"
   ]
  },
  {
   "cell_type": "code",
   "execution_count": 82,
   "metadata": {
    "id": "hJr5TAsryPy5"
   },
   "outputs": [],
   "source": [
    "# Textile ID must have a string data type\n",
    "# df['textile_id'] = \"00\"\n",
    "# df.to_csv(NEW_CSV)"
   ]
  },
  {
   "cell_type": "code",
   "execution_count": null,
   "metadata": {
    "id": "X8IAoKZR8WAR"
   },
   "outputs": [],
   "source": [
    "new_df = df.copy()\n",
    "for idx, row in df.iterrows():\n",
    "    print(\"Index \", idx)\n",
    "    print(row[\"name\"])\n",
    "\n",
    "    if len(str(row[\"textile_id\"])) > 3:\n",
    "        print(\"Exists, Skipping\")\n",
    "    else:\n",
    "        file_name = row[\"file\"]\n",
    "        api_key = TOKEN\n",
    "        # url = f\"\"\n",
    "        url = f\"{ENDPOINT}/{dataset}-CAR/{year}/{file_name}\"  # GEOG Cluster\n",
    "        payload_cid = str(row[\"payload_cid\"])\n",
    "        piece_cid = str(row[\"piece_cid\"])\n",
    "        piece_size = str(row[\"piece_size\"])\n",
    "        next = datetime.now() + timedelta(days=10)\n",
    "        date = str(next.isoformat(timespec=\"seconds\")) + \"-04:00\"\n",
    "        body = {\n",
    "            \"payloadCid\": payload_cid,\n",
    "            \"pieceCid\": piece_cid,\n",
    "            \"pieceSize\": int(round(float(piece_size))),\n",
    "            \"repFactor\": 5,\n",
    "            \"deadline\": date,\n",
    "            \"carURL\": {\"url\": url},\n",
    "        }\n",
    "        headers = {\"Authorization\": f\"Bearer {api_key}\"}\n",
    "        print(body)\n",
    "        response = requests.post(\n",
    "            \"https://broker.staging.textile.dev/auction-data\",\n",
    "            headers=headers,\n",
    "            data=json.dumps(body),\n",
    "        )\n",
    "        print(response)\n",
    "        try:\n",
    "            result = response.json()\n",
    "            id = result.get(\"id\", \"Failure\")\n",
    "        except Exception as e:\n",
    "            print(e)\n",
    "            id = 9999\n",
    "        print(\"Received ID\", id)\n",
    "        print(\"Saving ID\")\n",
    "\n",
    "        new_df.at[idx, \"textile_id\"] = id\n",
    "        new_df.to_csv(NEW_CSV)\n",
    "        print(\"Sleeping...\")\n",
    "        time.sleep(30 * 60)"
   ]
  },
  {
   "cell_type": "code",
   "execution_count": null,
   "metadata": {
    "id": "-WGWILMtHOKV"
   },
   "outputs": [],
   "source": [
    "# Check status of individual auction by targetId\n",
    "target_id = response.json()[\"id\"]\n",
    "headers = {\"Authorization\": f\"Bearer {api_key}\"}\n",
    "new_r = requests.get(\n",
    "    f\"https://broker.staging.textile.dev/storagerequest/{target_id}\", headers=headers\n",
    ")\n",
    "print(new_r.json())"
   ]
  }
 ],
 "metadata": {
  "colab": {
   "collapsed_sections": [],
   "name": "Textile-AuctionSystem.ipynb",
   "provenance": []
  },
  "kernelspec": {
   "display_name": "Python 3.6.8 64-bit",
   "language": "python",
   "name": "python3"
  },
  "language_info": {
   "codemirror_mode": {
    "name": "ipython",
    "version": 3
   },
   "file_extension": ".py",
   "mimetype": "text/x-python",
   "name": "python",
   "nbconvert_exporter": "python",
   "pygments_lexer": "ipython3",
   "version": "3.6.8"
  },
  "vscode": {
   "interpreter": {
    "hash": "916dbcbb3f70747c44a77c7bcd40155683ae19c65e1c03b4aa3499c5328201f1"
   }
  }
 },
 "nbformat": 4,
 "nbformat_minor": 1
}
