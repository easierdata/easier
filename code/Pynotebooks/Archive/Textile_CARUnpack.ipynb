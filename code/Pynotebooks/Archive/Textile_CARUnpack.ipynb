{
 "cells": [
  {
   "cell_type": "code",
   "execution_count": 1,
   "id": "3b37d61a",
   "metadata": {},
   "outputs": [],
   "source": [
    "pow_path = r\"\"  # path to POW executable (obtain from Textile POW Github)"
   ]
  },
  {
   "cell_type": "code",
   "execution_count": 2,
   "id": "08392c02",
   "metadata": {},
   "outputs": [],
   "source": [
    "cid = \"\""
   ]
  },
  {
   "cell_type": "code",
   "execution_count": 8,
   "id": "5ffafd86",
   "metadata": {},
   "outputs": [],
   "source": [
    "path = \"\""
   ]
  },
  {
   "cell_type": "code",
   "execution_count": null,
   "id": "49d063f6",
   "metadata": {},
   "outputs": [],
   "source": [
    "!pip install ndjson"
   ]
  },
  {
   "cell_type": "code",
   "execution_count": 10,
   "id": "7347a4be",
   "metadata": {},
   "outputs": [],
   "source": [
    "import json\n",
    "\n",
    "import Path\n",
    "\n",
    "with Path.open(\"\") as f:\n",
    "    file_cid_map = json.load(f)"
   ]
  },
  {
   "cell_type": "code",
   "execution_count": 15,
   "id": "28857cf9",
   "metadata": {},
   "outputs": [],
   "source": [
    "import ndjson\n",
    "\n",
    "with Path.open(path + \"/@AggregateManifest.ndjson\") as f:\n",
    "    aggregate_json = ndjson.load(f)"
   ]
  },
  {
   "cell_type": "code",
   "execution_count": 17,
   "id": "1a5f1be8",
   "metadata": {},
   "outputs": [],
   "source": [
    "import pandas as pd"
   ]
  },
  {
   "cell_type": "code",
   "execution_count": 22,
   "id": "1ce48ef6",
   "metadata": {},
   "outputs": [],
   "source": [
    "file_cid_df = pd.DataFrame(file_cid_map[\"files\"])"
   ]
  },
  {
   "cell_type": "code",
   "execution_count": 26,
   "id": "0fa7076b",
   "metadata": {},
   "outputs": [],
   "source": [
    "file_dag = pd.DataFrame(aggregate_json[2:]).merge(\n",
    "    file_cid_df, left_on=\"DagCidV0\", right_on=\"Cid\"\n",
    ")[[\"name\", \"PathPrefixes\", \"DagCidV1\"]]"
   ]
  },
  {
   "cell_type": "code",
   "execution_count": null,
   "id": "af92a38a",
   "metadata": {},
   "outputs": [],
   "source": [
    "file_dag.iloc[0, 0], file_dag.iloc[0, 1], file_dag.iloc[0, 2]"
   ]
  },
  {
   "cell_type": "code",
   "execution_count": 36,
   "id": "1f1970d1",
   "metadata": {},
   "outputs": [],
   "source": [
    "def extract_full_path(row):\n",
    "\n",
    "    return path + \"/\" + \"/\".join(row[\"PathPrefixes\"]) + \"/\" + row[\"DagCidV1\"]"
   ]
  },
  {
   "cell_type": "code",
   "execution_count": 38,
   "id": "f3114def",
   "metadata": {},
   "outputs": [],
   "source": [
    "file_dag[\"path\"] = file_dag.apply(lambda x: extract_full_path(x), axis=1)"
   ]
  },
  {
   "cell_type": "code",
   "execution_count": 43,
   "id": "08be5c68",
   "metadata": {},
   "outputs": [],
   "source": [
    "file_dag[\"unpack\"] = file_dag[\"name\"].str.replace(\"\", \"\")"
   ]
  },
  {
   "cell_type": "code",
   "execution_count": null,
   "id": "40229989",
   "metadata": {},
   "outputs": [],
   "source": [
    "file_dag.iloc[0]"
   ]
  },
  {
   "cell_type": "code",
   "execution_count": 56,
   "id": "a4046ded",
   "metadata": {},
   "outputs": [],
   "source": [
    "from pathlib import Path"
   ]
  },
  {
   "cell_type": "code",
   "execution_count": null,
   "id": "2b434330",
   "metadata": {},
   "outputs": [],
   "source": [
    "import subprocess\n",
    "\n",
    "for row in file_dag.iloc[1:].iterrows():\n",
    "    src, dst = row[\"path\"], row[\"unpack\"]\n",
    "    print(f\"mv {src} {dst}\")\n",
    "    res = subprocess.run(\n",
    "        f\"mkdir --parents {Path(dst).parent!s}; cp {src} {dst}\",\n",
    "        shell=True,\n",
    "        capture_output=True,\n",
    "    )\n",
    "    print(res)"
   ]
  },
  {
   "cell_type": "code",
   "execution_count": null,
   "id": "ca552d8e",
   "metadata": {},
   "outputs": [],
   "source": [
    "file_dag"
   ]
  },
  {
   "cell_type": "code",
   "execution_count": null,
   "id": "ed1956fa",
   "metadata": {},
   "outputs": [],
   "source": [
    "file_cid_map[\"files\"]"
   ]
  }
 ],
 "metadata": {
  "kernelspec": {
   "display_name": "Python 3.8.10 ('venv': venv)",
   "language": "python",
   "name": "python3"
  },
  "language_info": {
   "codemirror_mode": {
    "name": "ipython",
    "version": 3
   },
   "file_extension": ".py",
   "mimetype": "text/x-python",
   "name": "python",
   "nbconvert_exporter": "python",
   "pygments_lexer": "ipython3",
   "version": "3.8.10"
  },
  "vscode": {
   "interpreter": {
    "hash": "b576831b488a8de8e804ded287515713baa2a09571a748216473aed04ce0b04b"
   }
  }
 },
 "nbformat": 4,
 "nbformat_minor": 5
}
