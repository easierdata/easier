{
 "cells": [
  {
   "cell_type": "code",
   "execution_count": 4,
   "metadata": {},
   "outputs": [],
   "source": []
  },
  {
   "cell_type": "code",
   "execution_count": 4,
   "metadata": {},
   "outputs": [],
   "source": [
    "import os\n",
    "\n",
    "from dotenv import load_dotenv\n",
    "\n",
    "load_dotenv()\n",
    "token = os.getenv(\"TOKEN\")"
   ]
  },
  {
   "cell_type": "code",
   "execution_count": 5,
   "metadata": {},
   "outputs": [],
   "source": [
    "output_dir = os.getenv(\"DATAROOT\")"
   ]
  },
  {
   "cell_type": "code",
   "execution_count": null,
   "metadata": {},
   "outputs": [],
   "source": [
    "dataset = \"MOD09Q1G_NDVI\"\n",
    "year = \"2015\""
   ]
  },
  {
   "cell_type": "code",
   "execution_count": null,
   "metadata": {},
   "outputs": [],
   "source": [
    "import datetime\n",
    "\n",
    "print(datetime.datetime.now())"
   ]
  },
  {
   "cell_type": "code",
   "execution_count": null,
   "metadata": {
    "id": "51L7sm32JN11"
   },
   "outputs": [],
   "source": [
    "import subprocess\n",
    "import sys\n",
    "\n",
    "targets = list(range(1, 369, 8))\n",
    "for target in targets:\n",
    "    target = str(target).zfill(3)\n",
    "    print(target)\n",
    "    #!wget -e robots=off -m -np -R .html,.tmp -nH --cut-dirs=3 \"https://ladsweb.modaps.eosdis.nasa.gov/archive/allData/6/MOD09Q1G_NDVI/$year/$target/\" --header \"Authorization: Bearer $token\" -P \"$output_dir\"\n",
    "    subprocess.run(\n",
    "        f'wget -e robots=off -m -np -R .html,.tmp -nH --cut-dirs=3 \"https://ladsweb.modaps.eosdis.nasa.gov/archive/allData/6/{dataset!s}/{year!s}/{target!s}/\" --header \"Authorization: Bearer {token!s}\" -P \"{output_dir}\"',\n",
    "        shell=True,\n",
    "        stdout=sys.stdout,\n",
    "        stderr=subprocess.STDOUT,\n",
    "    )\n",
    "    # subprocess.run(f'wget -e robots=off -m -np -R .html,.tmp -nH --cut-dirs=3 \"https://ladsweb.modaps.eosdis.nasa.gov/archive/allData/6/MOD09Q1G_NDVI/{str(year)}/{str(target)}/\" --header \"Authorization: Bearer $token\" -P \"{output_dir}\"', shell=True, )"
   ]
  },
  {
   "cell_type": "code",
   "execution_count": null,
   "metadata": {},
   "outputs": [],
   "source": [
    "subprocess.run(\n",
    "    f'wget -e robots=off -m -np -R .html,.tmp -nH --cut-dirs=3 \"https://ladsweb.modaps.eosdis.nasa.gov/archive/allData/6/MOD09Q1G_NDVI/{year!s}/{target!s}/\" --header \"Authorization: Bearer {token!s}\" -P \"{output_dir}\"',\n",
    "    shell=True,\n",
    "    stdout=sys.stdout,\n",
    "    stderr=subprocess.STDOUT,\n",
    ")"
   ]
  },
  {
   "cell_type": "code",
   "execution_count": null,
   "metadata": {},
   "outputs": [],
   "source": [
    "print(datetime.datetime.now())"
   ]
  }
 ],
 "metadata": {
  "colab": {
   "authorship_tag": "ABX9TyMG+K/zNkZT5Yo3uUq9hG14",
   "collapsed_sections": [],
   "mount_file_id": "17eGLYmkOsg2asRu1WR_qJWx2ow_Pq-MB",
   "name": "Textile-DataAquisition",
   "provenance": []
  },
  "kernelspec": {
   "display_name": "Python 3 (ipykernel)",
   "language": "python",
   "name": "python3"
  },
  "language_info": {
   "codemirror_mode": {
    "name": "ipython",
    "version": 3
   },
   "file_extension": ".py",
   "mimetype": "text/x-python",
   "name": "python",
   "nbconvert_exporter": "python",
   "pygments_lexer": "ipython3",
   "version": "3.8.8"
  },
  "vscode": {
   "interpreter": {
    "hash": "41b0779e812f5c4dddd7de0cd8299bb9abad67a3737af553fcc301799477cf88"
   }
  }
 },
 "nbformat": 4,
 "nbformat_minor": 4
}
