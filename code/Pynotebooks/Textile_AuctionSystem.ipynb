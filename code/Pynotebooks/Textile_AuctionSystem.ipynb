{
 "cells": [
  {
   "cell_type": "code",
   "execution_count": 77,
   "metadata": {
    "id": "Rz0tVZsp6_kO"
   },
   "outputs": [],
   "source": [
    "import requests\n",
    "import pandas as pd\n",
    "import time\n",
    "import subprocess\n",
    "import json\n",
    "import os\n",
    "from datetime import datetime, timedelta\n",
    "\n",
    "#PATH_TO_SCRIPT = \"\"\n",
    "\n",
    "#PATH_TO_CSV = \"\"\n",
    "#NEW_CSV = \"\"\n",
    "YEAR= \"2013\"\n",
    "NEW_CSV = f\"\""
   ]
  },
  {
   "cell_type": "code",
   "execution_count": null,
   "metadata": {},
   "outputs": [],
   "source": [
    "NEW_CSV = f\"\""
   ]
  },
  {
   "cell_type": "code",
   "execution_count": 78,
   "metadata": {
    "id": "MNpvdECaqp3Q"
   },
   "outputs": [],
   "source": [
    "df = pd.read_csv(NEW_CSV,index_col=0)"
   ]
  },
  {
   "cell_type": "code",
   "execution_count": 79,
   "metadata": {},
   "outputs": [],
   "source": [
    "if 'textile_id' not in df.columns:\n",
    "    df['textile_id'] = ''"
   ]
  },
  {
   "cell_type": "code",
   "execution_count": null,
   "metadata": {},
   "outputs": [],
   "source": [
    "YEAR"
   ]
  },
  {
   "cell_type": "code",
   "execution_count": null,
   "metadata": {},
   "outputs": [],
   "source": [
    "df"
   ]
  },
  {
   "cell_type": "code",
   "execution_count": 82,
   "metadata": {
    "id": "hJr5TAsryPy5"
   },
   "outputs": [],
   "source": [
    "\n",
    "# Textile ID must have a string data type\n",
    "#df['textile_id'] = \"00\"\n",
    "#df.to_csv(NEW_CSV)"
   ]
  },
  {
   "cell_type": "code",
   "execution_count": null,
   "metadata": {
    "id": "X8IAoKZR8WAR"
   },
   "outputs": [],
   "source": [
    "\n",
    "new_df = df.copy()\n",
    "for idx, row in df.iterrows():\n",
    "  print(\"Index \", idx)\n",
    "  print(row[\"name\"])\n",
    "\n",
    "  if len(str(row[\"textile_id\"])) > 3:\n",
    "    print(\"Exists, Skipping\")\n",
    "  else:\n",
    "    file_name = row[\"file\"]\n",
    "    api_key = \"\"\n",
    "    #url = f\"\" \n",
    "    url = f\"\" # GEOG Cluster\n",
    "    payload_cid = str(row[\"payload_cid\"])\n",
    "    piece_cid = str(row[\"piece_cid\"])\n",
    "    piece_size = str(row[\"piece_size\"])\n",
    "    next = datetime.now() + timedelta(days=10)\n",
    "    date = str(next.isoformat(timespec=\"seconds\")) + \"-04:00\"\n",
    "    body = {\"payloadCid\":payload_cid,\"pieceCid\":piece_cid,\"pieceSize\":int(round(float(piece_size))), \"repFactor\":5, \"deadline\":date, \"carURL\":{\"url\":url} }\n",
    "    headers={'Authorization': f'Bearer {api_key}'}\n",
    "    print(body)\n",
    "    response = requests.post(\"https://broker.staging.textile.dev/auction-data\",headers=headers, data=json.dumps(body))\n",
    "    print(response)\n",
    "    try:\n",
    "      result = response.json()\n",
    "      id = result.get(\"id\", \"Failure\")\n",
    "    except Exception as e:\n",
    "      print(e)\n",
    "      id = 9999\n",
    "    print(\"Received ID\", id )\n",
    "    print(\"Saving ID\")\n",
    "\n",
    "    new_df.at[idx,'textile_id'] = id\n",
    "    new_df.to_csv(NEW_CSV)\n",
    "    print(\"Sleeping...\")\n",
    "    time.sleep(30 * 60)\n"
   ]
  },
  {
   "cell_type": "code",
   "execution_count": null,
   "metadata": {
    "id": "-WGWILMtHOKV"
   },
   "outputs": [],
   "source": [
    "\n",
    "# Check status of individual auction by targetId\n",
    "target_id = response.json()[\"id\"]\n",
    "headers={'Authorization': f'Bearer {api_key}'}\n",
    "new_r = requests.get(f\"https://broker.staging.textile.dev/storagerequest/{target_id}\", headers=headers)\n",
    "print(new_r.json())"
   ]
  }
 ],
 "metadata": {
  "colab": {
   "collapsed_sections": [],
   "name": "Textile-AuctionSystem.ipynb",
   "provenance": []
  },
  "kernelspec": {
   "display_name": "Python 3.8.10 ('venv': venv)",
   "language": "python",
   "name": "python3"
  },
  "language_info": {
   "codemirror_mode": {
    "name": "ipython",
    "version": 3
   },
   "file_extension": ".py",
   "mimetype": "text/x-python",
   "name": "python",
   "nbconvert_exporter": "python",
   "pygments_lexer": "ipython3",
   "version": "3.8.10"
  },
  "vscode": {
   "interpreter": {
    "hash": "b576831b488a8de8e804ded287515713baa2a09571a748216473aed04ce0b04b"
   }
  }
 },
 "nbformat": 4,
 "nbformat_minor": 1
}
