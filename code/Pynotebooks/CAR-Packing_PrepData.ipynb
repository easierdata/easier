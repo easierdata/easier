{
 "cells": [
  {
   "cell_type": "markdown",
   "metadata": {},
   "source": [
    "## **Overview on Content Addressable aRchives (CAR / .car)**\n",
    "\n",
    "**_References_**:\n",
    "- [CAR v1 Spec](https://ipld.io/specs/transport/car/carv1/)\n",
    "- [CAR v2 Spec](https://ipld.io/specs/transport/car/carv2/)\n",
    "\n",
    "The CAR format (Content Addressable aRchives) can be used to store content addressable objects in the form of IPLD block data as a sequence of bytes; typically in a file with a .car filename extension.\n",
    "> NOTE: The name Certified ARchive has also previously been used to refer to the CAR format.\n",
    "    \n",
    "The CAR format is intended as a serialized representation of any IPLD DAG (graph) as the concatenation of its blocks, plus a header that describes the graphs in the file (via root CIDs). The requirement for the blocks in a CAR to form coherent DAGs is not strict, so the CAR format may also be used to store arbitrary IPLD blocks.\n",
    "\n",
    "In addition to the binary block data, storage overhead for the CAR format consists of:\n",
    "- A header block encoded as [DAG-CBOR](https://github.com/ipld/specs/blob/a3c982518232b79123af2a2cf5e8642162c62524/block-layer/codecs/dag-cbor.md) containing the format version and an array of root CIDs\n",
    "- A CID for each block preceding its binary data\n",
    "- A compressed integer prefixing each block (including the header block) indicating the total length of that block, including the length of the encoded CID\n",
    "\n",
    "This diagram shows how IPLD blocks, their root CID, and a header combine to form a CAR.\n",
    "\n",
    "\n",
    "<center><img src=\"https://ipld.io/specs/transport/car/content-addressable-archives.png\" alt=\"CARv2 Format\" width=\"50%\"></center>\n",
    "\n",
    "#### **Format Description**\n",
    "The CAR format comprises a sequence of length-prefixed IPLD block data, where the first block in the CAR is the Header encoded as CBOR, and the remaining blocks form the Data component of the CAR and are each additionally prefixed with their CIDs. The length prefix of each block in a CAR is encoded as a \"varint\"—an unsigned [LEB128](https://en.wikipedia.org/wiki/LEB128) integer. This integer specifies the number of remaining bytes for that block entry—excluding the bytes used to encode the integer, but including the CID for non-header blocks.\n",
    "\n",
    "<div style=\"text-align: center\">\n",
    "<pre>|--------- Header --------| |---------------------------------- Data -----------------------------------|</pre>\n",
    "\n",
    "<pre>[ varint | DAG-CBOR block ] [ varint | CID | block ] [ varint | CID | block ] [ varint | CID | block ] …</pre>\n",
    "</div>\n",
    "\n",
    "### **Updates from CARv1 to CARv2**\n",
    "CARv2 is a minimal upgrade to the CARv1 format with the primary aim of adding an optional index within the format for fast random-access to blocks.\n",
    "\n",
    "CARv2 makes use of CARv1 by wrapping a properly formed CARv1 with a prefix containing a pragma and header, and a suffix containing the optional index data. Once the offset and length of the CARv1 bytes are determined using CARv2 parsing rules. Though not necessarily ideal, an existing CARv1 decoder could be used to read the roots and CID:Bytes pairs. Likewise, a CARv1 encoder could be be used to encode this data for wrapping by a CARv2 encoder as the payload is the same format.\n",
    "\n",
    "#### **Format Description**\n",
    "\n",
    "1. An 11-byte pragma that identify the data as a CARv2 format.\n",
    "2. A header describing some characteristics of the CARv2 as well as the locations of the data payload and index payload within the CARv2.\n",
    "3. A standard CARv1 data payload, including standard CARv1 header and roots and sequence of CID:Bytes pairs.\n",
    "4. An optional index payload, which may be one of a number of supported index formats, allowing for fast lookups of blocks within the data payload.\n",
    "\n",
    "The CARv2 format can be illustrated as follows:\n",
    "\n",
    "<center><img src=\"https://ipld.io/specs/transport/car/carv2/carv2-sections.png\" alt=\"CARv2 Format\"></center>\n",
    "\n",
    "\n",
    "<div style=\"text-align: center\"><p>\n",
    "<pre>| 11-byte fixed pragma | 40-byte header | optional padding | CARv1 data payload | optional padding | optional index payload |</pre>\n",
    "</div><p>\n",
    "\n",
    "### Why the need to create CARs?\n",
    "Storing content on the Filecoin network is not like typical storage systems that consumers use (such as like Dropox, AWS, OneDrive) which store objects. Content in Filecoin are flat files, known as a [Filecoin Piece](https://spec.filecoin.io/#section-systems.filecoin_files.piece). The \"Piece\" in Filecoin Piece represents a whole or part of a file that's distilled into an IPLD directed acyclic graph (DAG) in the form of a hash that's called a CID or Payload CID. To make the \"Piece into a Filecoin Piece, the IPLD DAG is serialized into a “Content-Addressable aRchive” (.car), which is in raw bytes format.\n",
    "\n",
    "### Going from Files to CARs\n",
    "\n",
    "\n",
    "\n",
    "\n",
    "\n"
   ]
  },
  {
   "cell_type": "code",
   "execution_count": 70,
   "metadata": {},
   "outputs": [
    {
     "name": "stdout",
     "output_type": "stream",
     "text": [
      "NAME:\n",
      "   singularity ez-prep - Prepare a dataset from a local path\n",
      "\n",
      "USAGE:\n",
      "   singularity ez-prep [command options] <path>\n",
      "\n",
      "CATEGORY:\n",
      "   Utility\n",
      "\n",
      "DESCRIPTION:\n",
      "   This commands can be used to prepare a dataset from a local path with minimum configurable parameters.\n",
      "   For more advanced usage, please use the subcommands under `storage` and `data-prep`.\n",
      "   You can also use this command for benchmarking with in-memory database and inline preparation, i.e.\n",
      "     mkdir dataset\n",
      "     truncate -s 1024G dataset/1T.bin\n",
      "     singularity ez-prep --output-dir '' --database-file '' -j $(($(nproc) / 4 + 1)) ./dataset\n",
      "\n",
      "OPTIONS:\n",
      "   --max-size value, -M value       Maximum size of the CAR files to be created (default: \"31.5GiB\")\n",
      "   --output-dir value, -o value     Output directory for CAR files. To use inline preparation, use an empty string (default: \"./cars\")\n",
      "   --concurrency value, -j value    Concurrency for packing (default: 1)\n",
      "   --database-file value, -f value  The database file to store the metadata. To use in memory database, use an empty string. (default: ./ezprep-<name>.db)\n",
      "   --help, -h                       show help\n",
      "\n"
     ]
    }
   ],
   "source": [
    "from pathlib import Path\n",
    "import sys\n",
    "import subprocess\n",
    "\n",
    "# Create a variable to store the product name and resolve the path to the root folder, two directories up.\n",
    "product_name = \"l4b\"\n",
    "source_folder = Path(f\"../../data/gedi/{product_name}\").resolve()\n",
    "\n",
    "# Create a variable to store the output directory path combined with the product name\n",
    "output_folder = Path(f\"../../data/car_files/{product_name}\").resolve()\n",
    "\n",
    "# Store filenames in a variable for any files found in the source folder and recursively iterate through any child folders\n",
    "product_metadata = list()\n",
    "for file_path in source_folder.glob(\"**/*\"):\n",
    "    if file_path.is_file():\n",
    "        product_metadata.append((file_path.parents[0], file_path.name))\n",
    "\n",
    "# Print the description on the ez-prep command\n",
    "result = subprocess.run(\"singularity ez-prep help\", shell=True, capture_output=True)\n",
    "print(result.stdout.decode())\n"
   ]
  },
  {
   "cell_type": "code",
   "execution_count": 102,
   "metadata": {},
   "outputs": [
    {
     "name": "stdout",
     "output_type": "stream",
     "text": [
      "PieceCID                                                          PieceSize  RootCID                                                      FileSize   StoragePath                                                           \n",
      "baga6ea4seaqh4djtotm6pl5reqt4gtqa3kv7cgmbbw5veejtmq5lykpdfisfqla  536870912  bafkreicjxhag23doy3yssap7fox4moyemkwdysxpoeen4msnb4pu3msktq  422015414  baga6ea4seaqh4djtotm6pl5reqt4gtqa3kv7cgmbbw5veejtmq5lykpdfisfqla.car  \n",
      "baga6ea4seaqmkvyi2tu53itcnpxf64xulykmpcpr3hnlsk4axioko22dmytvqoq  536870912  bafkreicx3u5geawjsezjxnji73eb2ibddygi4epaecmgfk2egkg723haei  497707749  baga6ea4seaqmkvyi2tu53itcnpxf64xulykmpcpr3hnlsk4axioko22dmytvqoq.car  \n",
      "baga6ea4seaqke4s4lsenayy3h6qre4u7smhsvshkf4ai3zkqxljmo3xj7udwcgy  536870912  bafkreic4fbgzv73phric4c3eqjhizmh6wx4gdn7q6uapbkckac24gaba2a  441207453  baga6ea4seaqke4s4lsenayy3h6qre4u7smhsvshkf4ai3zkqxljmo3xj7udwcgy.car  \n",
      "baga6ea4seaqhmcsc6btm7myw54jvrhjmru3aiv2ztidre4qdnrnmsq2foq3y6ma  536870912  bafkreiex3ecpl4myzmlx46k2mfadsjsyi6doak3ggkry4yuxpkfixvpilu  369084519  baga6ea4seaqhmcsc6btm7myw54jvrhjmru3aiv2ztidre4qdnrnmsq2foq3y6ma.car  \n",
      "baga6ea4seaqpczajzagmzh2kfv4dyr2kyzzje6xuyzxntl247qctajilzimnydy  536870912  bafkreig6way2f24xmuxpxaq5k37bnbfwqtud36vwyzzd5yscaoimsuhagi  371467414  baga6ea4seaqpczajzagmzh2kfv4dyr2kyzzje6xuyzxntl247qctajilzimnydy.car  \n",
      "baga6ea4seaqjzwo4zuvn776qicvajw34hn363oejtswupkflxdhtvwzvzerd6pq  536870912  bafkreihyxt6otrjzukpw5ezqlmqms53k7weebpb2gai7l2gtl5an3nya5y  401468193  baga6ea4seaqjzwo4zuvn776qicvajw34hn363oejtswupkflxdhtvwzvzerd6pq.car  \n",
      "baga6ea4seaqik4jhp7jynrnjhkopzlirpul6tblvdtsbxxcivi47ai56rl5dadq  536870912  bafybeiav273hhfxbngxbbttkozv7p6ma3bzklfg5vemap6gzncpb6y7rli  2792       baga6ea4seaqik4jhp7jynrnjhkopzlirpul6tblvdtsbxxcivi47ai56rl5dadq.car  \n",
      "\n"
     ]
    }
   ],
   "source": [
    "max_size = \"500mb\"\n",
    "command = f\"singularity ez-prep --output-dir {output_folder} --max-size {max_size} {source_folder}\"\n",
    "result = subprocess.run(command, shell=True, capture_output=True)\n",
    "print(result.stdout.decode())\n"
   ]
  },
  {
   "cell_type": "code",
   "execution_count": 104,
   "metadata": {},
   "outputs": [
    {
     "name": "stdout",
     "output_type": "stream",
     "text": [
      "Version: 1\n",
      "Roots: bafybeif57b5qfwy7ucx4pmycol3bkpu3g3zg723rtn5iju5apkjivo7hvq\n",
      "Root blocks present in data: Yes\n",
      "Block count: 4\n",
      "Min / average / max block length (bytes): 98 / 351 / 918\n",
      "Min / average / max CID length (bytes): 36 / 36 / 36\n",
      "Block count per codec:\n",
      "\tdag-pb: 4\n",
      "CID count per multihash:\n",
      "\tsha2-256: 4\n",
      "\n"
     ]
    }
   ],
   "source": [
    "car_files = list(output_folder.glob(\"*.car\"))\n",
    "\n",
    "command = f\"car inspect {car_files[0]} --full\"\n",
    "result = subprocess.run(command, shell=True, capture_output=True)\n",
    "decoded_stm = result.stdout.decode(\"utf-8\")\n",
    "print(decoded_stm)\n"
   ]
  },
  {
   "cell_type": "code",
   "execution_count": 101,
   "metadata": {},
   "outputs": [
    {
     "name": "stdout",
     "output_type": "stream",
     "text": [
      "dag-pb: bafybeif57b5qfwy7ucx4pmycol3bkpu3g3zg723rtn5iju5apkjivo7hvq\n",
      "\t3 links. 2 bytes\n",
      "\t\tcomp[5.7 MB] bafybeiepmyhpbpn43o7wldfkuurufd7dcidbyob3435wwqll3djfnakeei\n",
      "\t\tdata[2.5 GB] bafybeifurw2z3xmkrflcqy2xfpr34ys7dneodveyeniov7voiss5azkdhu\n",
      "\t\tguide[295 B] bafybeidgkjpwkmajsdijlkearn5c4ogtxloqogags5cfvpn2riwsjxsvde\n",
      "\tUnixfs Directory\n",
      "dag-pb: bafybeiepmyhpbpn43o7wldfkuurufd7dcidbyob3435wwqll3djfnakeei\n",
      "\t3 links. 2 bytes\n",
      "\t\tGEDI_L4B_ATBD_V2.0.pdf[3.0 MB] bafybeifcodio3sdrmcpykzrqjdluyiyeds3gmfsocjuqr4oghkrula4may\n",
      "\t\tGEDI_L4B_Gridded_Biomass_V2_1.pdf[2.0 MB] bafybeihohmjyjixpqwszocv6hxnaomegxm627ratchdnqmbyxaptcxtgke\n",
      "\t\tgedi_l4b_excluded_granules_v21.json[759 kB] bafkreihzklpkkhzsmgmupljxtnjbdz2gkcynan24mxinrt5vncb67oo2li\n",
      "\tUnixfs Directory\n",
      "dag-pb: bafybeifurw2z3xmkrflcqy2xfpr34ys7dneodveyeniov7voiss5azkdhu\n",
      "\t10 links. 2 bytes\n",
      "\t\tGEDI04_B_MW019MW223_02_002_02_R01000M_MI.tif[14 MB] bafybeiakure7paspbvxqfj4b64svy3vtxqjc72kww6doykphaq63w23ctu\n",
      "\t\tGEDI04_B_MW019MW223_02_002_02_R01000M_MU.tif[503 MB] bafybeiekmgjua5qvlm3zrnkqj54mnd2y764hk42wdthrk4gfwgjgxvqepi\n",
      "\t\tGEDI04_B_MW019MW223_02_002_02_R01000M_NC.tif[88 MB] bafybeiduzczefsght5ep52tjkrgh6ylpyp2h5cveyh5pgbnxfubyrdvlxy\n",
      "\t\t(10 total)\n",
      "\tUnixfs Directory\n",
      "dag-pb: bafybeidgkjpwkmajsdijlkearn5c4ogtxloqogags5cfvpn2riwsjxsvde\n",
      "\t1 links. 2 bytes\n",
      "\t\tOnline_Version_GEDI_L4B_Gridded_Biomass_V2_1.html[197 B] bafkreifgnr7sah3xrxdebd2upuwkc7wmfoe62vg4fcxbdelllywssxiezm\n",
      "\tUnixfs Directory\n",
      "\n"
     ]
    }
   ],
   "source": [
    "import re\n",
    "\n",
    "# Use regex to extract the hash value\n",
    "hash_value = re.search(r\"Roots: (.+?)\\n\", decoded_stm).group(1)\n",
    "\n",
    "# Print the extracted hash value\n",
    "command = f\"car ls -v {car_files[0]}\"\n",
    "result = subprocess.run(command, shell=True, capture_output=True)\n",
    "decoded_stm = result.stdout.decode(\"utf-8\")\n",
    "print(decoded_stm)\n"
   ]
  },
  {
   "cell_type": "code",
   "execution_count": null,
   "metadata": {},
   "outputs": [],
   "source": []
  }
 ],
 "metadata": {
  "kernelspec": {
   "display_name": ".venv",
   "language": "python",
   "name": "python3"
  },
  "language_info": {
   "codemirror_mode": {
    "name": "ipython",
    "version": 3
   },
   "file_extension": ".py",
   "mimetype": "text/x-python",
   "name": "python",
   "nbconvert_exporter": "python",
   "pygments_lexer": "ipython3",
   "version": "3.10.8"
  }
 },
 "nbformat": 4,
 "nbformat_minor": 2
}
