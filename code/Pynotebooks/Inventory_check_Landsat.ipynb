{
 "cells": [
  {
   "cell_type": "markdown",
   "metadata": {},
   "source": [
    "## Semi-auto Stream in Landsat from USGS\n",
    "Solution: Use brower-cookie3 to \"sign\" the URL request so a python script can stream data from USGS\n",
    "Cons: Low bandwidth ~200KB/s "
   ]
  },
  {
   "cell_type": "code",
   "execution_count": null,
   "metadata": {},
   "outputs": [],
   "source": [
    "#%pip install browser-cookie3"
   ]
  },
  {
   "cell_type": "code",
   "execution_count": 2,
   "metadata": {},
   "outputs": [],
   "source": [
    "# background step: login in USGS EROS so the brower cookie can skip the redirect of USGS when request\n",
    "import browser_cookie3\n",
    "cj = browser_cookie3.firefox()"
   ]
  },
  {
   "cell_type": "code",
   "execution_count": 4,
   "metadata": {},
   "outputs": [],
   "source": [
    "url=\"\"\"https://landsatlook.usgs.gov/data/collection02/level-2/standard/oli-tirs/2020/047/027/LC08_L2SP_047027_20201204_20210313_02_T1/LC08_L2SP_047027_20201204_20210313_02_T1_SR_B7.TIF\"\"\""
   ]
  },
  {
   "cell_type": "code",
   "execution_count": 11,
   "metadata": {},
   "outputs": [],
   "source": [
    "import requests\n",
    "r = requests.get(url, stream = True,cookies=cj)"
   ]
  },
  {
   "cell_type": "code",
   "execution_count": 8,
   "metadata": {},
   "outputs": [],
   "source": [
    "import shutil\n",
    "fname = \"LC08_L2SP_047027_20201204_20210313_02_T1_SR_B7.TIF\"\n",
    "if r.status_code == 200:\n",
    "    # Set decode_content value to True, otherwise the downloaded image file's size will be zero.\n",
    "    r.raw.decode_content = True\n",
    "    \n",
    "    # Open a local file with wb ( write binary ) permission.\n",
    "    with open(fname,'wb') as f:\n",
    "        shutil.copyfileobj(r.raw, f)"
   ]
  },
  {
   "cell_type": "code",
   "execution_count": null,
   "metadata": {},
   "outputs": [],
   "source": []
  },
  {
   "cell_type": "code",
   "execution_count": null,
   "metadata": {},
   "outputs": [],
   "source": []
  },
  {
   "cell_type": "code",
   "execution_count": null,
   "metadata": {},
   "outputs": [],
   "source": [
    "import pandas as pd\n",
    "from dateutil.rrule import rrule, DAILY\n",
    "import urllib.request, json "
   ]
  },
  {
   "cell_type": "markdown",
   "metadata": {},
   "source": [
    "## collect inventory from USGS\n",
    "Query guide: https://landsatlook.usgs.gov/stac-server/api.html#tag/Item-Search\n",
    "\n",
    "\n",
    "Example URL:\n",
    "https://landsatlook.usgs.gov/stac-server/collections/landsat-c2l1/items?limit=10000&datetime=2022-01-06T00:00:00Z/2022-01-07T00:00:00Z&fields=id,-type,-geometry,-bbox,-properties,-links,-assets,-collection,-features"
   ]
  },
  {
   "cell_type": "code",
   "execution_count": null,
   "metadata": {},
   "outputs": [],
   "source": [
    "\n",
    "\n",
    "a = date(2022, 9, 30)\n",
    "b = date(2022, 10, 8)\n",
    "\n",
    "for dt in rrule(DAILY, dtstart=a, until=b):\n",
    "    print(dt.strftime(\"%Y-%m-%d\"))\n",
    "    yymmdd = dt.strftime(\"%Y-%m-%d\")\n",
    "    dt"
   ]
  },
  {
   "cell_type": "code",
   "execution_count": null,
   "metadata": {},
   "outputs": [],
   "source": [
    "url = f'''https://landsatlook.usgs.gov/stac-server/collections/landsat-c2l1/items?limit=10000&datetime={yymmdd}T00:00:00Z/{yymmdd}T23:59:59Z&fields=id,-type,-geometry,-bbox,properties,-links,-assets,-collection,-features'''"
   ]
  },
  {
   "cell_type": "code",
   "execution_count": null,
   "metadata": {},
   "outputs": [],
   "source": [
    "stat_list = []"
   ]
  },
  {
   "cell_type": "code",
   "execution_count": null,
   "metadata": {},
   "outputs": [],
   "source": [
    "\n",
    "with urllib.request.urlopen(url) as uo:\n",
    "    data = json.load(uo)\n",
    "    #print(data)\n",
    "    feature_df = pd.json_normalize(data['features'])\n",
    "    l9 = feature_df.query('`properties.platform`==\"LANDSAT_9\"')\n",
    "    l8 = feature_df.query('`properties.platform`==\"LANDSAT_8\"')\n",
    "    stat_list.append({'date':yymmdd,'total':data['numberMatched'],'return':data['numberReturned'],'LC09':len(l9),'LC08':len(l9)})\n",
    "    feature_df.drop('type',axis=1).to_csv(f'../../../data/Landsat/stac/{dt.strftime(\"%Y-%m-%d\")}_C2L1.csv',index=False)\n"
   ]
  },
  {
   "cell_type": "code",
   "execution_count": null,
   "metadata": {},
   "outputs": [],
   "source": [
    "pd.DataFrame(stat_list).query('`date` > \"2021-09-27\"').to_csv('../../../data/Landsat/day_sum_LC09_LC08.csv',index=False)"
   ]
  },
  {
   "cell_type": "code",
   "execution_count": null,
   "metadata": {},
   "outputs": [],
   "source": [
    "day_sum = pd.DataFrame(stat_list).query('`date` > \"2021-09-27\"')"
   ]
  },
  {
   "cell_type": "code",
   "execution_count": null,
   "metadata": {},
   "outputs": [],
   "source": [
    "pd.json_normalize(data['features']).query('`properties.platform`==\"LANDSAT_9\"')"
   ]
  },
  {
   "cell_type": "markdown",
   "metadata": {},
   "source": [
    "### Batch processing"
   ]
  },
  {
   "cell_type": "code",
   "execution_count": null,
   "metadata": {},
   "outputs": [],
   "source": [
    "a = date(2021, 9, 15)\n",
    "b = date(2022, 10, 8)\n",
    "stat_list=[]\n",
    "for dt in rrule(DAILY, dtstart=a, until=b):\n",
    "    print(dt.strftime(\"%Y-%m-%d\"))\n",
    "    yymmdd = dt.strftime(\"%Y-%m-%d\")\n",
    "    url = f'''https://landsatlook.usgs.gov/stac-server/collections/landsat-c2l1/items?limit=10000&datetime={yymmdd}T00:00:00Z/{yymmdd}T23:59:59Z&fields=id,-type,-geometry,-bbox,properties,-links,-assets,-collection,-features'''\n",
    "    try:\n",
    "        with urllib.request.urlopen(url) as uo:\n",
    "            data = json.load(uo)\n",
    "            #print(data)\n",
    "            feature_df = pd.json_normalize(data['features'])\n",
    "            l9 = feature_df.query('`properties.platform`==\"LANDSAT_9\"')\n",
    "            l8 = feature_df.query('`properties.platform`==\"LANDSAT_8\"')\n",
    "            stat_list.append({'date':yymmdd,'total':data['numberMatched'],'return':data['numberReturned'],'LC09':len(l9),'LC08':len(l8)})\n",
    "            if len(l9)>0:\n",
    "                l9.drop('type',axis=1).to_csv(f'../../../data/Landsat/stac/{dt.strftime(\"%Y-%m-%d\")}_C2L1_LC09.csv',index=False)\n",
    "            else:\n",
    "                print('no LC09')\n",
    "            print(stat_list[-1])\n",
    "    except e:\n",
    "        print(e)"
   ]
  },
  {
   "cell_type": "markdown",
   "metadata": {},
   "source": [
    "## compare file entries on local node\n",
    "First run `find . -type f -name '*.tar' -exec basename {} .tar \\; > landsat_avail.txt` on local inventory"
   ]
  },
  {
   "cell_type": "code",
   "execution_count": null,
   "metadata": {},
   "outputs": [],
   "source": [
    "glad21 = pd.read_csv(\"../../../data/Landsat/landsat9_avail_2021.txt\",names=['scene_id'], header=None)"
   ]
  },
  {
   "cell_type": "code",
   "execution_count": null,
   "metadata": {},
   "outputs": [],
   "source": [
    "glad22 = pd.read_csv(\"../../../data/Landsat/landsat_avail_2022.txt\",names=['scene_id'], header=None)"
   ]
  },
  {
   "cell_type": "code",
   "execution_count": null,
   "metadata": {},
   "outputs": [],
   "source": [
    "glad_inventory = pd.concat([glad21,glad22[glad22.scene_id.str.startswith(\"LC09\")]])"
   ]
  },
  {
   "cell_type": "code",
   "execution_count": null,
   "metadata": {},
   "outputs": [],
   "source": [
    "import glob"
   ]
  },
  {
   "cell_type": "code",
   "execution_count": null,
   "metadata": {},
   "outputs": [],
   "source": [
    "usgs_inventory = pd.concat([pd.read_csv(f) for f in glob.glob('../../../data/Landsat/stac/*.csv')])"
   ]
  },
  {
   "cell_type": "code",
   "execution_count": null,
   "metadata": {},
   "outputs": [],
   "source": [
    "glad_inventory"
   ]
  },
  {
   "cell_type": "code",
   "execution_count": null,
   "metadata": {},
   "outputs": [],
   "source": [
    "inventory_merged = usgs_inventory.merge(glad_inventory,left_on='id',right_on='scene_id',how='left')"
   ]
  },
  {
   "cell_type": "code",
   "execution_count": null,
   "metadata": {},
   "outputs": [],
   "source": [
    "missing = inventory_merged.query('scene_id.isnull()',engine='python')"
   ]
  },
  {
   "cell_type": "code",
   "execution_count": null,
   "metadata": {},
   "outputs": [],
   "source": [
    "missing.shape"
   ]
  },
  {
   "cell_type": "code",
   "execution_count": null,
   "metadata": {},
   "outputs": [],
   "source": [
    "missing[['id']].to_csv('../../../data/Landsat/missing_id.csv',index=False)"
   ]
  },
  {
   "cell_type": "code",
   "execution_count": null,
   "metadata": {},
   "outputs": [],
   "source": [
    "missing.dtypes"
   ]
  },
  {
   "cell_type": "markdown",
   "metadata": {},
   "source": [
    "### Spatial and temporal visualization on the missing scenes"
   ]
  },
  {
   "cell_type": "code",
   "execution_count": null,
   "metadata": {},
   "outputs": [],
   "source": [
    "import seaborn as sns"
   ]
  },
  {
   "cell_type": "code",
   "execution_count": null,
   "metadata": {},
   "outputs": [],
   "source": [
    "pathrow_missing = missing.groupby([\"properties.landsat:wrs_path\",\"properties.landsat:wrs_row\"]).agg({'id':'count'}).reset_index().set_axis(['path','row','count'],axis=1)\\\n",
    "    .pivot(index='row',columns='path',values='count').fillna(0)"
   ]
  },
  {
   "cell_type": "code",
   "execution_count": null,
   "metadata": {},
   "outputs": [],
   "source": [
    "sns.heatmap(pathrow_missing,cbar_kws={'label': 'missing scenes'})\n"
   ]
  },
  {
   "cell_type": "code",
   "execution_count": null,
   "metadata": {},
   "outputs": [],
   "source": [
    "missing['properties.datetime'] = missing['properties.datetime'].astype('datetime64[ns]')"
   ]
  },
  {
   "cell_type": "code",
   "execution_count": null,
   "metadata": {},
   "outputs": [],
   "source": [
    "sns.displot(data=missing,x='properties.datetime',aspect=4,bins=360)"
   ]
  },
  {
   "cell_type": "code",
   "execution_count": null,
   "metadata": {},
   "outputs": [],
   "source": []
  }
 ],
 "metadata": {
  "kernelspec": {
   "display_name": "Python 3.8.8 ('venv')",
   "language": "python",
   "name": "python3"
  },
  "language_info": {
   "codemirror_mode": {
    "name": "ipython",
    "version": 3
   },
   "file_extension": ".py",
   "mimetype": "text/x-python",
   "name": "python",
   "nbconvert_exporter": "python",
   "pygments_lexer": "ipython3",
   "version": "3.8.8"
  },
  "orig_nbformat": 4,
  "vscode": {
   "interpreter": {
    "hash": "41b0779e812f5c4dddd7de0cd8299bb9abad67a3737af553fcc301799477cf88"
   }
  }
 },
 "nbformat": 4,
 "nbformat_minor": 2
}
