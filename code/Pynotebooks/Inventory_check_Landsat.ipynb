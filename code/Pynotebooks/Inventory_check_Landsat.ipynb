{
 "cells": [
  {
   "cell_type": "markdown",
   "metadata": {},
   "source": [
    "## Semi-auto Stream in Landsat from USGS\n",
    "Solution: Use brower-cookie3 to \"sign\" the URL request so a python script can stream data from USGS\n",
    "Cons: Low bandwidth ~200KB/s "
   ]
  },
  {
   "cell_type": "code",
   "execution_count": null,
   "metadata": {},
   "outputs": [],
   "source": [
    "#%pip install browser-cookie3"
   ]
  },
  {
   "cell_type": "code",
   "execution_count": 75,
   "metadata": {},
   "outputs": [],
   "source": [
    "from pathlib import Path\n",
    "import browser_cookie3\n",
    "import requests\n",
    "import shutil\n",
    "import os\n",
    "import json\n",
    "from urllib.request import urlopen\n",
    "from pystac.item import Item\n",
    "import pandas as pd\n",
    "from dateutil.rrule import rrule, DAILY\n",
    "import datetime\n",
    "from datetime import date\n",
    "import glob"
   ]
  },
  {
   "cell_type": "code",
   "execution_count": 19,
   "metadata": {},
   "outputs": [],
   "source": [
    "#official script for m2m api\n",
    "\n",
    "import json\n",
    "import requests\n",
    "import sys\n",
    "import time\n",
    "import argparse\n",
    "import re\n",
    "import threading\n",
    "import datetime\n",
    "import os\n",
    "from dotenv import load_dotenv\n",
    "\n",
    "load_dotenv()\n",
    "\n",
    "\n",
    "path = \"../../data/landsat/m2m_download\" # Fill a valid download path\n",
    "maxthreads = 10 # Threads count for downloads\n",
    "sema = threading.Semaphore(value=maxthreads)\n",
    "label = datetime.datetime.now().strftime(\"%Y%m%d_%H%M%S\") # Customized label using date time\n",
    "threads = []\n",
    "# The entityIds/displayIds need to save to a text file such as scenes.txt.\n",
    "# The header of text file should follow the format: datasetName|displayId or datasetName|entityId. \n",
    "# sample file - scenes.txt\n",
    "# landsat_ot_c2_l2|displayId\n",
    "# LC08_L2SP_012025_20201231_20210308_02_T1\n",
    "# LC08_L2SP_012027_20201215_20210314_02_T1\n",
    "scenesFile = '../pyScripts/scenes2.txt'\n",
    "\n",
    "# Send http request\n",
    "def sendRequest(url, data, apiKey = None, exitIfNoResponse = True):  \n",
    "    json_data = json.dumps(data)\n",
    "    \n",
    "    if apiKey == None:\n",
    "        response = requests.post(url, json_data)\n",
    "    else:\n",
    "        headers = {'X-Auth-Token': apiKey}              \n",
    "        response = requests.post(url, json_data, headers = headers)  \n",
    "    \n",
    "    try:\n",
    "      httpStatusCode = response.status_code \n",
    "      if response == None:\n",
    "          print(\"No output from service\")\n",
    "          if exitIfNoResponse: sys.exit()\n",
    "          else: return False\n",
    "      output = json.loads(response.text)\n",
    "      if output['errorCode'] != None:\n",
    "          print(output['errorCode'], \"- \", output['errorMessage'])\n",
    "          if exitIfNoResponse: sys.exit()\n",
    "          else: return False\n",
    "      if  httpStatusCode == 404:\n",
    "          print(\"404 Not Found\")\n",
    "          if exitIfNoResponse: sys.exit()\n",
    "          else: return False\n",
    "      elif httpStatusCode == 401: \n",
    "          print(\"401 Unauthorized\")\n",
    "          if exitIfNoResponse: sys.exit()\n",
    "          else: return False\n",
    "      elif httpStatusCode == 400:\n",
    "          print(\"Error Code\", httpStatusCode)\n",
    "          if exitIfNoResponse: sys.exit()\n",
    "          else: return False\n",
    "    except Exception as e: \n",
    "          response.close()\n",
    "          print(e)\n",
    "          if exitIfNoResponse: sys.exit()\n",
    "          else: return False\n",
    "    response.close()\n",
    "    \n",
    "    return output['data']\n",
    "\n",
    "def downloadFile(url):\n",
    "    sema.acquire()\n",
    "    try:        \n",
    "        response = requests.get(url, stream=True)\n",
    "        disposition = response.headers['content-disposition']\n",
    "        filename = re.findall(\"filename=(.+)\", disposition)[0].strip(\"\\\"\")\n",
    "        print(f\"Downloading {filename} ...\\n\")\n",
    "        if path != \"\" and path[-1] != \"/\":\n",
    "            filename = \"/\" + filename\n",
    "        open(path+filename, 'wb').write(response.content)\n",
    "        print(f\"Downloaded {filename}\\n\")\n",
    "        sema.release()\n",
    "    except Exception as e:\n",
    "        print(f\"Failed to download from {url}. Will try to re-download.\")\n",
    "        sema.release()\n",
    "        runDownload(threads, url)\n",
    "    \n",
    "def runDownload(threads, url):\n",
    "    thread = threading.Thread(target=downloadFile, args=(url,))\n",
    "    threads.append(thread)\n",
    "    thread.start()"
   ]
  },
  {
   "cell_type": "code",
   "execution_count": 149,
   "metadata": {},
   "outputs": [
    {
     "name": "stdout",
     "output_type": "stream",
     "text": [
      "\n",
      "Running Scripts...\n",
      "\n",
      "API Key: eyJjaWQiOjI2NDc1ODQwLCJzIjoiMTY2ODA1NDkxNyIsInIiOjk4NywicCI6WyJ1c2VyIiwiZG93bmxvYWQiLCJvcmRlciJdfQ==\n",
      "\n",
      "Searching datasets...\n",
      "\n",
      "Found  1  datasets\n",
      "\n"
     ]
    }
   ],
   "source": [
    "username = os.getenv(\"M2M_USER\")\n",
    "password = os.getenv(\"M2M_PSWD\")  \n",
    "\n",
    "print(\"\\nRunning Scripts...\\n\")\n",
    "\n",
    "serviceUrl = \"https://m2m.cr.usgs.gov/api/api/json/stable/\"\n",
    "\n",
    "# login\n",
    "payload = {'username' : username, 'password' : password}\n",
    "\n",
    "apiKey = sendRequest(serviceUrl + \"login\", payload)\n",
    "\n",
    "print(\"API Key: \" + apiKey + \"\\n\")\n",
    "\n",
    "datasetName = \"landsat_ot_c2_l1\"\n",
    "\n",
    "spatialFilter =  {'filterType' : \"mbr\",\n",
    "                  'lowerLeft' : {'latitude' : 30, 'longitude' : -120},\n",
    "                  'upperRight' : { 'latitude' : 40, 'longitude' : -140}}\n",
    "\n",
    "temporalFilter = {'start' : '2021-10-10', 'end' : '2025-12-10'}\n",
    "\n",
    "payload = {'datasetName' : datasetName,\n",
    "                           'temporalFilter' : temporalFilter}                     \n",
    "\n",
    "print(\"Searching datasets...\\n\")\n",
    "datasets = sendRequest(serviceUrl + \"dataset-search\", payload, apiKey)\n",
    "\n",
    "print(\"Found \", len(datasets), \" datasets\\n\")"
   ]
  },
  {
   "cell_type": "code",
   "execution_count": 173,
   "metadata": {},
   "outputs": [
    {
     "name": "stdout",
     "output_type": "stream",
     "text": [
      "Searching scenes...\n",
      "\n",
      "\n"
     ]
    }
   ],
   "source": [
    "acquisitionFilter = {\"end\": \"2021-11-30\",\n",
    "                             \"start\": \"2021-10-10\" }        \n",
    "metadataValue = {\"filterType\":\"value\",\n",
    "                  \"filterId\":\"61af93b8fad2acf5\",\n",
    "                  \"value\":\"9\",\n",
    "                   \"operand\":\"=\"\n",
    "                 }\n",
    "\n",
    "\n",
    "payload = {'datasetName' : 'landsat_ot_c2_l1', \n",
    "                         'maxResults' : 50000,\n",
    "                         #'startingNumber' : 1, \n",
    "                         'sceneFilter' : {'metadataFilter':metadataValue,\n",
    "                                          #'spatialFilter' : spatialFilter,\n",
    "                                          'acquisitionFilter' : acquisitionFilter}}\n",
    "\n",
    "# Now I need to run a scene search to find data to download\n",
    "print(\"Searching scenes...\\n\\n\")   \n",
    "\n",
    "scenes = sendRequest(serviceUrl + \"scene-search\", payload, apiKey)"
   ]
  },
  {
   "cell_type": "code",
   "execution_count": 174,
   "metadata": {},
   "outputs": [
    {
     "data": {
      "text/plain": [
       "12215"
      ]
     },
     "execution_count": 174,
     "metadata": {},
     "output_type": "execute_result"
    }
   ],
   "source": [
    "len(scenes['results'])"
   ]
  },
  {
   "cell_type": "code",
   "execution_count": 175,
   "metadata": {},
   "outputs": [
    {
     "data": {
      "text/plain": [
       "'LC09_L1TP_168055_20211124_20220120_02_T1'"
      ]
     },
     "execution_count": 175,
     "metadata": {},
     "output_type": "execute_result"
    }
   ],
   "source": [
    "scenes['results'][400]['displayId']"
   ]
  },
  {
   "cell_type": "code",
   "execution_count": 20,
   "metadata": {},
   "outputs": [
    {
     "name": "stdout",
     "output_type": "stream",
     "text": [
      "\n",
      "Running Scripts...\n",
      "\n",
      "API Key: eyJjaWQiOjI2NDc1ODQwLCJzIjoiMTY2NzY1NzMzNiIsInIiOjM3NSwicCI6WyJ1c2VyIiwiZG93bmxvYWQiLCJvcmRlciJdfQ==\n",
      "\n",
      "Scenes details:\n",
      "Dataset name: landsat_ot_c2_l1\n",
      "Id field: displayId\n",
      "\n",
      "Adding scenes to list...\n",
      "\n",
      "Added 200 scenes\n",
      "\n",
      "Getting product download options...\n",
      "\n",
      "Got product download options\n",
      "\n",
      "Sending download request ...\n",
      "\n",
      "Done sending download request\n",
      "\n"
     ]
    }
   ],
   "source": [
    "username = os.getenv(\"M2M_USER\")\n",
    "password = os.getenv(\"M2M_PSWD\")\n",
    "filetype = 'bundle'\n",
    "\n",
    "print(\"\\nRunning Scripts...\\n\")\n",
    "startTime = time.time()\n",
    "\n",
    "serviceUrl = \"https://m2m.cr.usgs.gov/api/api/json/stable/\"\n",
    "\n",
    "# Login\n",
    "payload = {'username' : username, 'password' : password}    \n",
    "apiKey = sendRequest(serviceUrl + \"login\", payload)    \n",
    "print(\"API Key: \" + apiKey + \"\\n\")\n",
    "\n",
    "# Read scenes\n",
    "f = open(scenesFile, \"r\")\n",
    "lines = f.readlines()   \n",
    "f.close()\n",
    "header = lines[0].strip()\n",
    "datasetName = header[:header.find(\"|\")]\n",
    "idField = header[header.find(\"|\")+1:]\n",
    "\n",
    "print(\"Scenes details:\")\n",
    "print(f\"Dataset name: {datasetName}\")\n",
    "print(f\"Id field: {idField}\\n\")\n",
    "\n",
    "entityIds = []\n",
    "\n",
    "lines.pop(0)\n",
    "for line in lines:        \n",
    "    entityIds.append(line.strip())\n",
    "\n",
    "# Search scenes \n",
    "# If you don't have a scenes text file that you can use scene-search to identify scenes you're interested in\n",
    "# https://m2m.cr.usgs.gov/api/docs/reference/#scene-search\n",
    "# payload = { \n",
    "#             'datasetName' : '', # dataset alias\n",
    "#             'maxResults' : 10, # max results to return\n",
    "#             'startingNumber' : 1, \n",
    "#             'sceneFilter' : {} # scene filter\n",
    "#           }\n",
    "\n",
    "# results = sendRequest(serviceUrl + \"scene-search\", payload, apiKey)  \n",
    "# for result in results:\n",
    "#     entityIds.append(result['entityId'])\n",
    "\n",
    "# Add scenes to a list\n",
    "listId = f\"temp_{datasetName}_list\" # customized list id\n",
    "payload = {\n",
    "    \"listId\": listId,\n",
    "    'idField' : idField,\n",
    "    \"entityIds\": entityIds,\n",
    "    \"datasetName\": datasetName\n",
    "}\n",
    "\n",
    "print(\"Adding scenes to list...\\n\")\n",
    "count = sendRequest(serviceUrl + \"scene-list-add\", payload, apiKey)    \n",
    "print(\"Added\", count, \"scenes\\n\")\n",
    "\n",
    "# Get download options\n",
    "payload = {\n",
    "    \"listId\": listId,\n",
    "    \"datasetName\": datasetName\n",
    "}\n",
    "\n",
    "print(\"Getting product download options...\\n\")\n",
    "products = sendRequest(serviceUrl + \"download-options\", payload, apiKey)\n",
    "print(\"Got product download options\\n\")\n",
    "\n",
    "# Select products\n",
    "downloads = []\n",
    "if filetype == 'bundle':\n",
    "    # select bundle files\n",
    "    for product in products:        \n",
    "        if product[\"bulkAvailable\"]:               \n",
    "            downloads.append({\"entityId\":product[\"entityId\"], \"productId\":product[\"id\"]})\n",
    "elif filetype == 'band':\n",
    "    # select band files\n",
    "    for product in products:  \n",
    "        if product[\"secondaryDownloads\"] is not None and len(product[\"secondaryDownloads\"]) > 0:\n",
    "            for secondaryDownload in product[\"secondaryDownloads\"]:\n",
    "                if secondaryDownload[\"bulkAvailable\"]:\n",
    "                    downloads.append({\"entityId\":secondaryDownload[\"entityId\"], \"productId\":secondaryDownload[\"id\"]})\n",
    "else:\n",
    "    # select all available files\n",
    "    for product in products:        \n",
    "        if product[\"bulkAvailable\"]:               \n",
    "            downloads.append({\"entityId\":product[\"entityId\"], \"productId\":product[\"id\"]})\n",
    "            if product[\"secondaryDownloads\"] is not None and len(product[\"secondaryDownloads\"]) > 0:\n",
    "                for secondaryDownload in product[\"secondaryDownloads\"]:\n",
    "                    if secondaryDownload[\"bulkAvailable\"]:\n",
    "                        downloads.append({\"entityId\":secondaryDownload[\"entityId\"], \"productId\":secondaryDownload[\"id\"]})\n",
    "\n",
    "# Remove the list\n",
    "payload = {\n",
    "    \"listId\": listId\n",
    "}\n",
    "sendRequest(serviceUrl + \"scene-list-remove\", payload, apiKey)                \n",
    "\n",
    "# Send download-request\n",
    "payLoad = {\n",
    "    \"downloads\": downloads,\n",
    "    \"label\": label,\n",
    "    'returnAvailable': True\n",
    "}\n",
    "\n",
    "print(f\"Sending download request ...\\n\")\n",
    "results = sendRequest(serviceUrl + \"download-request\", payLoad, apiKey)\n",
    "print(f\"Done sending download request\\n\") "
   ]
  },
  {
   "cell_type": "code",
   "execution_count": null,
   "metadata": {},
   "outputs": [],
   "source": [
    "results"
   ]
  },
  {
   "cell_type": "code",
   "execution_count": 26,
   "metadata": {},
   "outputs": [
    {
     "data": {
      "text/plain": [
       "'https://landsatlook.usgs.gov/gen-browse?size=frb&type=refl&product_id=LC09_L1GT_002051_20211122_20220120_02_T2&requestSignature=eyJjb250YWN0SWQiOjI2NDc1ODQwLCJkb3dubG9hZElkIjozMjc5MjI0NjksImRhdGVHZW5lcmF0ZWQiOiIyMDIyLTExLTA1VDA5OjA5OjI2LTA1OjAwIiwic2lnbmF0dXJlIjoiJDUkJFwvR3pBQUFxb2VoVENwYnBRMU9uZjZNZWlVY2dNS1QwR2VtXC9WQ0tURkVlMCJ9'"
      ]
     },
     "execution_count": 26,
     "metadata": {},
     "output_type": "execute_result"
    }
   ],
   "source": [
    "results['availableDownloads'][1]['url']"
   ]
  },
  {
   "cell_type": "code",
   "execution_count": 27,
   "metadata": {},
   "outputs": [],
   "source": [
    "from urllib.parse import urlparse"
   ]
  },
  {
   "cell_type": "code",
   "execution_count": null,
   "metadata": {},
   "outputs": [],
   "source": [
    "for result in results['availableDownloads']:\n",
    "    u = urlparse(result['url'])\n",
    "    if u.path.split('/')[-1]!='gen-browse':\n",
    "        "
   ]
  },
  {
   "cell_type": "code",
   "execution_count": 28,
   "metadata": {},
   "outputs": [],
   "source": []
  },
  {
   "cell_type": "code",
   "execution_count": 32,
   "metadata": {},
   "outputs": [
    {
     "data": {
      "text/plain": [
       "'gen-browse'"
      ]
     },
     "execution_count": 32,
     "metadata": {},
     "output_type": "execute_result"
    }
   ],
   "source": []
  },
  {
   "cell_type": "code",
   "execution_count": null,
   "metadata": {},
   "outputs": [],
   "source": []
  },
  {
   "cell_type": "code",
   "execution_count": null,
   "metadata": {},
   "outputs": [],
   "source": [
    "for result in results['availableDownloads']:       \n",
    "    print(f\"Get download url: {result['url']}\\n\" )\n",
    "    runDownload(threads, result['url'])\n",
    "\n",
    "preparingDownloadCount = len(results['preparingDownloads'])\n",
    "preparingDownloadIds = []\n",
    "if preparingDownloadCount > 0:\n",
    "    for result in results['preparingDownloads']:  \n",
    "        preparingDownloadIds.append(result['downloadId'])\n",
    "\n",
    "    payload = {\"label\" : label}                \n",
    "    # Retrieve download urls\n",
    "    print(\"Retrieving download urls...\\n\")\n",
    "    results = sendRequest(serviceUrl + \"download-retrieve\", payload, apiKey, False)\n",
    "    if results != False:\n",
    "        for result in results['available']:\n",
    "            if result['downloadId'] in preparingDownloadIds:\n",
    "                preparingDownloadIds.remove(result['downloadId'])\n",
    "                print(f\"Get download url: {result['url']}\\n\" )\n",
    "                runDownload(threads, result['url'])\n",
    "\n",
    "        for result in results['requested']:   \n",
    "            if result['downloadId'] in preparingDownloadIds:\n",
    "                preparingDownloadIds.remove(result['downloadId'])\n",
    "                print(f\"Get download url: {result['url']}\\n\" )\n",
    "                runDownload(threads, result['url'])\n",
    "\n",
    "    # Don't get all download urls, retrieve again after 30 seconds\n",
    "    while len(preparingDownloadIds) > 0: \n",
    "        print(f\"{len(preparingDownloadIds)} downloads are not available yet. Waiting for 30s to retrieve again\\n\")\n",
    "        time.sleep(30)\n",
    "        results = sendRequest(serviceUrl + \"download-retrieve\", payload, apiKey, False)\n",
    "        if results != False:\n",
    "            for result in results['available']:                            \n",
    "                if result['downloadId'] in preparingDownloadIds:\n",
    "                    preparingDownloadIds.remove(result['downloadId'])\n",
    "                    print(f\"Get download url: {result['url']}\\n\" )\n",
    "                    runDownload(threads, result['url'])\n",
    "\n",
    "print(\"\\nGot download urls for all downloads\\n\")                \n",
    "# Logout\n",
    "endpoint = \"logout\"  \n",
    "if sendRequest(serviceUrl + endpoint, None, apiKey) == None:        \n",
    "    print(\"Logged Out\\n\")\n",
    "else:\n",
    "    print(\"Logout Failed\\n\")  \n",
    "\n",
    "print(\"Downloading files... Please do not close the program\\n\")\n",
    "for thread in threads:\n",
    "    thread.join()\n",
    "\n",
    "print(\"Complete Downloading\")\n",
    "\n",
    "executionTime = round((time.time() - startTime), 2)\n",
    "print(f'Total time: {executionTime} seconds')"
   ]
  },
  {
   "cell_type": "code",
   "execution_count": 2,
   "metadata": {},
   "outputs": [],
   "source": [
    "# background step: login in USGS EROS so the brower cookie can skip the redirect of USGS when request\n",
    "\n",
    "cj = browser_cookie3.firefox(domain_name='usgs.gov')"
   ]
  },
  {
   "cell_type": "code",
   "execution_count": 3,
   "metadata": {},
   "outputs": [],
   "source": [
    "# single file\n",
    "\n",
    "url = \"https://landsatlook.usgs.gov/data/collection02/level-2/standard/oli-tirs/2020/047/027/LC08_L2SP_047027_20201204_20210313_02_T1/LC08_L2SP_047027_20201204_20210313_02_T1_SR_B7.TIF\"\n",
    "url = \"https://landsatlook.usgs.gov/data/collection02/level-1/standard/oli-tirs/2022/008/009/LC09_L1GT_008009_20221014_20221014_02_T2/LC09_L1GT_008009_20221014_20221014_02_T2_B2.TIF\"\n",
    "\n",
    "url\n",
    "r = requests.get(url, stream = True,cookies=cj)\n",
    "\n",
    "\n",
    "fname = Path(url).name\n",
    "if r.status_code == 200:\n",
    "    # Set decode_content value to True, otherwise the downloaded image file's size will be zero.\n",
    "    r.raw.decode_content = True\n",
    "    \n",
    "    # Open a local file with wb ( write binary ) permission.\n",
    "    with open(fname,'wb') as f:\n",
    "        shutil.copyfileobj(r.raw, f)"
   ]
  },
  {
   "cell_type": "code",
   "execution_count": 4,
   "metadata": {},
   "outputs": [],
   "source": [
    "def cache_asset(url,path):\n",
    "    r = requests.get(url, stream = True,cookies=cj)\n",
    "    if r.status_code == 200:\n",
    "        # Set decode_content value to True, otherwise the downloaded image file's size will be zero.\n",
    "        r.raw.decode_content = True\n",
    "        \n",
    "        # Open a local file with wb ( write binary ) permission.\n",
    "        with open(path,'wb') as f:\n",
    "            shutil.copyfileobj(r.raw, f)"
   ]
  },
  {
   "cell_type": "code",
   "execution_count": null,
   "metadata": {},
   "outputs": [],
   "source": [
    "target"
   ]
  },
  {
   "cell_type": "code",
   "execution_count": 15,
   "metadata": {},
   "outputs": [],
   "source": [
    "usgs_item_url = f\"https://landsatlook.usgs.gov/stac-server/collections/landsat-c2l1/items/LC09_L1TP_094083_20211110_20220119_02_T1\"\n",
    "#read stac\n",
    "r = urlopen(usgs_item_url).read()\n",
    "stac_json = json.loads(r)"
   ]
  },
  {
   "cell_type": "code",
   "execution_count": 23,
   "metadata": {},
   "outputs": [],
   "source": [
    "\n",
    "def hand_pull_product(product_id,collection=\"landsat-c2l1\",tarfile=True,verbose=False):\n",
    "    \"\"\"\n",
    "    product_id: e.g.\"LC09_L1TP_086075_20220509_20220510_02_T1\"\n",
    "    \"\"\"\n",
    "    directory = f\"../../data/landsat/hand_pull/{product_id}\"\n",
    "    if os.path.exists(directory+\".tar\"):\n",
    "        #print('skip',product_id)\n",
    "        return\n",
    "    usgs_item_url = f\"https://landsatlook.usgs.gov/stac-server/collections/{collection}/items/{product_id}\"\n",
    "    #aws_item_url = \"https://jcz3phgts3.execute-api.us-west-2.amazonaws.com/dev/getobject/collection02/level-1/standard/oli-tirs/2021/094/083/LC09_L1TP_094083_20211110_20220119_02_T1/LC09_L1TP_094083_20211110_20220119_02_T1_stac.json\"\n",
    "    #read stac\n",
    "    r = urlopen(usgs_item_url).read()\n",
    "    stac_json = json.loads(r)\n",
    "    scene = Item.from_dict(stac_json)\n",
    "    assets_urls = [[k,scene.assets[k].href] for k in scene.get_assets().keys() if k != 'index']\n",
    "    directory = f\"../../data/landsat/hand_pull/{scene.id}\" #in case there is a miss match\n",
    "    if not os.path.exists(directory):\n",
    "        os.makedirs(directory)\n",
    "    #loop run the assets\n",
    "    for k,url in assets_urls:\n",
    "        path = f\"{directory}/{Path(url).name}\"\n",
    "        #print(k,path)\n",
    "        if verbose:\n",
    "            print(url)\n",
    "        cache_asset(url,path)\n",
    "    # save stac information\n",
    "    with open(f\"{directory}/{scene.id}_stac.json\",\"w\") as w:\n",
    "        json.dump(stac_json,w)\n",
    "    if tarfile:\n",
    "        output = shutil.make_archive(directory, 'tar', Path(directory).parent, Path(directory).name)\n",
    "        print(output)\n",
    "        shutil.rmtree(directory)\n",
    "    else:\n",
    "        print(directory)"
   ]
  },
  {
   "cell_type": "code",
   "execution_count": 7,
   "metadata": {},
   "outputs": [],
   "source": [
    "missing_products_l1 = pd.read_csv(\"../../../data/Landsat/missing_id.csv\").id.tolist()"
   ]
  },
  {
   "cell_type": "code",
   "execution_count": 7,
   "metadata": {},
   "outputs": [],
   "source": [
    "chronological_list = sorted(missing_products_l1, key=lambda x: x.split('_')[3])"
   ]
  },
  {
   "cell_type": "code",
   "execution_count": 8,
   "metadata": {},
   "outputs": [
    {
     "data": {
      "text/plain": [
       "128879"
      ]
     },
     "execution_count": 8,
     "metadata": {},
     "output_type": "execute_result"
    }
   ],
   "source": [
    "len(chronological_list)"
   ]
  },
  {
   "cell_type": "code",
   "execution_count": 2,
   "metadata": {},
   "outputs": [],
   "source": [
    "import glob"
   ]
  },
  {
   "cell_type": "code",
   "execution_count": 41,
   "metadata": {},
   "outputs": [],
   "source": []
  },
  {
   "cell_type": "code",
   "execution_count": 67,
   "metadata": {},
   "outputs": [],
   "source": [
    "#debugging single file\n",
    "#prd_id = finished[0]\n",
    "def move_to_row_path(prd_id,sub_folder):\n",
    "    row,path = prd_id.split('_')[2][0:3],prd_id.split('_')[2][3:]\n",
    "    dst = f\"../../data/landsat/{row}/{path}/\"\n",
    "    if not os.path.exists(dst):\n",
    "        os.makedirs(dst)\n",
    "    shutil.move(f\"../../data/landsat/{sub_folder}/{prd_id}.tar\",dst)"
   ]
  },
  {
   "cell_type": "code",
   "execution_count": null,
   "metadata": {},
   "outputs": [],
   "source": []
  },
  {
   "cell_type": "code",
   "execution_count": 260,
   "metadata": {},
   "outputs": [],
   "source": [
    "finished_m2m= [fp.split('/')[-1] for fp in glob.glob(\"../../data/landsat/m2m_download/*/*\")]"
   ]
  },
  {
   "cell_type": "code",
   "execution_count": 227,
   "metadata": {},
   "outputs": [],
   "source": [
    "# for asset in finished_folder:\n",
    "#     if len(os.listdir(asset))!= 24:\n",
    "#         print(asset,len(os.listdir(asset)))"
   ]
  },
  {
   "cell_type": "code",
   "execution_count": 97,
   "metadata": {},
   "outputs": [
    {
     "name": "stderr",
     "output_type": "stream",
     "text": [
      "100%|███████████████████████████████████████| 200/200 [00:02<00:00, 98.14it/s]\n"
     ]
    }
   ],
   "source": [
    "# archive\n",
    "finished_handpull = [fp.split('/')[-1][:-4] for fp in glob.glob(\"../../data/landsat/m2m_download/*.tar\")]\n",
    "import tqdm\n",
    "for prd_id in tqdm.tqdm(finished_handpull):\n",
    "    move_to_row_path(prd_id,\"m2m_download\")"
   ]
  },
  {
   "cell_type": "code",
   "execution_count": 98,
   "metadata": {},
   "outputs": [],
   "source": [
    "finished = [fp.split('/')[-1][:-4] for fp in glob.glob(\"../../data/landsat/**/*.tar\",recursive=True)]"
   ]
  },
  {
   "cell_type": "code",
   "execution_count": 99,
   "metadata": {},
   "outputs": [
    {
     "data": {
      "text/plain": [
       "136637"
      ]
     },
     "execution_count": 99,
     "metadata": {},
     "output_type": "execute_result"
    }
   ],
   "source": [
    "len(finished)"
   ]
  },
  {
   "cell_type": "code",
   "execution_count": 40,
   "metadata": {},
   "outputs": [],
   "source": [
    "#hand_pull_product(\"LO09_L1TP_153041_20220312_20220315_02_T1\")"
   ]
  },
  {
   "cell_type": "code",
   "execution_count": 41,
   "metadata": {},
   "outputs": [],
   "source": [
    "chronological_list = sorted(list(set(missing_products_l1)-set(finished)), key=lambda x: x.split('_')[3])"
   ]
  },
  {
   "cell_type": "code",
   "execution_count": 42,
   "metadata": {},
   "outputs": [
    {
     "data": {
      "text/plain": [
       "66089"
      ]
     },
     "execution_count": 42,
     "metadata": {},
     "output_type": "execute_result"
    }
   ],
   "source": [
    "len(chronological_list)"
   ]
  },
  {
   "cell_type": "code",
   "execution_count": 63,
   "metadata": {},
   "outputs": [
    {
     "data": {
      "text/plain": [
       "'LC09_L1TP_014014_20220501_20220501_02_T1'"
      ]
     },
     "execution_count": 63,
     "metadata": {},
     "output_type": "execute_result"
    }
   ],
   "source": [
    "chronological_list[19100]"
   ]
  },
  {
   "cell_type": "code",
   "execution_count": 94,
   "metadata": {},
   "outputs": [
    {
     "data": {
      "text/plain": [
       "200"
      ]
     },
     "execution_count": 94,
     "metadata": {},
     "output_type": "execute_result"
    }
   ],
   "source": [
    "len(todo)"
   ]
  },
  {
   "cell_type": "code",
   "execution_count": 127,
   "metadata": {},
   "outputs": [
    {
     "data": {
      "text/plain": [
       "123"
      ]
     },
     "execution_count": 127,
     "metadata": {},
     "output_type": "execute_result"
    }
   ],
   "source": [
    "len(m2m_batch1) // 100 +1"
   ]
  },
  {
   "cell_type": "code",
   "execution_count": null,
   "metadata": {},
   "outputs": [],
   "source": []
  },
  {
   "cell_type": "code",
   "execution_count": 195,
   "metadata": {},
   "outputs": [],
   "source": [
    "def export_scenes_list(many_scenes,batch_tag,batch_size=100):\n",
    "    batch_num = len(many_scenes) // batch_size +1\n",
    "    if len(many_scenes) % batch_size == 0:\n",
    "        batch_num-=1\n",
    "    import os\n",
    "    dest = f'../../data/landsat/task/{batch_tag}'\n",
    "    try:\n",
    "        os.makedirs(dest)\n",
    "    except FileExistsError:\n",
    "       # directory already exists\n",
    "       pass\n",
    "    for i in range(1,batch_num+1):\n",
    "        with open(f'{dest}/scenes_{str(i).zfill(4)}.txt', 'w') as fp:\n",
    "            fp.write(\"landsat_ot_c2_l1|displayId\\n\")\n",
    "            for item in many_scenes[(i-1)*batch_size:i*batch_size]:\n",
    "                # write each item on a new line\n",
    "                fp.write(f\"{item}\\n\")\n",
    "    print('Done',batch_num)"
   ]
  },
  {
   "cell_type": "code",
   "execution_count": 181,
   "metadata": {},
   "outputs": [
    {
     "name": "stdout",
     "output_type": "stream",
     "text": [
      "Done 97\n"
     ]
    }
   ],
   "source": [
    "export_scenes_list(m2m_batch2,200)"
   ]
  },
  {
   "cell_type": "code",
   "execution_count": 96,
   "metadata": {},
   "outputs": [
    {
     "name": "stdout",
     "output_type": "stream",
     "text": [
      "Done\n"
     ]
    }
   ],
   "source": [
    "with open(r'../pyScripts/scenes.txt', 'w') as fp:\n",
    "    fp.write(\"landsat_ot_c2_l1|displayId\\n\")\n",
    "    for item in todo:\n",
    "        # write each item on a new line\n",
    "        fp.write(f\"{item}\\n\")\n",
    "    print('Done')"
   ]
  },
  {
   "cell_type": "code",
   "execution_count": null,
   "metadata": {},
   "outputs": [],
   "source": []
  },
  {
   "cell_type": "code",
   "execution_count": 52,
   "metadata": {},
   "outputs": [
    {
     "name": "stdout",
     "output_type": "stream",
     "text": [
      "../pyScripts/scenes_21.txt\n",
      "../pyScripts/scenes_68.txt\n",
      "../pyScripts/scenes_59.txt\n",
      "../pyScripts/scenes_60.txt\n",
      "../pyScripts/scenes_27.txt\n",
      "../pyScripts/scenes_51.txt\n",
      "../pyScripts/scenes_65.txt\n",
      "../pyScripts/scenes_7.txt\n",
      "../pyScripts/scenes_63.txt\n",
      "../pyScripts/scenes_34.txt\n",
      "../pyScripts/scenes_49.txt\n",
      "../pyScripts/scenes_33.txt\n",
      "../pyScripts/scenes_71.txt\n",
      "../pyScripts/scenes_46.txt\n",
      "../pyScripts/scenes_47.txt\n",
      "../pyScripts/scenes_64.txt\n",
      "../pyScripts/scenes_2.txt\n",
      "../pyScripts/scenes_3.txt\n",
      "../pyScripts/scenes_15.txt\n",
      "../pyScripts/scenes_32.txt\n",
      "../pyScripts/scenes_13.txt\n",
      "../pyScripts/scenes_42.txt\n",
      "../pyScripts/scenes_66.txt\n",
      "../pyScripts/scenes_9.txt\n",
      "../pyScripts/scenes_52.txt\n",
      "../pyScripts/scenes_6.txt\n",
      "../pyScripts/scenes_26.txt\n",
      "../pyScripts/scenes_8.txt\n",
      "../pyScripts/scenes_70.txt\n",
      "../pyScripts/scenes_19.txt\n",
      "../pyScripts/scenes_36.txt\n",
      "../pyScripts/scenes_11.txt\n",
      "../pyScripts/scenes_22.txt\n",
      "../pyScripts/scenes_35.txt\n",
      "../pyScripts/scenes_74.txt\n",
      "../pyScripts/scenes_4.txt\n",
      "../pyScripts/scenes_17.txt\n",
      "../pyScripts/scenes_28.txt\n",
      "../pyScripts/scenes_67.txt\n",
      "../pyScripts/scenes_57.txt\n",
      "../pyScripts/scenes_1.txt\n",
      "../pyScripts/scenes_44.txt\n",
      "../pyScripts/scenes_53.txt\n",
      "../pyScripts/scenes_43.txt\n",
      "../pyScripts/scenes_24.txt\n",
      "../pyScripts/scenes_16.txt\n",
      "../pyScripts/scenes_40.txt\n",
      "../pyScripts/scenes_75.txt\n",
      "../pyScripts/scenes_41.txt\n",
      "../pyScripts/scenes_45.txt\n",
      "../pyScripts/scenes_39.txt\n",
      "../pyScripts/scenes_69.txt\n",
      "../pyScripts/scenes_54.txt\n",
      "../pyScripts/scenes_30.txt\n",
      "../pyScripts/scenes_55.txt\n",
      "../pyScripts/scenes_10.txt\n",
      "../pyScripts/scenes_20.txt\n",
      "../pyScripts/scenes_23.txt\n",
      "../pyScripts/scenes_48.txt\n",
      "../pyScripts/scenes_29.txt\n",
      "../pyScripts/scenes_50.txt\n",
      "../pyScripts/scenes_58.txt\n",
      "../pyScripts/scenes_62.txt\n",
      "../pyScripts/scenes_18.txt\n",
      "../pyScripts/scenes_37.txt\n",
      "../pyScripts/scenes_31.txt\n",
      "../pyScripts/scenes_38.txt\n",
      "../pyScripts/scenes_73.txt\n",
      "../pyScripts/scenes_14.txt\n",
      "../pyScripts/scenes_5.txt\n",
      "../pyScripts/scenes_56.txt\n",
      "../pyScripts/scenes2.txt\n",
      "../pyScripts/scenes_61.txt\n",
      "../pyScripts/scenes_25.txt\n",
      "../pyScripts/scenes_12.txt\n",
      "../pyScripts/scenes.txt\n",
      "../pyScripts/scenes_72.txt\n"
     ]
    }
   ],
   "source": [
    "!find ../pyScripts/ -type f -name scenes*.txt"
   ]
  },
  {
   "cell_type": "code",
   "execution_count": 12,
   "metadata": {},
   "outputs": [
    {
     "data": {
      "text/plain": [
       "'LC09_L1TP_126007_20220331_20220331_02_T1'"
      ]
     },
     "execution_count": 12,
     "metadata": {},
     "output_type": "execute_result"
    }
   ],
   "source": [
    "chronological_list[22000]"
   ]
  },
  {
   "cell_type": "code",
   "execution_count": 10,
   "metadata": {},
   "outputs": [
    {
     "data": {
      "text/plain": [
       "'LC09_L1TP_110012_20220518_20220518_02_T1'"
      ]
     },
     "execution_count": 10,
     "metadata": {},
     "output_type": "execute_result"
    }
   ],
   "source": [
    "chronological_list[40000]"
   ]
  },
  {
   "cell_type": "code",
   "execution_count": null,
   "metadata": {},
   "outputs": [],
   "source": [
    "#stress test\n",
    "start = 9\n",
    "for it in range(start,start+10)\n",
    "    prd_id = missing_products_l1[it]\n",
    "    \n",
    "    print(datetime.datetime.now(),prd_id)\n",
    "    hand_pull_product(prd_id,collection=\"landsat-c2l1\")"
   ]
  },
  {
   "cell_type": "code",
   "execution_count": 25,
   "metadata": {},
   "outputs": [],
   "source": [
    "def dry_run(product_id,collection):\n",
    "    #print(product_id,collection)\n",
    "    import time\n",
    "    time.s"
   ]
  },
  {
   "cell_type": "code",
   "execution_count": null,
   "metadata": {},
   "outputs": [],
   "source": [
    "zip(a_args, repeat(second_arg)"
   ]
  },
  {
   "cell_type": "code",
   "execution_count": null,
   "metadata": {},
   "outputs": [],
   "source": [
    "#stress test multiple threading\n",
    "from multiprocessing import Pool\n",
    "from itertools import repeat\n",
    "print(datetime.datetime.now())\n",
    "start = 39\n",
    "a_args = missing_products_l1[start:start+961]\n",
    "second_arg = \"landsat-c2l1\"\n",
    "with Pool(10) as p:\n",
    "    M = p.starmap(hand_pull_product, zip(a_args, repeat(second_arg)))\n",
    "print(datetime.datetime.now())\n"
   ]
  },
  {
   "cell_type": "code",
   "execution_count": 32,
   "metadata": {},
   "outputs": [],
   "source": [
    "import tqdm"
   ]
  },
  {
   "cell_type": "code",
   "execution_count": null,
   "metadata": {},
   "outputs": [],
   "source": [
    "from multiprocessing import Pool\n",
    "from itertools import repeat\n",
    "a_args = chronological_list\n",
    "second_arg = \"landsat-c2l1\"\n",
    "with Pool(10) as p:\n",
    "    M = p.starmap(dry_run, tqdm.tqdm(zip(a_args, repeat(second_arg)),total=len(a_args)))"
   ]
  },
  {
   "cell_type": "code",
   "execution_count": null,
   "metadata": {},
   "outputs": [],
   "source": []
  },
  {
   "cell_type": "code",
   "execution_count": null,
   "metadata": {},
   "outputs": [],
   "source": [
    "#stress test robustness # preferred deployed\n",
    "from multiprocessing import Pool\n",
    "from itertools import repeat\n",
    "print(datetime.datetime.now())\n",
    "a_args = chronological_list\n",
    "second_arg = \"landsat-c2l1\"\n",
    "with Pool(10) as p:\n",
    "    M = p.starmap(hand_pull_product, zip(a_args, repeat(second_arg)))\n",
    "print(datetime.datetime.now())\n"
   ]
  },
  {
   "cell_type": "code",
   "execution_count": 1,
   "metadata": {},
   "outputs": [],
   "source": []
  },
  {
   "cell_type": "markdown",
   "metadata": {},
   "source": [
    "## collect inventory from USGS\n",
    "Query guide: https://landsatlook.usgs.gov/stac-server/api.html#tag/Item-Search\n",
    "\n",
    "\n",
    "Example URL:\n",
    "https://landsatlook.usgs.gov/stac-server/collections/landsat-c2l1/items?limit=10000&datetime=2022-01-06T00:00:00Z/2022-01-07T00:00:00Z&fields=id,-type,-geometry,-bbox,-properties,-links,-assets,-collection,-features"
   ]
  },
  {
   "cell_type": "code",
   "execution_count": 3,
   "metadata": {},
   "outputs": [
    {
     "name": "stdout",
     "output_type": "stream",
     "text": [
      "2022-09-30\n",
      "2022-10-01\n",
      "2022-10-02\n",
      "2022-10-03\n",
      "2022-10-04\n",
      "2022-10-05\n",
      "2022-10-06\n",
      "2022-10-07\n",
      "2022-10-08\n"
     ]
    }
   ],
   "source": [
    "\n",
    "\n",
    "a = date(2022, 9, 30)\n",
    "b = date(2022, 10, 8)\n",
    "\n",
    "for dt in rrule(DAILY, dtstart=a, until=b):\n",
    "    print(dt.strftime(\"%Y-%m-%d\"))\n",
    "    yymmdd = dt.strftime(\"%Y-%m-%d\")\n",
    "    dt"
   ]
  },
  {
   "cell_type": "code",
   "execution_count": 19,
   "metadata": {},
   "outputs": [],
   "source": [
    "cltns = [\"landsat-c2l2-sr\",\t# Landsat Collection 2 Level-2 UTM Surface Reflectance (SR) Product\n",
    "\"landsat-c2l2-st\",\t# Landsat Collection 2 Level-2 UTM Surface Temperature (ST) Product\n",
    "\"landsat-c2ard-st\",\t# Landsat Collection 2 Analysis Ready Data (ARD) Level-2 UTM Surface Temperature (ST) Product\n",
    "\"landsat-c2l2alb-bt\",\t# Landsat Collection 2 Level-2 Albers Top of Atmosphere Brightness Temperature (BT) Product\n",
    "\"landsat-c2l3-fsca\",\t# Landsat Collection 2 Level-3 Fractional Snow Covered Area (fSCA) Product\n",
    "\"landsat-c2ard-bt\",\t# Landsat Collection 2 Analysis Ready Data (ARD) Level-2 UTM Top of Atmosphere Brightness Temperature (BT) Product\n",
    "\"landsat-c2l1\",\t# Landsat Collection 2 Level-1 Product\n",
    "\"landsat-c2l3-ba\",\t# Landsat Collection 2 Level-3 Burned Area (BA) Product\n",
    "\"landsat-c2l2alb-st\",\t# Landsat Collection 2 Level-2 Albers Surface Temperature (ST) Product\n",
    "\"landsat-c2ard-sr\",\t# Landsat Collection 2 Analysis Ready Data (ARD) Level-2 UTM Surface Reflectance (SR) Product\n",
    "\"landsat-c2l2alb-sr\",\t# Landsat Collection 2 Level-2 Albers Surface Reflectance (SR) Product\n",
    "\"landsat-c2l2alb-ta\",\t# Landsat Collection 2 Level-2 Albers Top of Atmosphere (TA) Reflectance Product\n",
    "\"landsat-c2l3-dswe\",\t #Landsat Collection 2 Level-3 Dynamic Surface Water Extent (DSWE) Product\n",
    "\"landsat-c2ard-ta\"]    #\tLandsat Collection 2 Analysis Ready Data (ARD) Level-2 UTM Top of Atmosphere (TA) Reflectance Product"
   ]
  },
  {
   "cell_type": "code",
   "execution_count": 20,
   "metadata": {},
   "outputs": [],
   "source": [
    "import os\n",
    "\n",
    "\n",
    "for cltn in cltns:\n",
    "    directory = f\"../../data/landsat/stac/{cltn}\"\n",
    "    if not os.path.exists(directory):\n",
    "        os.makedirs(directory)\n"
   ]
  },
  {
   "cell_type": "code",
   "execution_count": 27,
   "metadata": {},
   "outputs": [],
   "source": [
    "cltn = \"landsat-c2l3-fsca\""
   ]
  },
  {
   "cell_type": "code",
   "execution_count": 28,
   "metadata": {},
   "outputs": [],
   "source": [
    "url = f'''https://landsatlook.usgs.gov/stac-server/collections/{cltn}/items?limit=10000&datetime={yymmdd}T00:00:00Z/{yymmdd}T23:59:59Z&fields=id,-type,-geometry,-bbox,properties,-links,-assets,-collection,-features'''"
   ]
  },
  {
   "cell_type": "code",
   "execution_count": 29,
   "metadata": {},
   "outputs": [],
   "source": [
    "stat_list = []"
   ]
  },
  {
   "cell_type": "code",
   "execution_count": 34,
   "metadata": {},
   "outputs": [
    {
     "name": "stdout",
     "output_type": "stream",
     "text": [
      "has\n"
     ]
    }
   ],
   "source": [
    "\n",
    "    print('has')"
   ]
  },
  {
   "cell_type": "code",
   "execution_count": null,
   "metadata": {},
   "outputs": [],
   "source": [
    "\n",
    "with urlopen(url) as uo:\n",
    "    data = json.load(uo)\n",
    "    #print(data)\n",
    "    if not data['features']:\n",
    "    feature_df = pd.json_normalize(data['features'])\n",
    "    l9 = feature_df.query('`properties.platform`==\"LANDSAT_9\"')\n",
    "    l8 = feature_df.query('`properties.platform`==\"LANDSAT_8\"')\n",
    "    stat_list.append({'date':yymmdd,'total':data['numberMatched'],'return':data['numberReturned'],'LC09':len(l9),'LC08':len(l9)})\n",
    "    feature_df.drop('type',axis=1).to_csv(f'../../data/landsat/stac/{cltn}_{dt.strftime(\"%Y-%m-%d\")}.csv',index=False)\n"
   ]
  },
  {
   "cell_type": "code",
   "execution_count": null,
   "metadata": {},
   "outputs": [],
   "source": [
    "pd.DataFrame(stat_list).query('`date` > \"2021-09-27\"').to_csv('../../data/landsat/day_sum_LC09_LC08.csv',index=False)"
   ]
  },
  {
   "cell_type": "code",
   "execution_count": null,
   "metadata": {},
   "outputs": [],
   "source": [
    "day_sum = pd.DataFrame(stat_list).query('`date` > \"2021-09-27\"')"
   ]
  },
  {
   "cell_type": "code",
   "execution_count": null,
   "metadata": {},
   "outputs": [],
   "source": [
    "pd.json_normalize(data['features']).query('`properties.platform`==\"LANDSAT_9\"')"
   ]
  },
  {
   "cell_type": "markdown",
   "metadata": {},
   "source": [
    "### Batch processing"
   ]
  },
  {
   "cell_type": "code",
   "execution_count": 17,
   "metadata": {},
   "outputs": [
    {
     "data": {
      "text/plain": [
       "'landsat-c2l2-sr'"
      ]
     },
     "execution_count": 17,
     "metadata": {},
     "output_type": "execute_result"
    }
   ],
   "source": [
    "cltn"
   ]
  },
  {
   "cell_type": "code",
   "execution_count": 72,
   "metadata": {},
   "outputs": [],
   "source": [
    "def inventory_collection(cltn):\n",
    "    a = date(2021, 10, 15)\n",
    "    b = date(2022, 5, 1)\n",
    "    stat_list=[]\n",
    "    for dt in rrule(DAILY, dtstart=a, until=b):\n",
    "        #print(dt.strftime(\"%Y-%m-%d\"))\n",
    "        yymmdd = dt.strftime(\"%Y-%m-%d\")\n",
    "        url = f'''https://landsatlook.usgs.gov/stac-server/collections/{cltn}/items?limit=10000&datetime={yymmdd}T00:00:00Z/{yymmdd}T23:59:59Z&fields=id,-type,-geometry,-bbox,properties,-links,-assets,-collection,-features'''\n",
    "        try:\n",
    "            with urlopen(url) as uo:\n",
    "                data = json.load(uo)\n",
    "                #print(data)\n",
    "                if not data['features']:\n",
    "                    continue\n",
    "                feature_df = pd.json_normalize(data['features'])\n",
    "                l9 = feature_df.query('`properties.platform`==\"LANDSAT_9\"')\n",
    "                l8 = feature_df.query('`properties.platform`==\"LANDSAT_8\"')\n",
    "                stat_list.append({'date':yymmdd,'total':data['numberMatched'],'return':data['numberReturned'],'LC09':len(l9),'LC08':len(l8)})\n",
    "                if len(l9)>0:\n",
    "                    l9.drop('type',axis=1).to_csv(f'../../data/landsat/stac/{cltn}/{cltn}_{dt.strftime(\"%Y-%m-%d\")}_L9.csv',index=False)\n",
    "                #print(stat_list[-1])\n",
    "        except e:\n",
    "            print(e)\n",
    "    pd.DataFrame(stat_list).to_csv(f'../../data/landsat/stac/stat/{cltn}_day_sum_LC09_LC08.csv',index=False)\n"
   ]
  },
  {
   "cell_type": "code",
   "execution_count": 76,
   "metadata": {},
   "outputs": [],
   "source": [
    "inventory_collection(\"landsat-c2l1\")"
   ]
  },
  {
   "cell_type": "code",
   "execution_count": 36,
   "metadata": {},
   "outputs": [
    {
     "name": "stdout",
     "output_type": "stream",
     "text": [
      "landsat-c2l3-fsca\n",
      "landsat-c2ard-bt\n",
      "landsat-c2l1\n",
      "landsat-c2l3-ba\n",
      "landsat-c2l2alb-st\n",
      "landsat-c2ard-sr\n",
      "landsat-c2l2alb-sr\n",
      "landsat-c2l2alb-ta\n",
      "landsat-c2l3-dswe\n"
     ]
    }
   ],
   "source": [
    "for cltn in cltns[4:-1]:\n",
    "    print(cltn)\n",
    "    inventory_collection(cltn)"
   ]
  },
  {
   "cell_type": "code",
   "execution_count": 41,
   "metadata": {},
   "outputs": [
    {
     "name": "stdout",
     "output_type": "stream",
     "text": [
      "landsat-c2l2-sr 207126\n",
      "landsat-c2l2-st 175629\n",
      "landsat-c2ard-st 40887\n",
      "landsat-c2l2alb-bt 13857\n",
      "landsat-c2l3-fsca 0\n",
      "landsat-c2ard-bt 41984\n",
      "landsat-c2l1 239920\n",
      "landsat-c2l3-ba 0\n",
      "landsat-c2l2alb-st 13611\n",
      "landsat-c2ard-sr 41984\n",
      "landsat-c2l2alb-sr 13857\n",
      "landsat-c2l2alb-ta 13857\n",
      "landsat-c2l3-dswe 0\n",
      "landsat-c2ard-ta 41984\n"
     ]
    }
   ],
   "source": [
    "for cltn in cltns:\n",
    "    print(cltn,pd.read_csv(f'../../data/landsat/{cltn}_day_sum_LC09_LC08.csv').LC09.sum())"
   ]
  },
  {
   "cell_type": "markdown",
   "metadata": {},
   "source": [
    "## compare file entries on local node\n",
    "First run `find . -type f -name '*.tar' -exec basename {} .tar \\; > landsat_avail.txt` on local inventory"
   ]
  },
  {
   "cell_type": "code",
   "execution_count": null,
   "metadata": {},
   "outputs": [],
   "source": [
    "glad21 = pd.read_csv(\"../../../data/Landsat/landsat9_avail_2021.txt\",names=['scene_id'], header=None)"
   ]
  },
  {
   "cell_type": "code",
   "execution_count": null,
   "metadata": {},
   "outputs": [],
   "source": [
    "glad22 = pd.read_csv(\"../../../data/Landsat/landsat_avail_2022.txt\",names=['scene_id'], header=None)"
   ]
  },
  {
   "cell_type": "code",
   "execution_count": null,
   "metadata": {},
   "outputs": [],
   "source": [
    "glad_inventory = pd.concat([glad21,glad22[glad22.scene_id.str.startswith(\"LC09\")]])"
   ]
  },
  {
   "cell_type": "code",
   "execution_count": null,
   "metadata": {},
   "outputs": [],
   "source": [
    "import glob"
   ]
  },
  {
   "cell_type": "code",
   "execution_count": 252,
   "metadata": {},
   "outputs": [],
   "source": [
    "usgs_inventory = pd.concat([pd.read_csv(f) for f in glob.glob('../../data/stac/landsat-c2l1/csv/*.csv')])"
   ]
  },
  {
   "cell_type": "code",
   "execution_count": 100,
   "metadata": {},
   "outputs": [],
   "source": [
    "set_finished = set(finished)"
   ]
  },
  {
   "cell_type": "code",
   "execution_count": 250,
   "metadata": {},
   "outputs": [
    {
     "data": {
      "text/html": [
       "<div>\n",
       "<style scoped>\n",
       "    .dataframe tbody tr th:only-of-type {\n",
       "        vertical-align: middle;\n",
       "    }\n",
       "\n",
       "    .dataframe tbody tr th {\n",
       "        vertical-align: top;\n",
       "    }\n",
       "\n",
       "    .dataframe thead th {\n",
       "        text-align: right;\n",
       "    }\n",
       "</style>\n",
       "<table border=\"1\" class=\"dataframe\">\n",
       "  <thead>\n",
       "    <tr style=\"text-align: right;\">\n",
       "      <th></th>\n",
       "      <th>id</th>\n",
       "      <th>properties.landsat:scene_id</th>\n",
       "      <th>properties.landsat:wrs_row</th>\n",
       "      <th>properties.landsat:wrs_type</th>\n",
       "      <th>properties.created</th>\n",
       "      <th>properties.landsat:cloud_cover_land</th>\n",
       "      <th>properties.view:sun_azimuth</th>\n",
       "      <th>properties.view:off_nadir</th>\n",
       "      <th>properties.platform</th>\n",
       "      <th>properties.landsat:wrs_path</th>\n",
       "      <th>...</th>\n",
       "      <th>properties.proj:transform</th>\n",
       "      <th>properties.eo:cloud_cover</th>\n",
       "      <th>properties.updated</th>\n",
       "      <th>properties.landsat:correction</th>\n",
       "      <th>properties.landsat:collection_category</th>\n",
       "      <th>properties.accuracy:geometric_y_bias</th>\n",
       "      <th>properties.accuracy:geometric_x_bias</th>\n",
       "      <th>properties.accuracy:geometric_rmse</th>\n",
       "      <th>properties.accuracy:geometric_x_stddev</th>\n",
       "      <th>properties.accuracy:geometric_y_stddev</th>\n",
       "    </tr>\n",
       "  </thead>\n",
       "  <tbody>\n",
       "    <tr>\n",
       "      <th>0</th>\n",
       "      <td>LC09_L1GT_086110_20220306_20220307_02_T2</td>\n",
       "      <td>LC90861102022065LGN00</td>\n",
       "      <td>110</td>\n",
       "      <td>2</td>\n",
       "      <td>2022-07-06T21:44:09.129Z</td>\n",
       "      <td>0.02</td>\n",
       "      <td>57.163599</td>\n",
       "      <td>0.0</td>\n",
       "      <td>LANDSAT_9</td>\n",
       "      <td>86</td>\n",
       "      <td>...</td>\n",
       "      <td>[30, 0, 1364085, 0, -30, -1346385]</td>\n",
       "      <td>0.02</td>\n",
       "      <td>2022-07-06T21:44:09.129Z</td>\n",
       "      <td>L1GT</td>\n",
       "      <td>T2</td>\n",
       "      <td>NaN</td>\n",
       "      <td>NaN</td>\n",
       "      <td>NaN</td>\n",
       "      <td>NaN</td>\n",
       "      <td>NaN</td>\n",
       "    </tr>\n",
       "    <tr>\n",
       "      <th>1</th>\n",
       "      <td>LC09_L1GT_086109_20220306_20220307_02_T2</td>\n",
       "      <td>LC90861092022065LGN00</td>\n",
       "      <td>109</td>\n",
       "      <td>2</td>\n",
       "      <td>2022-07-06T19:35:43.626Z</td>\n",
       "      <td>0.00</td>\n",
       "      <td>55.701679</td>\n",
       "      <td>0.0</td>\n",
       "      <td>LANDSAT_9</td>\n",
       "      <td>86</td>\n",
       "      <td>...</td>\n",
       "      <td>[30, 0, 1415085, 0, -30, -1500885]</td>\n",
       "      <td>0.00</td>\n",
       "      <td>2022-07-06T19:35:43.626Z</td>\n",
       "      <td>L1GT</td>\n",
       "      <td>T2</td>\n",
       "      <td>NaN</td>\n",
       "      <td>NaN</td>\n",
       "      <td>NaN</td>\n",
       "      <td>NaN</td>\n",
       "      <td>NaN</td>\n",
       "    </tr>\n",
       "    <tr>\n",
       "      <th>2</th>\n",
       "      <td>LC09_L1GT_086108_20220306_20220307_02_T2</td>\n",
       "      <td>LC90861082022065LGN00</td>\n",
       "      <td>108</td>\n",
       "      <td>2</td>\n",
       "      <td>2022-07-06T19:43:04.674Z</td>\n",
       "      <td>0.00</td>\n",
       "      <td>54.467749</td>\n",
       "      <td>0.0</td>\n",
       "      <td>LANDSAT_9</td>\n",
       "      <td>86</td>\n",
       "      <td>...</td>\n",
       "      <td>[30, 0, 1465785, 0, -30, -1656585]</td>\n",
       "      <td>0.00</td>\n",
       "      <td>2022-07-06T19:43:04.674Z</td>\n",
       "      <td>L1GT</td>\n",
       "      <td>T2</td>\n",
       "      <td>NaN</td>\n",
       "      <td>NaN</td>\n",
       "      <td>NaN</td>\n",
       "      <td>NaN</td>\n",
       "      <td>NaN</td>\n",
       "    </tr>\n",
       "    <tr>\n",
       "      <th>3</th>\n",
       "      <td>LC09_L1GT_086107_20220306_20220307_02_T2</td>\n",
       "      <td>LC90861072022065LGN00</td>\n",
       "      <td>107</td>\n",
       "      <td>2</td>\n",
       "      <td>2022-07-06T20:00:30.093Z</td>\n",
       "      <td>0.06</td>\n",
       "      <td>53.429951</td>\n",
       "      <td>0.0</td>\n",
       "      <td>LANDSAT_9</td>\n",
       "      <td>86</td>\n",
       "      <td>...</td>\n",
       "      <td>[30, 0, 1515585, 0, -30, -1812885]</td>\n",
       "      <td>0.04</td>\n",
       "      <td>2022-07-06T20:00:30.093Z</td>\n",
       "      <td>L1GT</td>\n",
       "      <td>T2</td>\n",
       "      <td>NaN</td>\n",
       "      <td>NaN</td>\n",
       "      <td>NaN</td>\n",
       "      <td>NaN</td>\n",
       "      <td>NaN</td>\n",
       "    </tr>\n",
       "    <tr>\n",
       "      <th>4</th>\n",
       "      <td>LC09_L1GT_086106_20220306_20220307_02_T2</td>\n",
       "      <td>LC90861062022065LGN00</td>\n",
       "      <td>106</td>\n",
       "      <td>2</td>\n",
       "      <td>2022-07-06T20:26:01.021Z</td>\n",
       "      <td>-1.00</td>\n",
       "      <td>52.560728</td>\n",
       "      <td>0.0</td>\n",
       "      <td>LANDSAT_9</td>\n",
       "      <td>86</td>\n",
       "      <td>...</td>\n",
       "      <td>[30, 0, 1564785, 0, -30, -1970385]</td>\n",
       "      <td>99.30</td>\n",
       "      <td>2022-07-06T20:26:01.021Z</td>\n",
       "      <td>L1GT</td>\n",
       "      <td>T2</td>\n",
       "      <td>NaN</td>\n",
       "      <td>NaN</td>\n",
       "      <td>NaN</td>\n",
       "      <td>NaN</td>\n",
       "      <td>NaN</td>\n",
       "    </tr>\n",
       "    <tr>\n",
       "      <th>...</th>\n",
       "      <td>...</td>\n",
       "      <td>...</td>\n",
       "      <td>...</td>\n",
       "      <td>...</td>\n",
       "      <td>...</td>\n",
       "      <td>...</td>\n",
       "      <td>...</td>\n",
       "      <td>...</td>\n",
       "      <td>...</td>\n",
       "      <td>...</td>\n",
       "      <td>...</td>\n",
       "      <td>...</td>\n",
       "      <td>...</td>\n",
       "      <td>...</td>\n",
       "      <td>...</td>\n",
       "      <td>...</td>\n",
       "      <td>...</td>\n",
       "      <td>...</td>\n",
       "      <td>...</td>\n",
       "      <td>...</td>\n",
       "      <td>...</td>\n",
       "    </tr>\n",
       "    <tr>\n",
       "      <th>638</th>\n",
       "      <td>LO09_L1TP_094062_20220315_20220315_02_T1</td>\n",
       "      <td>LO90940622022074LGN00</td>\n",
       "      <td>62</td>\n",
       "      <td>2</td>\n",
       "      <td>2022-07-01T14:13:35.912Z</td>\n",
       "      <td>19.15</td>\n",
       "      <td>89.420927</td>\n",
       "      <td>0.0</td>\n",
       "      <td>LANDSAT_9</td>\n",
       "      <td>94</td>\n",
       "      <td>...</td>\n",
       "      <td>[30, 0, 176685, 0, -30, -204285]</td>\n",
       "      <td>19.46</td>\n",
       "      <td>2022-07-01T14:13:35.912Z</td>\n",
       "      <td>L1TP</td>\n",
       "      <td>T1</td>\n",
       "      <td>0.0</td>\n",
       "      <td>0.0</td>\n",
       "      <td>6.847</td>\n",
       "      <td>4.645</td>\n",
       "      <td>5.030</td>\n",
       "    </tr>\n",
       "    <tr>\n",
       "      <th>639</th>\n",
       "      <td>LO09_L1GT_094061_20220315_20220315_02_T2</td>\n",
       "      <td>LO90940612022074LGN00</td>\n",
       "      <td>61</td>\n",
       "      <td>2</td>\n",
       "      <td>2022-07-06T19:31:12.508Z</td>\n",
       "      <td>1.34</td>\n",
       "      <td>91.978171</td>\n",
       "      <td>0.0</td>\n",
       "      <td>LANDSAT_9</td>\n",
       "      <td>94</td>\n",
       "      <td>...</td>\n",
       "      <td>[30, 0, 210585, 0, -30, -44385]</td>\n",
       "      <td>58.57</td>\n",
       "      <td>2022-07-06T19:31:12.508Z</td>\n",
       "      <td>L1GT</td>\n",
       "      <td>T2</td>\n",
       "      <td>NaN</td>\n",
       "      <td>NaN</td>\n",
       "      <td>NaN</td>\n",
       "      <td>NaN</td>\n",
       "      <td>NaN</td>\n",
       "    </tr>\n",
       "    <tr>\n",
       "      <th>640</th>\n",
       "      <td>LO09_L1TP_094056_20220315_20220315_02_T1</td>\n",
       "      <td>LO90940562022074LGN00</td>\n",
       "      <td>56</td>\n",
       "      <td>2</td>\n",
       "      <td>2022-07-01T11:00:32.252Z</td>\n",
       "      <td>9.96</td>\n",
       "      <td>105.035320</td>\n",
       "      <td>0.0</td>\n",
       "      <td>LANDSAT_9</td>\n",
       "      <td>94</td>\n",
       "      <td>...</td>\n",
       "      <td>[30, 0, 381885, 0, -30, 755115]</td>\n",
       "      <td>6.76</td>\n",
       "      <td>2022-07-01T11:00:32.252Z</td>\n",
       "      <td>L1TP</td>\n",
       "      <td>T1</td>\n",
       "      <td>0.0</td>\n",
       "      <td>0.0</td>\n",
       "      <td>8.692</td>\n",
       "      <td>5.258</td>\n",
       "      <td>6.921</td>\n",
       "    </tr>\n",
       "    <tr>\n",
       "      <th>641</th>\n",
       "      <td>LO09_L1GT_094055_20220315_20220315_02_T2</td>\n",
       "      <td>LO90940552022074LGN00</td>\n",
       "      <td>55</td>\n",
       "      <td>2</td>\n",
       "      <td>2022-07-06T18:44:47.153Z</td>\n",
       "      <td>9.00</td>\n",
       "      <td>107.614333</td>\n",
       "      <td>0.0</td>\n",
       "      <td>LANDSAT_9</td>\n",
       "      <td>94</td>\n",
       "      <td>...</td>\n",
       "      <td>[30, 0, 416085, 0, -30, 914715]</td>\n",
       "      <td>9.73</td>\n",
       "      <td>2022-07-06T18:44:47.153Z</td>\n",
       "      <td>L1GT</td>\n",
       "      <td>T2</td>\n",
       "      <td>NaN</td>\n",
       "      <td>NaN</td>\n",
       "      <td>NaN</td>\n",
       "      <td>NaN</td>\n",
       "      <td>NaN</td>\n",
       "    </tr>\n",
       "    <tr>\n",
       "      <th>642</th>\n",
       "      <td>LO09_L1GT_094054_20220315_20220315_02_T2</td>\n",
       "      <td>LO90940542022074LGN00</td>\n",
       "      <td>54</td>\n",
       "      <td>2</td>\n",
       "      <td>2022-07-06T19:12:25.404Z</td>\n",
       "      <td>0.00</td>\n",
       "      <td>110.155716</td>\n",
       "      <td>0.0</td>\n",
       "      <td>LANDSAT_9</td>\n",
       "      <td>94</td>\n",
       "      <td>...</td>\n",
       "      <td>[30, 0, 449985, 0, -30, 1074615]</td>\n",
       "      <td>34.52</td>\n",
       "      <td>2022-07-06T19:12:25.404Z</td>\n",
       "      <td>L1GT</td>\n",
       "      <td>T2</td>\n",
       "      <td>NaN</td>\n",
       "      <td>NaN</td>\n",
       "      <td>NaN</td>\n",
       "      <td>NaN</td>\n",
       "      <td>NaN</td>\n",
       "    </tr>\n",
       "  </tbody>\n",
       "</table>\n",
       "<p>115355 rows × 26 columns</p>\n",
       "</div>"
      ],
      "text/plain": [
       "                                           id properties.landsat:scene_id  \\\n",
       "0    LC09_L1GT_086110_20220306_20220307_02_T2       LC90861102022065LGN00   \n",
       "1    LC09_L1GT_086109_20220306_20220307_02_T2       LC90861092022065LGN00   \n",
       "2    LC09_L1GT_086108_20220306_20220307_02_T2       LC90861082022065LGN00   \n",
       "3    LC09_L1GT_086107_20220306_20220307_02_T2       LC90861072022065LGN00   \n",
       "4    LC09_L1GT_086106_20220306_20220307_02_T2       LC90861062022065LGN00   \n",
       "..                                        ...                         ...   \n",
       "638  LO09_L1TP_094062_20220315_20220315_02_T1       LO90940622022074LGN00   \n",
       "639  LO09_L1GT_094061_20220315_20220315_02_T2       LO90940612022074LGN00   \n",
       "640  LO09_L1TP_094056_20220315_20220315_02_T1       LO90940562022074LGN00   \n",
       "641  LO09_L1GT_094055_20220315_20220315_02_T2       LO90940552022074LGN00   \n",
       "642  LO09_L1GT_094054_20220315_20220315_02_T2       LO90940542022074LGN00   \n",
       "\n",
       "     properties.landsat:wrs_row  properties.landsat:wrs_type  \\\n",
       "0                           110                            2   \n",
       "1                           109                            2   \n",
       "2                           108                            2   \n",
       "3                           107                            2   \n",
       "4                           106                            2   \n",
       "..                          ...                          ...   \n",
       "638                          62                            2   \n",
       "639                          61                            2   \n",
       "640                          56                            2   \n",
       "641                          55                            2   \n",
       "642                          54                            2   \n",
       "\n",
       "           properties.created  properties.landsat:cloud_cover_land  \\\n",
       "0    2022-07-06T21:44:09.129Z                                 0.02   \n",
       "1    2022-07-06T19:35:43.626Z                                 0.00   \n",
       "2    2022-07-06T19:43:04.674Z                                 0.00   \n",
       "3    2022-07-06T20:00:30.093Z                                 0.06   \n",
       "4    2022-07-06T20:26:01.021Z                                -1.00   \n",
       "..                        ...                                  ...   \n",
       "638  2022-07-01T14:13:35.912Z                                19.15   \n",
       "639  2022-07-06T19:31:12.508Z                                 1.34   \n",
       "640  2022-07-01T11:00:32.252Z                                 9.96   \n",
       "641  2022-07-06T18:44:47.153Z                                 9.00   \n",
       "642  2022-07-06T19:12:25.404Z                                 0.00   \n",
       "\n",
       "     properties.view:sun_azimuth  properties.view:off_nadir  \\\n",
       "0                      57.163599                        0.0   \n",
       "1                      55.701679                        0.0   \n",
       "2                      54.467749                        0.0   \n",
       "3                      53.429951                        0.0   \n",
       "4                      52.560728                        0.0   \n",
       "..                           ...                        ...   \n",
       "638                    89.420927                        0.0   \n",
       "639                    91.978171                        0.0   \n",
       "640                   105.035320                        0.0   \n",
       "641                   107.614333                        0.0   \n",
       "642                   110.155716                        0.0   \n",
       "\n",
       "    properties.platform  properties.landsat:wrs_path  ...  \\\n",
       "0             LANDSAT_9                           86  ...   \n",
       "1             LANDSAT_9                           86  ...   \n",
       "2             LANDSAT_9                           86  ...   \n",
       "3             LANDSAT_9                           86  ...   \n",
       "4             LANDSAT_9                           86  ...   \n",
       "..                  ...                          ...  ...   \n",
       "638           LANDSAT_9                           94  ...   \n",
       "639           LANDSAT_9                           94  ...   \n",
       "640           LANDSAT_9                           94  ...   \n",
       "641           LANDSAT_9                           94  ...   \n",
       "642           LANDSAT_9                           94  ...   \n",
       "\n",
       "              properties.proj:transform  properties.eo:cloud_cover  \\\n",
       "0    [30, 0, 1364085, 0, -30, -1346385]                       0.02   \n",
       "1    [30, 0, 1415085, 0, -30, -1500885]                       0.00   \n",
       "2    [30, 0, 1465785, 0, -30, -1656585]                       0.00   \n",
       "3    [30, 0, 1515585, 0, -30, -1812885]                       0.04   \n",
       "4    [30, 0, 1564785, 0, -30, -1970385]                      99.30   \n",
       "..                                  ...                        ...   \n",
       "638    [30, 0, 176685, 0, -30, -204285]                      19.46   \n",
       "639     [30, 0, 210585, 0, -30, -44385]                      58.57   \n",
       "640     [30, 0, 381885, 0, -30, 755115]                       6.76   \n",
       "641     [30, 0, 416085, 0, -30, 914715]                       9.73   \n",
       "642    [30, 0, 449985, 0, -30, 1074615]                      34.52   \n",
       "\n",
       "           properties.updated properties.landsat:correction  \\\n",
       "0    2022-07-06T21:44:09.129Z                          L1GT   \n",
       "1    2022-07-06T19:35:43.626Z                          L1GT   \n",
       "2    2022-07-06T19:43:04.674Z                          L1GT   \n",
       "3    2022-07-06T20:00:30.093Z                          L1GT   \n",
       "4    2022-07-06T20:26:01.021Z                          L1GT   \n",
       "..                        ...                           ...   \n",
       "638  2022-07-01T14:13:35.912Z                          L1TP   \n",
       "639  2022-07-06T19:31:12.508Z                          L1GT   \n",
       "640  2022-07-01T11:00:32.252Z                          L1TP   \n",
       "641  2022-07-06T18:44:47.153Z                          L1GT   \n",
       "642  2022-07-06T19:12:25.404Z                          L1GT   \n",
       "\n",
       "    properties.landsat:collection_category  \\\n",
       "0                                       T2   \n",
       "1                                       T2   \n",
       "2                                       T2   \n",
       "3                                       T2   \n",
       "4                                       T2   \n",
       "..                                     ...   \n",
       "638                                     T1   \n",
       "639                                     T2   \n",
       "640                                     T1   \n",
       "641                                     T2   \n",
       "642                                     T2   \n",
       "\n",
       "    properties.accuracy:geometric_y_bias properties.accuracy:geometric_x_bias  \\\n",
       "0                                    NaN                                  NaN   \n",
       "1                                    NaN                                  NaN   \n",
       "2                                    NaN                                  NaN   \n",
       "3                                    NaN                                  NaN   \n",
       "4                                    NaN                                  NaN   \n",
       "..                                   ...                                  ...   \n",
       "638                                  0.0                                  0.0   \n",
       "639                                  NaN                                  NaN   \n",
       "640                                  0.0                                  0.0   \n",
       "641                                  NaN                                  NaN   \n",
       "642                                  NaN                                  NaN   \n",
       "\n",
       "     properties.accuracy:geometric_rmse  \\\n",
       "0                                   NaN   \n",
       "1                                   NaN   \n",
       "2                                   NaN   \n",
       "3                                   NaN   \n",
       "4                                   NaN   \n",
       "..                                  ...   \n",
       "638                               6.847   \n",
       "639                                 NaN   \n",
       "640                               8.692   \n",
       "641                                 NaN   \n",
       "642                                 NaN   \n",
       "\n",
       "    properties.accuracy:geometric_x_stddev  \\\n",
       "0                                      NaN   \n",
       "1                                      NaN   \n",
       "2                                      NaN   \n",
       "3                                      NaN   \n",
       "4                                      NaN   \n",
       "..                                     ...   \n",
       "638                                  4.645   \n",
       "639                                    NaN   \n",
       "640                                  5.258   \n",
       "641                                    NaN   \n",
       "642                                    NaN   \n",
       "\n",
       "    properties.accuracy:geometric_y_stddev  \n",
       "0                                      NaN  \n",
       "1                                      NaN  \n",
       "2                                      NaN  \n",
       "3                                      NaN  \n",
       "4                                      NaN  \n",
       "..                                     ...  \n",
       "638                                  5.030  \n",
       "639                                    NaN  \n",
       "640                                  6.921  \n",
       "641                                    NaN  \n",
       "642                                    NaN  \n",
       "\n",
       "[115355 rows x 26 columns]"
      ]
     },
     "execution_count": 250,
     "metadata": {},
     "output_type": "execute_result"
    }
   ],
   "source": [
    "usgs_inventory"
   ]
  },
  {
   "cell_type": "code",
   "execution_count": 242,
   "metadata": {},
   "outputs": [
    {
     "data": {
      "text/plain": [
       "0      LANDSAT_9\n",
       "1      LANDSAT_9\n",
       "2      LANDSAT_9\n",
       "3      LANDSAT_9\n",
       "4      LANDSAT_9\n",
       "         ...    \n",
       "638    LANDSAT_9\n",
       "639    LANDSAT_9\n",
       "640    LANDSAT_9\n",
       "641    LANDSAT_9\n",
       "642    LANDSAT_9\n",
       "Name: properties.platform, Length: 115355, dtype: object"
      ]
     },
     "execution_count": 242,
     "metadata": {},
     "output_type": "execute_result"
    }
   ],
   "source": [
    "usgs_inventory['properties.platform']"
   ]
  },
  {
   "cell_type": "code",
   "execution_count": 104,
   "metadata": {},
   "outputs": [
    {
     "data": {
      "text/html": [
       "<div>\n",
       "<style scoped>\n",
       "    .dataframe tbody tr th:only-of-type {\n",
       "        vertical-align: middle;\n",
       "    }\n",
       "\n",
       "    .dataframe tbody tr th {\n",
       "        vertical-align: top;\n",
       "    }\n",
       "\n",
       "    .dataframe thead th {\n",
       "        text-align: right;\n",
       "    }\n",
       "</style>\n",
       "<table border=\"1\" class=\"dataframe\">\n",
       "  <thead>\n",
       "    <tr style=\"text-align: right;\">\n",
       "      <th></th>\n",
       "      <th>id</th>\n",
       "      <th>properties.landsat:scene_id</th>\n",
       "      <th>properties.landsat:wrs_row</th>\n",
       "      <th>properties.landsat:wrs_type</th>\n",
       "      <th>properties.created</th>\n",
       "      <th>properties.landsat:cloud_cover_land</th>\n",
       "      <th>properties.view:sun_azimuth</th>\n",
       "      <th>properties.view:off_nadir</th>\n",
       "      <th>properties.platform</th>\n",
       "      <th>properties.landsat:wrs_path</th>\n",
       "      <th>...</th>\n",
       "      <th>properties.proj:transform</th>\n",
       "      <th>properties.eo:cloud_cover</th>\n",
       "      <th>properties.updated</th>\n",
       "      <th>properties.landsat:correction</th>\n",
       "      <th>properties.landsat:collection_category</th>\n",
       "      <th>properties.accuracy:geometric_y_bias</th>\n",
       "      <th>properties.accuracy:geometric_x_bias</th>\n",
       "      <th>properties.accuracy:geometric_rmse</th>\n",
       "      <th>properties.accuracy:geometric_x_stddev</th>\n",
       "      <th>properties.accuracy:geometric_y_stddev</th>\n",
       "    </tr>\n",
       "  </thead>\n",
       "  <tbody>\n",
       "    <tr>\n",
       "      <th>0</th>\n",
       "      <td>LC09_L1GT_086110_20220306_20220307_02_T2</td>\n",
       "      <td>LC90861102022065LGN00</td>\n",
       "      <td>110</td>\n",
       "      <td>2</td>\n",
       "      <td>2022-07-06T21:44:09.129Z</td>\n",
       "      <td>0.02</td>\n",
       "      <td>57.163599</td>\n",
       "      <td>0.0</td>\n",
       "      <td>LANDSAT_9</td>\n",
       "      <td>86</td>\n",
       "      <td>...</td>\n",
       "      <td>[30, 0, 1364085, 0, -30, -1346385]</td>\n",
       "      <td>0.02</td>\n",
       "      <td>2022-07-06T21:44:09.129Z</td>\n",
       "      <td>L1GT</td>\n",
       "      <td>T2</td>\n",
       "      <td>NaN</td>\n",
       "      <td>NaN</td>\n",
       "      <td>NaN</td>\n",
       "      <td>NaN</td>\n",
       "      <td>NaN</td>\n",
       "    </tr>\n",
       "    <tr>\n",
       "      <th>1</th>\n",
       "      <td>LC09_L1GT_086109_20220306_20220307_02_T2</td>\n",
       "      <td>LC90861092022065LGN00</td>\n",
       "      <td>109</td>\n",
       "      <td>2</td>\n",
       "      <td>2022-07-06T19:35:43.626Z</td>\n",
       "      <td>0.00</td>\n",
       "      <td>55.701679</td>\n",
       "      <td>0.0</td>\n",
       "      <td>LANDSAT_9</td>\n",
       "      <td>86</td>\n",
       "      <td>...</td>\n",
       "      <td>[30, 0, 1415085, 0, -30, -1500885]</td>\n",
       "      <td>0.00</td>\n",
       "      <td>2022-07-06T19:35:43.626Z</td>\n",
       "      <td>L1GT</td>\n",
       "      <td>T2</td>\n",
       "      <td>NaN</td>\n",
       "      <td>NaN</td>\n",
       "      <td>NaN</td>\n",
       "      <td>NaN</td>\n",
       "      <td>NaN</td>\n",
       "    </tr>\n",
       "    <tr>\n",
       "      <th>2</th>\n",
       "      <td>LC09_L1GT_086108_20220306_20220307_02_T2</td>\n",
       "      <td>LC90861082022065LGN00</td>\n",
       "      <td>108</td>\n",
       "      <td>2</td>\n",
       "      <td>2022-07-06T19:43:04.674Z</td>\n",
       "      <td>0.00</td>\n",
       "      <td>54.467749</td>\n",
       "      <td>0.0</td>\n",
       "      <td>LANDSAT_9</td>\n",
       "      <td>86</td>\n",
       "      <td>...</td>\n",
       "      <td>[30, 0, 1465785, 0, -30, -1656585]</td>\n",
       "      <td>0.00</td>\n",
       "      <td>2022-07-06T19:43:04.674Z</td>\n",
       "      <td>L1GT</td>\n",
       "      <td>T2</td>\n",
       "      <td>NaN</td>\n",
       "      <td>NaN</td>\n",
       "      <td>NaN</td>\n",
       "      <td>NaN</td>\n",
       "      <td>NaN</td>\n",
       "    </tr>\n",
       "    <tr>\n",
       "      <th>3</th>\n",
       "      <td>LC09_L1GT_086107_20220306_20220307_02_T2</td>\n",
       "      <td>LC90861072022065LGN00</td>\n",
       "      <td>107</td>\n",
       "      <td>2</td>\n",
       "      <td>2022-07-06T20:00:30.093Z</td>\n",
       "      <td>0.06</td>\n",
       "      <td>53.429951</td>\n",
       "      <td>0.0</td>\n",
       "      <td>LANDSAT_9</td>\n",
       "      <td>86</td>\n",
       "      <td>...</td>\n",
       "      <td>[30, 0, 1515585, 0, -30, -1812885]</td>\n",
       "      <td>0.04</td>\n",
       "      <td>2022-07-06T20:00:30.093Z</td>\n",
       "      <td>L1GT</td>\n",
       "      <td>T2</td>\n",
       "      <td>NaN</td>\n",
       "      <td>NaN</td>\n",
       "      <td>NaN</td>\n",
       "      <td>NaN</td>\n",
       "      <td>NaN</td>\n",
       "    </tr>\n",
       "    <tr>\n",
       "      <th>4</th>\n",
       "      <td>LC09_L1GT_086106_20220306_20220307_02_T2</td>\n",
       "      <td>LC90861062022065LGN00</td>\n",
       "      <td>106</td>\n",
       "      <td>2</td>\n",
       "      <td>2022-07-06T20:26:01.021Z</td>\n",
       "      <td>-1.00</td>\n",
       "      <td>52.560728</td>\n",
       "      <td>0.0</td>\n",
       "      <td>LANDSAT_9</td>\n",
       "      <td>86</td>\n",
       "      <td>...</td>\n",
       "      <td>[30, 0, 1564785, 0, -30, -1970385]</td>\n",
       "      <td>99.30</td>\n",
       "      <td>2022-07-06T20:26:01.021Z</td>\n",
       "      <td>L1GT</td>\n",
       "      <td>T2</td>\n",
       "      <td>NaN</td>\n",
       "      <td>NaN</td>\n",
       "      <td>NaN</td>\n",
       "      <td>NaN</td>\n",
       "      <td>NaN</td>\n",
       "    </tr>\n",
       "  </tbody>\n",
       "</table>\n",
       "<p>5 rows × 26 columns</p>\n",
       "</div>"
      ],
      "text/plain": [
       "                                         id properties.landsat:scene_id  \\\n",
       "0  LC09_L1GT_086110_20220306_20220307_02_T2       LC90861102022065LGN00   \n",
       "1  LC09_L1GT_086109_20220306_20220307_02_T2       LC90861092022065LGN00   \n",
       "2  LC09_L1GT_086108_20220306_20220307_02_T2       LC90861082022065LGN00   \n",
       "3  LC09_L1GT_086107_20220306_20220307_02_T2       LC90861072022065LGN00   \n",
       "4  LC09_L1GT_086106_20220306_20220307_02_T2       LC90861062022065LGN00   \n",
       "\n",
       "   properties.landsat:wrs_row  properties.landsat:wrs_type  \\\n",
       "0                         110                            2   \n",
       "1                         109                            2   \n",
       "2                         108                            2   \n",
       "3                         107                            2   \n",
       "4                         106                            2   \n",
       "\n",
       "         properties.created  properties.landsat:cloud_cover_land  \\\n",
       "0  2022-07-06T21:44:09.129Z                                 0.02   \n",
       "1  2022-07-06T19:35:43.626Z                                 0.00   \n",
       "2  2022-07-06T19:43:04.674Z                                 0.00   \n",
       "3  2022-07-06T20:00:30.093Z                                 0.06   \n",
       "4  2022-07-06T20:26:01.021Z                                -1.00   \n",
       "\n",
       "   properties.view:sun_azimuth  properties.view:off_nadir properties.platform  \\\n",
       "0                    57.163599                        0.0           LANDSAT_9   \n",
       "1                    55.701679                        0.0           LANDSAT_9   \n",
       "2                    54.467749                        0.0           LANDSAT_9   \n",
       "3                    53.429951                        0.0           LANDSAT_9   \n",
       "4                    52.560728                        0.0           LANDSAT_9   \n",
       "\n",
       "   properties.landsat:wrs_path  ...           properties.proj:transform  \\\n",
       "0                           86  ...  [30, 0, 1364085, 0, -30, -1346385]   \n",
       "1                           86  ...  [30, 0, 1415085, 0, -30, -1500885]   \n",
       "2                           86  ...  [30, 0, 1465785, 0, -30, -1656585]   \n",
       "3                           86  ...  [30, 0, 1515585, 0, -30, -1812885]   \n",
       "4                           86  ...  [30, 0, 1564785, 0, -30, -1970385]   \n",
       "\n",
       "   properties.eo:cloud_cover        properties.updated  \\\n",
       "0                       0.02  2022-07-06T21:44:09.129Z   \n",
       "1                       0.00  2022-07-06T19:35:43.626Z   \n",
       "2                       0.00  2022-07-06T19:43:04.674Z   \n",
       "3                       0.04  2022-07-06T20:00:30.093Z   \n",
       "4                      99.30  2022-07-06T20:26:01.021Z   \n",
       "\n",
       "  properties.landsat:correction properties.landsat:collection_category  \\\n",
       "0                          L1GT                                     T2   \n",
       "1                          L1GT                                     T2   \n",
       "2                          L1GT                                     T2   \n",
       "3                          L1GT                                     T2   \n",
       "4                          L1GT                                     T2   \n",
       "\n",
       "  properties.accuracy:geometric_y_bias properties.accuracy:geometric_x_bias  \\\n",
       "0                                  NaN                                  NaN   \n",
       "1                                  NaN                                  NaN   \n",
       "2                                  NaN                                  NaN   \n",
       "3                                  NaN                                  NaN   \n",
       "4                                  NaN                                  NaN   \n",
       "\n",
       "   properties.accuracy:geometric_rmse properties.accuracy:geometric_x_stddev  \\\n",
       "0                                 NaN                                    NaN   \n",
       "1                                 NaN                                    NaN   \n",
       "2                                 NaN                                    NaN   \n",
       "3                                 NaN                                    NaN   \n",
       "4                                 NaN                                    NaN   \n",
       "\n",
       "  properties.accuracy:geometric_y_stddev  \n",
       "0                                    NaN  \n",
       "1                                    NaN  \n",
       "2                                    NaN  \n",
       "3                                    NaN  \n",
       "4                                    NaN  \n",
       "\n",
       "[5 rows x 26 columns]"
      ]
     },
     "execution_count": 104,
     "metadata": {},
     "output_type": "execute_result"
    }
   ],
   "source": [
    "usgs_inventory.head()"
   ]
  },
  {
   "cell_type": "code",
   "execution_count": 254,
   "metadata": {},
   "outputs": [],
   "source": [
    "usgs_inventory['aq_time'] = pd.to_datetime(usgs_inventory['properties.datetime'])"
   ]
  },
  {
   "cell_type": "code",
   "execution_count": 267,
   "metadata": {},
   "outputs": [
    {
     "data": {
      "text/plain": [
       "set()"
      ]
     },
     "execution_count": 267,
     "metadata": {},
     "output_type": "execute_result"
    }
   ],
   "source": [
    "set(usgs_inventory.id.to_list())-set(finished_m2m)"
   ]
  },
  {
   "cell_type": "code",
   "execution_count": null,
   "metadata": {},
   "outputs": [],
   "source": [
    "set(usgs_inventory.id.to_list())-set(finished_m2m)"
   ]
  },
  {
   "cell_type": "code",
   "execution_count": 265,
   "metadata": {},
   "outputs": [
    {
     "data": {
      "text/plain": [
       "115355"
      ]
     },
     "execution_count": 265,
     "metadata": {},
     "output_type": "execute_result"
    }
   ],
   "source": [
    "len(finished_m2m)"
   ]
  },
  {
   "cell_type": "code",
   "execution_count": 266,
   "metadata": {},
   "outputs": [
    {
     "data": {
      "text/plain": [
       "(115355, 27)"
      ]
     },
     "execution_count": 266,
     "metadata": {},
     "output_type": "execute_result"
    }
   ],
   "source": [
    "usgs_inventory.shape"
   ]
  },
  {
   "cell_type": "code",
   "execution_count": null,
   "metadata": {},
   "outputs": [],
   "source": [
    "m2m_batch1 = usgs_inventory[usgs_inventory['aq_time']<\"2021-12-01\"].id.to_list()"
   ]
  },
  {
   "cell_type": "code",
   "execution_count": 240,
   "metadata": {},
   "outputs": [
    {
     "data": {
      "text/plain": [
       "74430"
      ]
     },
     "execution_count": 240,
     "metadata": {},
     "output_type": "execute_result"
    }
   ],
   "source": [
    "len(finished_m2m)"
   ]
  },
  {
   "cell_type": "code",
   "execution_count": 188,
   "metadata": {},
   "outputs": [
    {
     "data": {
      "text/plain": [
       "600"
      ]
     },
     "execution_count": 188,
     "metadata": {},
     "output_type": "execute_result"
    }
   ],
   "source": [
    "set(m2m_batch2)-set(finished_m2m)"
   ]
  },
  {
   "cell_type": "code",
   "execution_count": 196,
   "metadata": {},
   "outputs": [
    {
     "name": "stdout",
     "output_type": "stream",
     "text": [
      "Done 3\n"
     ]
    }
   ],
   "source": [
    "export_scenes_list(list(set(m2m_batch2)-set(finished_m2m)),'batch2',200)"
   ]
  },
  {
   "cell_type": "code",
   "execution_count": 176,
   "metadata": {},
   "outputs": [],
   "source": [
    "m2m_batch2 = usgs_inventory[(\"2021-11-30\" < usgs_inventory['aq_time'] )&(usgs_inventory['aq_time']< \"2022-01-01\")].sort_values('aq_time').id.to_list()"
   ]
  },
  {
   "cell_type": "code",
   "execution_count": 208,
   "metadata": {},
   "outputs": [],
   "source": [
    "batch3 = usgs_inventory[(\"2022-01-01\" <= usgs_inventory['aq_time'] )&(usgs_inventory['aq_time']< \"2022-02-01\")].sort_values('aq_time').id.to_list()"
   ]
  },
  {
   "cell_type": "code",
   "execution_count": 228,
   "metadata": {},
   "outputs": [
    {
     "data": {
      "text/plain": [
       "set()"
      ]
     },
     "execution_count": 228,
     "metadata": {},
     "output_type": "execute_result"
    }
   ],
   "source": [
    "set(batch3)-set(finished_m2m)"
   ]
  },
  {
   "cell_type": "code",
   "execution_count": 212,
   "metadata": {},
   "outputs": [
    {
     "name": "stdout",
     "output_type": "stream",
     "text": [
      "Done 2\n"
     ]
    }
   ],
   "source": [
    "export_scenes_list(list(set(batch3)-set(finished_m2m)),'batch3',200)"
   ]
  },
  {
   "cell_type": "code",
   "execution_count": 213,
   "metadata": {},
   "outputs": [],
   "source": [
    "batch4 = usgs_inventory[(\"2022-02-01\" <= usgs_inventory['aq_time'] )&(usgs_inventory['aq_time']< \"2022-03-01\")].sort_values('aq_time').id.to_list()"
   ]
  },
  {
   "cell_type": "code",
   "execution_count": 214,
   "metadata": {},
   "outputs": [
    {
     "data": {
      "text/plain": [
       "19368"
      ]
     },
     "execution_count": 214,
     "metadata": {},
     "output_type": "execute_result"
    }
   ],
   "source": [
    "usgs_inventorylen(batch4)"
   ]
  },
  {
   "cell_type": "code",
   "execution_count": 235,
   "metadata": {},
   "outputs": [],
   "source": [
    "batch4 = list(set(batch4)-set(finished_m2m))"
   ]
  },
  {
   "cell_type": "code",
   "execution_count": 236,
   "metadata": {},
   "outputs": [
    {
     "name": "stdout",
     "output_type": "stream",
     "text": [
      "Done 27\n"
     ]
    }
   ],
   "source": [
    "export_scenes_list(batch4,'batch4',200)"
   ]
  },
  {
   "cell_type": "code",
   "execution_count": 223,
   "metadata": {},
   "outputs": [],
   "source": [
    "batch5 = usgs_inventory[(\"2022-03-01\" <= usgs_inventory['aq_time'] )&(usgs_inventory['aq_time']< \"2022-04-01\")].sort_values('aq_time').id.to_list()"
   ]
  },
  {
   "cell_type": "code",
   "execution_count": 237,
   "metadata": {},
   "outputs": [],
   "source": [
    "batch5 = list(set(batch5)-set(finished_m2m))"
   ]
  },
  {
   "cell_type": "code",
   "execution_count": 238,
   "metadata": {},
   "outputs": [
    {
     "data": {
      "text/plain": [
       "14600"
      ]
     },
     "execution_count": 238,
     "metadata": {},
     "output_type": "execute_result"
    }
   ],
   "source": [
    "len(batch5)"
   ]
  },
  {
   "cell_type": "code",
   "execution_count": 239,
   "metadata": {},
   "outputs": [
    {
     "name": "stdout",
     "output_type": "stream",
     "text": [
      "Done 73\n"
     ]
    }
   ],
   "source": [
    "export_scenes_list(batch5,'batch5',200)"
   ]
  },
  {
   "cell_type": "code",
   "execution_count": 255,
   "metadata": {},
   "outputs": [],
   "source": [
    "batch6 = usgs_inventory[(\"2022-04-01\" <= usgs_inventory['aq_time'] )&(usgs_inventory['aq_time']< \"2022-05-01\")].sort_values('aq_time').id.to_list()"
   ]
  },
  {
   "cell_type": "code",
   "execution_count": 257,
   "metadata": {},
   "outputs": [
    {
     "data": {
      "text/plain": [
       "20925"
      ]
     },
     "execution_count": 257,
     "metadata": {},
     "output_type": "execute_result"
    }
   ],
   "source": [
    "len(batch6)"
   ]
  },
  {
   "cell_type": "code",
   "execution_count": 259,
   "metadata": {},
   "outputs": [
    {
     "name": "stdout",
     "output_type": "stream",
     "text": [
      "Done 105\n"
     ]
    }
   ],
   "source": [
    "export_scenes_list(batch6,'batch6',200)"
   ]
  },
  {
   "cell_type": "code",
   "execution_count": 121,
   "metadata": {},
   "outputs": [
    {
     "data": {
      "text/html": [
       "<div>\n",
       "<style scoped>\n",
       "    .dataframe tbody tr th:only-of-type {\n",
       "        vertical-align: middle;\n",
       "    }\n",
       "\n",
       "    .dataframe tbody tr th {\n",
       "        vertical-align: top;\n",
       "    }\n",
       "\n",
       "    .dataframe thead th {\n",
       "        text-align: right;\n",
       "    }\n",
       "</style>\n",
       "<table border=\"1\" class=\"dataframe\">\n",
       "  <thead>\n",
       "    <tr style=\"text-align: right;\">\n",
       "      <th></th>\n",
       "      <th>id</th>\n",
       "      <th>properties.landsat:scene_id</th>\n",
       "      <th>properties.landsat:wrs_row</th>\n",
       "      <th>properties.landsat:wrs_type</th>\n",
       "      <th>properties.created</th>\n",
       "      <th>properties.landsat:cloud_cover_land</th>\n",
       "      <th>properties.view:sun_azimuth</th>\n",
       "      <th>properties.view:off_nadir</th>\n",
       "      <th>properties.platform</th>\n",
       "      <th>properties.landsat:wrs_path</th>\n",
       "      <th>...</th>\n",
       "      <th>properties.eo:cloud_cover</th>\n",
       "      <th>properties.updated</th>\n",
       "      <th>properties.landsat:correction</th>\n",
       "      <th>properties.landsat:collection_category</th>\n",
       "      <th>properties.accuracy:geometric_y_bias</th>\n",
       "      <th>properties.accuracy:geometric_x_bias</th>\n",
       "      <th>properties.accuracy:geometric_rmse</th>\n",
       "      <th>properties.accuracy:geometric_x_stddev</th>\n",
       "      <th>properties.accuracy:geometric_y_stddev</th>\n",
       "      <th>aq_time</th>\n",
       "    </tr>\n",
       "  </thead>\n",
       "  <tbody>\n",
       "    <tr>\n",
       "      <th>119</th>\n",
       "      <td>LC09_L1GT_043018_20211203_20220123_02_T2</td>\n",
       "      <td>LC90430182021337LGN03</td>\n",
       "      <td>18</td>\n",
       "      <td>2</td>\n",
       "      <td>2022-07-06T20:58:05.979Z</td>\n",
       "      <td>100.00</td>\n",
       "      <td>170.770645</td>\n",
       "      <td>0.0</td>\n",
       "      <td>LANDSAT_9</td>\n",
       "      <td>43</td>\n",
       "      <td>...</td>\n",
       "      <td>100.00</td>\n",
       "      <td>2022-07-06T20:58:05.979Z</td>\n",
       "      <td>L1GT</td>\n",
       "      <td>T2</td>\n",
       "      <td>NaN</td>\n",
       "      <td>NaN</td>\n",
       "      <td>NaN</td>\n",
       "      <td>NaN</td>\n",
       "      <td>NaN</td>\n",
       "      <td>2021-12-03 18:33:56.723690+00:00</td>\n",
       "    </tr>\n",
       "    <tr>\n",
       "      <th>118</th>\n",
       "      <td>LC09_L1TP_043019_20211203_20220123_02_T1</td>\n",
       "      <td>LC90430192021337LGN03</td>\n",
       "      <td>19</td>\n",
       "      <td>2</td>\n",
       "      <td>2022-07-01T10:19:42.440Z</td>\n",
       "      <td>85.73</td>\n",
       "      <td>169.999815</td>\n",
       "      <td>0.0</td>\n",
       "      <td>LANDSAT_9</td>\n",
       "      <td>43</td>\n",
       "      <td>...</td>\n",
       "      <td>85.73</td>\n",
       "      <td>2022-07-01T10:19:42.440Z</td>\n",
       "      <td>L1TP</td>\n",
       "      <td>T1</td>\n",
       "      <td>0.0</td>\n",
       "      <td>0.0</td>\n",
       "      <td>9.875</td>\n",
       "      <td>5.490</td>\n",
       "      <td>8.208</td>\n",
       "      <td>2021-12-03 18:34:20.601997+00:00</td>\n",
       "    </tr>\n",
       "    <tr>\n",
       "      <th>117</th>\n",
       "      <td>LC09_L1TP_043020_20211203_20220123_02_T1</td>\n",
       "      <td>LC90430202021337LGN03</td>\n",
       "      <td>20</td>\n",
       "      <td>2</td>\n",
       "      <td>2022-07-01T10:30:34.830Z</td>\n",
       "      <td>13.23</td>\n",
       "      <td>169.275627</td>\n",
       "      <td>0.0</td>\n",
       "      <td>LANDSAT_9</td>\n",
       "      <td>43</td>\n",
       "      <td>...</td>\n",
       "      <td>13.23</td>\n",
       "      <td>2022-07-01T10:30:34.830Z</td>\n",
       "      <td>L1TP</td>\n",
       "      <td>T1</td>\n",
       "      <td>0.0</td>\n",
       "      <td>0.0</td>\n",
       "      <td>9.573</td>\n",
       "      <td>5.381</td>\n",
       "      <td>7.917</td>\n",
       "      <td>2021-12-03 18:34:44.480305+00:00</td>\n",
       "    </tr>\n",
       "    <tr>\n",
       "      <th>116</th>\n",
       "      <td>LC09_L1TP_043021_20211203_20220123_02_T1</td>\n",
       "      <td>LC90430212021337LGN03</td>\n",
       "      <td>21</td>\n",
       "      <td>2</td>\n",
       "      <td>2022-07-01T14:00:36.378Z</td>\n",
       "      <td>19.28</td>\n",
       "      <td>168.590462</td>\n",
       "      <td>0.0</td>\n",
       "      <td>LANDSAT_9</td>\n",
       "      <td>43</td>\n",
       "      <td>...</td>\n",
       "      <td>19.28</td>\n",
       "      <td>2022-07-01T14:00:36.378Z</td>\n",
       "      <td>L1TP</td>\n",
       "      <td>T1</td>\n",
       "      <td>0.0</td>\n",
       "      <td>0.0</td>\n",
       "      <td>8.833</td>\n",
       "      <td>5.230</td>\n",
       "      <td>7.118</td>\n",
       "      <td>2021-12-03 18:35:08.358611+00:00</td>\n",
       "    </tr>\n",
       "    <tr>\n",
       "      <th>115</th>\n",
       "      <td>LC09_L1TP_043022_20211203_20220123_02_T1</td>\n",
       "      <td>LC90430222021337LGN03</td>\n",
       "      <td>22</td>\n",
       "      <td>2</td>\n",
       "      <td>2022-07-01T10:19:47.573Z</td>\n",
       "      <td>13.50</td>\n",
       "      <td>167.937341</td>\n",
       "      <td>0.0</td>\n",
       "      <td>LANDSAT_9</td>\n",
       "      <td>43</td>\n",
       "      <td>...</td>\n",
       "      <td>13.50</td>\n",
       "      <td>2022-07-01T10:19:47.573Z</td>\n",
       "      <td>L1TP</td>\n",
       "      <td>T1</td>\n",
       "      <td>0.0</td>\n",
       "      <td>0.0</td>\n",
       "      <td>9.504</td>\n",
       "      <td>6.050</td>\n",
       "      <td>7.329</td>\n",
       "      <td>2021-12-03 18:35:32.241156+00:00</td>\n",
       "    </tr>\n",
       "    <tr>\n",
       "      <th>...</th>\n",
       "      <td>...</td>\n",
       "      <td>...</td>\n",
       "      <td>...</td>\n",
       "      <td>...</td>\n",
       "      <td>...</td>\n",
       "      <td>...</td>\n",
       "      <td>...</td>\n",
       "      <td>...</td>\n",
       "      <td>...</td>\n",
       "      <td>...</td>\n",
       "      <td>...</td>\n",
       "      <td>...</td>\n",
       "      <td>...</td>\n",
       "      <td>...</td>\n",
       "      <td>...</td>\n",
       "      <td>...</td>\n",
       "      <td>...</td>\n",
       "      <td>...</td>\n",
       "      <td>...</td>\n",
       "      <td>...</td>\n",
       "      <td>...</td>\n",
       "    </tr>\n",
       "    <tr>\n",
       "      <th>4</th>\n",
       "      <td>LC09_L1GT_079120_20211231_20220121_02_T2</td>\n",
       "      <td>LC90791202021365LGN01</td>\n",
       "      <td>120</td>\n",
       "      <td>2</td>\n",
       "      <td>2022-07-06T21:10:29.961Z</td>\n",
       "      <td>0.00</td>\n",
       "      <td>101.638044</td>\n",
       "      <td>0.0</td>\n",
       "      <td>LANDSAT_9</td>\n",
       "      <td>79</td>\n",
       "      <td>...</td>\n",
       "      <td>0.00</td>\n",
       "      <td>2022-07-06T21:10:29.961Z</td>\n",
       "      <td>L1GT</td>\n",
       "      <td>T2</td>\n",
       "      <td>NaN</td>\n",
       "      <td>NaN</td>\n",
       "      <td>NaN</td>\n",
       "      <td>NaN</td>\n",
       "      <td>NaN</td>\n",
       "      <td>2021-12-31 22:56:59.183926+00:00</td>\n",
       "    </tr>\n",
       "    <tr>\n",
       "      <th>3</th>\n",
       "      <td>LC09_L1GT_079121_20211231_20220121_02_T2</td>\n",
       "      <td>LC90791212021365LGN01</td>\n",
       "      <td>121</td>\n",
       "      <td>2</td>\n",
       "      <td>2022-07-06T20:02:47.521Z</td>\n",
       "      <td>0.00</td>\n",
       "      <td>110.731190</td>\n",
       "      <td>0.0</td>\n",
       "      <td>LANDSAT_9</td>\n",
       "      <td>79</td>\n",
       "      <td>...</td>\n",
       "      <td>0.00</td>\n",
       "      <td>2022-07-06T20:02:47.521Z</td>\n",
       "      <td>L1GT</td>\n",
       "      <td>T2</td>\n",
       "      <td>NaN</td>\n",
       "      <td>NaN</td>\n",
       "      <td>NaN</td>\n",
       "      <td>NaN</td>\n",
       "      <td>NaN</td>\n",
       "      <td>2021-12-31 22:57:23.163897+00:00</td>\n",
       "    </tr>\n",
       "    <tr>\n",
       "      <th>2</th>\n",
       "      <td>LC09_L1GT_079122_20211231_20220121_02_T2</td>\n",
       "      <td>LC90791222021365LGN01</td>\n",
       "      <td>122</td>\n",
       "      <td>2</td>\n",
       "      <td>2022-07-06T19:37:13.889Z</td>\n",
       "      <td>0.00</td>\n",
       "      <td>120.417011</td>\n",
       "      <td>0.0</td>\n",
       "      <td>LANDSAT_9</td>\n",
       "      <td>79</td>\n",
       "      <td>...</td>\n",
       "      <td>0.00</td>\n",
       "      <td>2022-07-06T19:37:13.889Z</td>\n",
       "      <td>L1GT</td>\n",
       "      <td>T2</td>\n",
       "      <td>NaN</td>\n",
       "      <td>NaN</td>\n",
       "      <td>NaN</td>\n",
       "      <td>NaN</td>\n",
       "      <td>NaN</td>\n",
       "      <td>2021-12-31 22:57:47.148105+00:00</td>\n",
       "    </tr>\n",
       "    <tr>\n",
       "      <th>1</th>\n",
       "      <td>LC09_L1TP_095021_20211231_20220123_02_T1</td>\n",
       "      <td>LC90950212021365LGN01</td>\n",
       "      <td>21</td>\n",
       "      <td>2</td>\n",
       "      <td>2022-07-01T10:36:06.422Z</td>\n",
       "      <td>18.18</td>\n",
       "      <td>165.600071</td>\n",
       "      <td>0.0</td>\n",
       "      <td>LANDSAT_9</td>\n",
       "      <td>95</td>\n",
       "      <td>...</td>\n",
       "      <td>15.42</td>\n",
       "      <td>2022-07-01T10:36:06.422Z</td>\n",
       "      <td>L1TP</td>\n",
       "      <td>T1</td>\n",
       "      <td>0.0</td>\n",
       "      <td>0.0</td>\n",
       "      <td>9.672</td>\n",
       "      <td>7.081</td>\n",
       "      <td>6.588</td>\n",
       "      <td>2021-12-31 23:56:22.855068+00:00</td>\n",
       "    </tr>\n",
       "    <tr>\n",
       "      <th>0</th>\n",
       "      <td>LC09_L1TP_095022_20211231_20220123_02_T1</td>\n",
       "      <td>LC90950222021365LGN01</td>\n",
       "      <td>22</td>\n",
       "      <td>2</td>\n",
       "      <td>2022-07-01T10:37:25.749Z</td>\n",
       "      <td>14.00</td>\n",
       "      <td>164.948959</td>\n",
       "      <td>0.0</td>\n",
       "      <td>LANDSAT_9</td>\n",
       "      <td>95</td>\n",
       "      <td>...</td>\n",
       "      <td>18.18</td>\n",
       "      <td>2022-07-01T10:37:25.749Z</td>\n",
       "      <td>L1TP</td>\n",
       "      <td>T1</td>\n",
       "      <td>0.0</td>\n",
       "      <td>0.0</td>\n",
       "      <td>9.648</td>\n",
       "      <td>7.027</td>\n",
       "      <td>6.611</td>\n",
       "      <td>2021-12-31 23:56:46.733376+00:00</td>\n",
       "    </tr>\n",
       "  </tbody>\n",
       "</table>\n",
       "<p>19236 rows × 27 columns</p>\n",
       "</div>"
      ],
      "text/plain": [
       "                                           id properties.landsat:scene_id  \\\n",
       "119  LC09_L1GT_043018_20211203_20220123_02_T2       LC90430182021337LGN03   \n",
       "118  LC09_L1TP_043019_20211203_20220123_02_T1       LC90430192021337LGN03   \n",
       "117  LC09_L1TP_043020_20211203_20220123_02_T1       LC90430202021337LGN03   \n",
       "116  LC09_L1TP_043021_20211203_20220123_02_T1       LC90430212021337LGN03   \n",
       "115  LC09_L1TP_043022_20211203_20220123_02_T1       LC90430222021337LGN03   \n",
       "..                                        ...                         ...   \n",
       "4    LC09_L1GT_079120_20211231_20220121_02_T2       LC90791202021365LGN01   \n",
       "3    LC09_L1GT_079121_20211231_20220121_02_T2       LC90791212021365LGN01   \n",
       "2    LC09_L1GT_079122_20211231_20220121_02_T2       LC90791222021365LGN01   \n",
       "1    LC09_L1TP_095021_20211231_20220123_02_T1       LC90950212021365LGN01   \n",
       "0    LC09_L1TP_095022_20211231_20220123_02_T1       LC90950222021365LGN01   \n",
       "\n",
       "     properties.landsat:wrs_row  properties.landsat:wrs_type  \\\n",
       "119                          18                            2   \n",
       "118                          19                            2   \n",
       "117                          20                            2   \n",
       "116                          21                            2   \n",
       "115                          22                            2   \n",
       "..                          ...                          ...   \n",
       "4                           120                            2   \n",
       "3                           121                            2   \n",
       "2                           122                            2   \n",
       "1                            21                            2   \n",
       "0                            22                            2   \n",
       "\n",
       "           properties.created  properties.landsat:cloud_cover_land  \\\n",
       "119  2022-07-06T20:58:05.979Z                               100.00   \n",
       "118  2022-07-01T10:19:42.440Z                                85.73   \n",
       "117  2022-07-01T10:30:34.830Z                                13.23   \n",
       "116  2022-07-01T14:00:36.378Z                                19.28   \n",
       "115  2022-07-01T10:19:47.573Z                                13.50   \n",
       "..                        ...                                  ...   \n",
       "4    2022-07-06T21:10:29.961Z                                 0.00   \n",
       "3    2022-07-06T20:02:47.521Z                                 0.00   \n",
       "2    2022-07-06T19:37:13.889Z                                 0.00   \n",
       "1    2022-07-01T10:36:06.422Z                                18.18   \n",
       "0    2022-07-01T10:37:25.749Z                                14.00   \n",
       "\n",
       "     properties.view:sun_azimuth  properties.view:off_nadir  \\\n",
       "119                   170.770645                        0.0   \n",
       "118                   169.999815                        0.0   \n",
       "117                   169.275627                        0.0   \n",
       "116                   168.590462                        0.0   \n",
       "115                   167.937341                        0.0   \n",
       "..                           ...                        ...   \n",
       "4                     101.638044                        0.0   \n",
       "3                     110.731190                        0.0   \n",
       "2                     120.417011                        0.0   \n",
       "1                     165.600071                        0.0   \n",
       "0                     164.948959                        0.0   \n",
       "\n",
       "    properties.platform  properties.landsat:wrs_path  ...  \\\n",
       "119           LANDSAT_9                           43  ...   \n",
       "118           LANDSAT_9                           43  ...   \n",
       "117           LANDSAT_9                           43  ...   \n",
       "116           LANDSAT_9                           43  ...   \n",
       "115           LANDSAT_9                           43  ...   \n",
       "..                  ...                          ...  ...   \n",
       "4             LANDSAT_9                           79  ...   \n",
       "3             LANDSAT_9                           79  ...   \n",
       "2             LANDSAT_9                           79  ...   \n",
       "1             LANDSAT_9                           95  ...   \n",
       "0             LANDSAT_9                           95  ...   \n",
       "\n",
       "     properties.eo:cloud_cover        properties.updated  \\\n",
       "119                     100.00  2022-07-06T20:58:05.979Z   \n",
       "118                      85.73  2022-07-01T10:19:42.440Z   \n",
       "117                      13.23  2022-07-01T10:30:34.830Z   \n",
       "116                      19.28  2022-07-01T14:00:36.378Z   \n",
       "115                      13.50  2022-07-01T10:19:47.573Z   \n",
       "..                         ...                       ...   \n",
       "4                         0.00  2022-07-06T21:10:29.961Z   \n",
       "3                         0.00  2022-07-06T20:02:47.521Z   \n",
       "2                         0.00  2022-07-06T19:37:13.889Z   \n",
       "1                        15.42  2022-07-01T10:36:06.422Z   \n",
       "0                        18.18  2022-07-01T10:37:25.749Z   \n",
       "\n",
       "     properties.landsat:correction properties.landsat:collection_category  \\\n",
       "119                           L1GT                                     T2   \n",
       "118                           L1TP                                     T1   \n",
       "117                           L1TP                                     T1   \n",
       "116                           L1TP                                     T1   \n",
       "115                           L1TP                                     T1   \n",
       "..                             ...                                    ...   \n",
       "4                             L1GT                                     T2   \n",
       "3                             L1GT                                     T2   \n",
       "2                             L1GT                                     T2   \n",
       "1                             L1TP                                     T1   \n",
       "0                             L1TP                                     T1   \n",
       "\n",
       "    properties.accuracy:geometric_y_bias properties.accuracy:geometric_x_bias  \\\n",
       "119                                  NaN                                  NaN   \n",
       "118                                  0.0                                  0.0   \n",
       "117                                  0.0                                  0.0   \n",
       "116                                  0.0                                  0.0   \n",
       "115                                  0.0                                  0.0   \n",
       "..                                   ...                                  ...   \n",
       "4                                    NaN                                  NaN   \n",
       "3                                    NaN                                  NaN   \n",
       "2                                    NaN                                  NaN   \n",
       "1                                    0.0                                  0.0   \n",
       "0                                    0.0                                  0.0   \n",
       "\n",
       "    properties.accuracy:geometric_rmse  \\\n",
       "119                                NaN   \n",
       "118                              9.875   \n",
       "117                              9.573   \n",
       "116                              8.833   \n",
       "115                              9.504   \n",
       "..                                 ...   \n",
       "4                                  NaN   \n",
       "3                                  NaN   \n",
       "2                                  NaN   \n",
       "1                                9.672   \n",
       "0                                9.648   \n",
       "\n",
       "     properties.accuracy:geometric_x_stddev  \\\n",
       "119                                     NaN   \n",
       "118                                   5.490   \n",
       "117                                   5.381   \n",
       "116                                   5.230   \n",
       "115                                   6.050   \n",
       "..                                      ...   \n",
       "4                                       NaN   \n",
       "3                                       NaN   \n",
       "2                                       NaN   \n",
       "1                                     7.081   \n",
       "0                                     7.027   \n",
       "\n",
       "    properties.accuracy:geometric_y_stddev                          aq_time  \n",
       "119                                    NaN 2021-12-03 18:33:56.723690+00:00  \n",
       "118                                  8.208 2021-12-03 18:34:20.601997+00:00  \n",
       "117                                  7.917 2021-12-03 18:34:44.480305+00:00  \n",
       "116                                  7.118 2021-12-03 18:35:08.358611+00:00  \n",
       "115                                  7.329 2021-12-03 18:35:32.241156+00:00  \n",
       "..                                     ...                              ...  \n",
       "4                                      NaN 2021-12-31 22:56:59.183926+00:00  \n",
       "3                                      NaN 2021-12-31 22:57:23.163897+00:00  \n",
       "2                                      NaN 2021-12-31 22:57:47.148105+00:00  \n",
       "1                                    6.588 2021-12-31 23:56:22.855068+00:00  \n",
       "0                                    6.611 2021-12-31 23:56:46.733376+00:00  \n",
       "\n",
       "[19236 rows x 27 columns]"
      ]
     },
     "execution_count": 121,
     "metadata": {},
     "output_type": "execute_result"
    }
   ],
   "source": [
    "usgs_inventory[(\"2021-11-30\" < usgs_inventory['aq_time'] )&(usgs_inventory['aq_time']< \"2022-01-01\")].sort_values('aq_time')"
   ]
  },
  {
   "cell_type": "code",
   "execution_count": 112,
   "metadata": {},
   "outputs": [
    {
     "data": {
      "text/plain": [
       "0      True\n",
       "1      True\n",
       "2      True\n",
       "3      True\n",
       "4      True\n",
       "       ... \n",
       "638    True\n",
       "639    True\n",
       "640    True\n",
       "641    True\n",
       "642    True\n",
       "Name: properties.datetime, Length: 115355, dtype: bool"
      ]
     },
     "execution_count": 112,
     "metadata": {},
     "output_type": "execute_result"
    }
   ],
   "source": [
    "usgs_inventory[pd.to_datetime(usgs_inventory['properties.datetime'])<\"2021-12-01\""
   ]
  },
  {
   "cell_type": "code",
   "execution_count": 89,
   "metadata": {},
   "outputs": [],
   "source": [
    "set_usgs = set(usgs_inventory.id.tolist())"
   ]
  },
  {
   "cell_type": "code",
   "execution_count": 103,
   "metadata": {},
   "outputs": [],
   "source": [
    "todo = list(set_usgs - set_finished)\n",
    "todo"
   ]
  },
  {
   "cell_type": "code",
   "execution_count": null,
   "metadata": {},
   "outputs": [],
   "source": [
    "inventory_merged = usgs_inventory.merge(glad_inventory,left_on='id',right_on='scene_id',how='left')\n",
    "\n",
    "missing = inventory_merged.query('scene_id.isnull()',engine='python')\n",
    "\n",
    "missing.shape\n",
    "\n",
    "missing[['id']].to_csv('../../../data/Landsat/missing_id.csv',index=False)\n",
    "missing.dtypes"
   ]
  },
  {
   "cell_type": "markdown",
   "metadata": {},
   "source": [
    "### Spatial and temporal visualization on the missing scenes"
   ]
  },
  {
   "cell_type": "code",
   "execution_count": null,
   "metadata": {},
   "outputs": [],
   "source": [
    "import seaborn as sns"
   ]
  },
  {
   "cell_type": "code",
   "execution_count": null,
   "metadata": {},
   "outputs": [],
   "source": [
    "pathrow_missing = missing.groupby([\"properties.landsat:wrs_path\",\"properties.landsat:wrs_row\"]).agg({'id':'count'}).reset_index().set_axis(['path','row','count'],axis=1)\\\n",
    "    .pivot(index='row',columns='path',values='count').fillna(0)"
   ]
  },
  {
   "cell_type": "code",
   "execution_count": null,
   "metadata": {},
   "outputs": [],
   "source": [
    "sns.heatmap(pathrow_missing,cbar_kws={'label': 'missing scenes'})\n"
   ]
  },
  {
   "cell_type": "code",
   "execution_count": null,
   "metadata": {},
   "outputs": [],
   "source": [
    "missing['properties.datetime'] = missing['properties.datetime'].astype('datetime64[ns]')"
   ]
  },
  {
   "cell_type": "code",
   "execution_count": null,
   "metadata": {},
   "outputs": [],
   "source": [
    "sns.displot(data=missing,x='properties.datetime',aspect=4,bins=360)"
   ]
  },
  {
   "cell_type": "code",
   "execution_count": null,
   "metadata": {},
   "outputs": [],
   "source": []
  }
 ],
 "metadata": {
  "kernelspec": {
   "display_name": "Python 3 (ipykernel)",
   "language": "python",
   "name": "python3"
  },
  "language_info": {
   "codemirror_mode": {
    "name": "ipython",
    "version": 3
   },
   "file_extension": ".py",
   "mimetype": "text/x-python",
   "name": "python",
   "nbconvert_exporter": "python",
   "pygments_lexer": "ipython3",
   "version": "3.8.8"
  },
  "vscode": {
   "interpreter": {
    "hash": "41b0779e812f5c4dddd7de0cd8299bb9abad67a3737af553fcc301799477cf88"
   }
  }
 },
 "nbformat": 4,
 "nbformat_minor": 4
}
