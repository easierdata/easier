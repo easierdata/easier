{
 "cells": [
  {
   "cell_type": "markdown",
   "id": "a53d0286-1ad4-4119-9ca1-6d73797d74de",
   "metadata": {},
   "source": [
    "# Lassie as retrieval tool\n",
    "\n",
    "daemon is running in the backend at END_POINT"
   ]
  },
  {
   "cell_type": "code",
   "execution_count": null,
   "id": "ca7eab87-763d-48bf-95a0-74b96a46c901",
   "metadata": {},
   "outputs": [],
   "source": [
    "END_POINT = \"127.0.0.1:38845\""
   ]
  },
  {
   "cell_type": "code",
   "execution_count": null,
   "id": "3e92f9d6-ded8-41a1-9233-47c776d6f989",
   "metadata": {},
   "outputs": [],
   "source": [
    "from io import BytesIO\n",
    "import requests\n",
    "import rasterio\n",
    "import numpy as np\n",
    "from matplotlib import colors\n",
    "from matplotlib import colormaps\n",
    "import matplotlib.pyplot as plt\n",
    "def lassie_daemon_get(cid):\n",
    "    url = f\"http://{END_POINT}/ipfs/{cid}\"\n",
    "    response = requests.get(url)\n",
    "    if response.status_code == 200:\n",
    "        data = response.content\n",
    "        print(f\"Data retrieved successfully\")\n",
    "        return data\n",
    "    else:\n",
    "        print(f\"Error retrieving data: {response.status_code}\")\n",
    "        return None\n",
    "\n",
    "def lassie_binary_get(cid):\n",
    "    import subprocess\n",
    "    lassie_path = '../../../lassie-all/release/lassie'\n",
    "    # Start the subprocess with `car x -` command, which reads from stdin and outputs to stdout\n",
    "    process = subprocess.Popen([lassie_path,'fetch', '-o','-', cid], stdout=subprocess.PIPE)\n",
    "\n",
    "    # Read the output of the subprocess from stdout\n",
    "    output = process.stdout.read()\n",
    "\n",
    "    # Wait for the subprocess to finish\n",
    "    process.wait()\n",
    "\n",
    "    # Print the output of the subprocess\n",
    "    return output\n"
   ]
  },
  {
   "cell_type": "code",
   "execution_count": null,
   "id": "a6a80af6-ea91-46a0-ab34-4f18cf63c7b4",
   "metadata": {},
   "outputs": [],
   "source": [
    "def load_landsat_band(band: bytes, dtype: np.dtype = np.float32) -> np.ndarray:\n",
    "    with BytesIO(band) as bytes_io:\n",
    "        with rasterio.open(bytes_io) as dataset:\n",
    "            return dataset.read(1).astype(dtype)\n"
   ]
  },
  {
   "cell_type": "code",
   "execution_count": null,
   "id": "4e8ce090-0f7b-4936-bc31-e1a8d910a7ee",
   "metadata": {},
   "outputs": [],
   "source": [
    "red_band_cid = \"QmTgttqUf7PvZgdSoe71j3njeEKk1hC3h22n2sQmety3To\"\n",
    "nir_band_cid = \"QmZkWaKSuVhFKtAwNbxSogcT6hXHMksXjhgqLu6AXHSUKq\""
   ]
  },
  {
   "cell_type": "code",
   "execution_count": null,
   "id": "b7bebff8-9614-4c43-a350-f2722f6d06ee",
   "metadata": {},
   "outputs": [],
   "source": [
    "# retrieve using the daemon process\n",
    "red_band_raw = lassie_daemon_get(red_band_cid)\n",
    "nir_band_raw = lassie_daemon_get(nir_band_cid)"
   ]
  },
  {
   "cell_type": "code",
   "execution_count": null,
   "id": "945b1743-5d54-4ebe-99e6-0aa0375c1df1",
   "metadata": {},
   "outputs": [],
   "source": [
    "# retrieve using the binary executable\n",
    "red_band_raw = lassie_binary_get(red_band_cid)\n",
    "nir_band_raw = lassie_binary_get(nir_band_cid)"
   ]
  },
  {
   "cell_type": "code",
   "execution_count": null,
   "id": "eec476ea-0dec-47d4-b866-65f16785b1eb",
   "metadata": {},
   "outputs": [],
   "source": [
    "len(nir_band_raw)"
   ]
  },
  {
   "cell_type": "code",
   "execution_count": null,
   "id": "ae645791-8291-430a-ab82-b4c13ef8030d",
   "metadata": {},
   "outputs": [],
   "source": [
    "# fetched object are in CAR format so need to be extracted with car tool before getting the original content.\n",
    "def car_extract(band_raw):\n",
    "    import subprocess\n",
    "    car_path = '../../../lassie-all/go-car/car'\n",
    "    # Assume that `band_raw` is a bytes object containing the raw image data\n",
    "\n",
    "    # Start the subprocess with `car x -` command, which reads from stdin and outputs to stdout\n",
    "    process = subprocess.Popen([car_path, 'x', '-'], stdin=subprocess.PIPE, stdout=subprocess.PIPE)\n",
    "\n",
    "    # Write the bytes object to the subprocess stdin\n",
    "    process.stdin.write(band_raw)\n",
    "\n",
    "    # Close the subprocess stdin to indicate that no more data will be sent\n",
    "    process.stdin.close()\n",
    "\n",
    "    # Read the output of the subprocess from stdout\n",
    "    output = process.stdout.read()\n",
    "\n",
    "    # Wait for the subprocess to finish\n",
    "    process.wait()\n",
    "\n",
    "    # Print the output of the subprocess\n",
    "    return output\n"
   ]
  },
  {
   "cell_type": "code",
   "execution_count": null,
   "id": "1a10dc26-a484-452f-bbbe-141721bdf2e8",
   "metadata": {},
   "outputs": [],
   "source": [
    "red_band = car_extract(red_band_raw)\n",
    "nir_band = car_extract(nir_band_raw)\n",
    "\n",
    "red_band_4 = load_landsat_band(red_band)\n",
    "nir_band_5 = load_landsat_band(nir_band)"
   ]
  },
  {
   "cell_type": "code",
   "execution_count": null,
   "id": "97353a03-2ac8-41ae-911a-585077a92514",
   "metadata": {},
   "outputs": [],
   "source": [
    "eps = 0.0001 # Avoid divide by zero errors\n",
    "ndvi = (nir_band_5 - red_band_4) / (nir_band_5 + red_band_4 + eps)"
   ]
  },
  {
   "cell_type": "code",
   "execution_count": null,
   "id": "6b7f074b-4f6c-4b03-ac5c-7e17ca31e5f0",
   "metadata": {},
   "outputs": [],
   "source": [
    "\n",
    "fig, ax = plt.subplots(figsize=(10, 10))\n",
    "\n",
    "# Remove the axes\n",
    "ax.set_xticks([])\n",
    "ax.set_yticks([])\n",
    "\n",
    "# Set the color map to the min and max values of NDVI\n",
    "ndvi_min, ndvi_max = np.min(ndvi), np.max(ndvi)\n",
    "norm = colors.Normalize(vmin=ndvi_min, vmax=ndvi_max)\n",
    "\n",
    "# Use the normalization object for the image and the color map\n",
    "green_color_map = colormaps[\"Greens\"]\n",
    "green_ndvi = green_color_map(norm(ndvi))\n",
    "\n",
    "img = ax.imshow(green_ndvi)\n",
    "ax.set_title(\"NDVI Plot\")\n",
    "\n",
    "cax = fig.add_axes([0.9, 0.15, 0.03, 0.7])\n",
    "cb = plt.colorbar(plt.cm.ScalarMappable(norm=norm, cmap=green_color_map), cax=cax, orientation='vertical')\n",
    "cb.set_label(\"NDVI\")\n",
    "\n",
    "plt.show()"
   ]
  },
  {
   "cell_type": "code",
   "execution_count": null,
   "id": "979e52d3-45b9-4848-996e-d5c96b6a3e53",
   "metadata": {},
   "outputs": [],
   "source": []
  }
 ],
 "metadata": {
  "kernelspec": {
   "display_name": "Python 3 (ipykernel)",
   "language": "python",
   "name": "python3"
  },
  "language_info": {
   "codemirror_mode": {
    "name": "ipython",
    "version": 3
   },
   "file_extension": ".py",
   "mimetype": "text/x-python",
   "name": "python",
   "nbconvert_exporter": "python",
   "pygments_lexer": "ipython3",
   "version": "3.8.8"
  }
 },
 "nbformat": 4,
 "nbformat_minor": 5
}
