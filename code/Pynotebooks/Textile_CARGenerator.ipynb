{
 "cells": [
  {
   "cell_type": "markdown",
   "metadata": {
    "id": "MIDP_y6t1ayB"
   },
   "source": [
    "Extract TARs to DIR. Used on Cropscape data"
   ]
  },
  {
   "cell_type": "code",
   "execution_count": null,
   "metadata": {
    "id": "wxzGHl-x0Bf5"
   },
   "outputs": [],
   "source": [
    "import tarfile\n",
    "from pathlib import Path\n",
    "\n",
    "target_dir = Path(\"\")\n",
    "targets = list(target_dir.glob(\"*\"))\n",
    "destination_dir = Path(\"\")"
   ]
  },
  {
   "cell_type": "code",
   "execution_count": null,
   "metadata": {
    "id": "-Gki9SCm0K16"
   },
   "outputs": [],
   "source": [
    "for target in targets:\n",
    "  print(str(destination_dir / target.stem[0:-4]))\n",
    "  tar = tarfile.open(str(target))\n",
    "  tar.extractall(path=str(destination_dir / target.stem[0:-4]))\n",
    "  tar.close()"
   ]
  },
  {
   "cell_type": "markdown",
   "metadata": {
    "id": "A0MnrXHO1dBk"
   },
   "source": [
    "Generate CARS"
   ]
  },
  {
   "cell_type": "code",
   "execution_count": 1,
   "metadata": {
    "id": "ftiGfurBxloL"
   },
   "outputs": [],
   "source": [
    "from pathlib import Path\n",
    "import os\n",
    "import subprocess\n",
    "import pandas as pd\n",
    "import json\n",
    "year=\"2012\"\n",
    "TMPDIR=r\"\"\n",
    "target_dir = Path(f\"\") # path to input fils\n",
    "car_dir = Path(f\"\") # path to output CARs\n",
    "pow_path = r\"\" # path to POW executable (obtain from Textile POW Github)"
   ]
  },
  {
   "cell_type": "code",
   "execution_count": 148,
   "metadata": {},
   "outputs": [],
   "source": [
    "# target_dir = Path(f\"\") # path to input fils\n",
    "# car_dir = Path(f\"\") # path to output CARs\n"
   ]
  },
  {
   "cell_type": "code",
   "execution_count": 149,
   "metadata": {},
   "outputs": [],
   "source": [
    "car_dir.mkdir(parents=True, exist_ok=True) # create car dir automatically"
   ]
  },
  {
   "cell_type": "code",
   "execution_count": 150,
   "metadata": {
    "id": "Tm8pUKGTywWQ"
   },
   "outputs": [],
   "source": [
    "targets = [x for x in target_dir.glob(\"*\") if x.is_dir()]"
   ]
  },
  {
   "cell_type": "code",
   "execution_count": null,
   "metadata": {},
   "outputs": [],
   "source": [
    "targets"
   ]
  },
  {
   "cell_type": "code",
   "execution_count": 152,
   "metadata": {},
   "outputs": [
    {
     "name": "stdout",
     "output_type": "stream",
     "text": [
      "2022-09-28 17:30:50.405633\n"
     ]
    }
   ],
   "source": [
    "import datetime\n",
    "print(datetime.datetime.now())"
   ]
  },
  {
   "cell_type": "code",
   "execution_count": null,
   "metadata": {
    "colab": {
     "background_save": true
    },
    "id": "E91XahiGyzGs"
   },
   "outputs": [],
   "source": [
    "df = pd.DataFrame(columns = ['name', 'payload_cid', 'piece_size', 'piece_cid', \"file\"])\n",
    "for target in targets:\n",
    "\n",
    "    print(target)\n",
    "\n",
    "    car_target = car_dir / Path(str(target.stem) + \".car\")\n",
    "\n",
    "    if car_target.exists():\n",
    "        print(f\"Skipping {car_target.name}\")\n",
    "        continue\n",
    "\n",
    "    # Don't aggregate \n",
    "    # result = subprocess.run([str(pow_path), \"offline\", \"prepare\", \"--json\", str(target), str(car_target)], shell=True, capture_output=True)\n",
    "    \n",
    "    # Aggregate\n",
    "    result = subprocess.run(f\"{str(pow_path)} offline prepare --json --aggregate {str(target)} {str(car_target)} --tmpdir {TMPDIR}\", shell=True, capture_output=True)\n",
    "    #limited tmp folder on GEOG cluster; add tmpdir to redirect tmp files\n",
    "    \n",
    "    try:\n",
    "        result=json.loads(result.stderr.decode('utf-8'))\n",
    "        temp_df = {\"name\": str(car_target.stem), \"payload_cid\": result[\"payload_cid\"], \"piece_size\": result[\"piece_size\"], \"piece_cid\": result[\"piece_cid\"], \"file\": str(car_target.name)}\n",
    "        df = df.append(temp_df, ignore_index=True)\n",
    "        df.to_csv(f\"{str(car_dir.parent)}/{str(car_dir.stem)}_car_master.csv\") # CHANGE AS REQUIRED\n",
    "        with open(f\"{str(car_dir.parent)}/{str(car_dir.stem)}_{str(target.stem)}_car_reference.json\",'w',encoding='utf-8') as fw:\n",
    "            json.dump(result,fw,ensure_ascii=False, indent=4)\n",
    "    except Exception as e:\n",
    "        print(f\"error - {target}  - {e}\")\n",
    "    \n",
    "    print(result)"
   ]
  },
  {
   "cell_type": "code",
   "execution_count": 129,
   "metadata": {},
   "outputs": [],
   "source": [
    "# with open(f\"{str(car_dir.parent)}/{str(car_dir.stem)}_{str(target.stem)}_car_reference.json\",'w',encoding='utf-8') as fw:\n",
    "#     json.dump(result,fw,ensure_ascii=False, indent=4)"
   ]
  },
  {
   "cell_type": "code",
   "execution_count": null,
   "metadata": {},
   "outputs": [],
   "source": [
    "result"
   ]
  },
  {
   "cell_type": "code",
   "execution_count": 106,
   "metadata": {},
   "outputs": [
    {
     "name": "stdout",
     "output_type": "stream",
     "text": [
      "2022-08-31 00:35:18.041787\n"
     ]
    }
   ],
   "source": [
    "\n",
    "print(datetime.datetime.now())"
   ]
  },
  {
   "cell_type": "markdown",
   "metadata": {
    "id": "JIzYMihF55wt"
   },
   "source": [
    "## upload GEOG Cluster"
   ]
  },
  {
   "cell_type": "code",
   "execution_count": null,
   "metadata": {},
   "outputs": [],
   "source": [
    "#shell sync.sh"
   ]
  },
  {
   "cell_type": "markdown",
   "metadata": {
    "id": "JIzYMihF55wt"
   },
   "source": [
    "## upload S3"
   ]
  },
  {
   "cell_type": "markdown",
   "metadata": {
    "id": "EGSsLTJV1v8q"
   },
   "source": [
    "Used to upload files to S3. Now that we've switched to GEOG Cluster - this won't be used"
   ]
  },
  {
   "cell_type": "code",
   "execution_count": null,
   "metadata": {
    "id": "GdX2GPhW7V4V"
   },
   "outputs": [],
   "source": [
    "!pip install boto3"
   ]
  },
  {
   "cell_type": "code",
   "execution_count": null,
   "metadata": {
    "id": "3qrTkzi55w9Z"
   },
   "outputs": [],
   "source": [
    "import boto3\n",
    "from botocore.exceptions import NoCredentialsError\n",
    "from pathlib import Path\n",
    "import pandas as pd\n",
    "\n",
    "\n",
    "ACCESS_KEY = \"\"\n",
    "SECRET_KEY = \"\"\n",
    "\n",
    "PATH_TO_CSV = \"\"\n",
    "car_dir = Path(\"\")\n",
    "\n",
    "s3 = boto3.client('s3', aws_access_key_id=ACCESS_KEY,\n",
    "                      aws_secret_access_key=SECRET_KEY)\n",
    "\n",
    "df = pd.read_csv(PATH_TO_CSV)\n",
    "\n",
    "def upload_to_aws(local_file, bucket, s3_file):\n",
    "    \n",
    "    try:\n",
    "        s3.upload_file(local_file, bucket, s3_file)\n",
    "        print(\"Upload Successful\")\n",
    "        return True\n",
    "    except FileNotFoundError:\n",
    "        print(\"The file was not found\")\n",
    "        return False\n",
    "    except NoCredentialsError:\n",
    "        print(\"Credentials not available\")\n",
    "        return False\n",
    "\n",
    "\n",
    "\n",
    "for idx, row in df.iterrows():\n",
    "  print(\"Index \", idx)\n",
    "  print(row[\"name\"])\n",
    "  car_target = car_dir / str(row[\"file\"])\n",
    "\n",
    "  if not car_target.exists():\n",
    "    print(row[\"name\"])\n",
    "    print(\"does not exists\")\n",
    "    continue\n",
    "\n",
    "  print(str(car_target), '<NAME>', row[\"file\"])\n",
    "  uploaded = upload_to_aws(str(car_target), '<NAME>', row[\"file\"])\n",
    "\n",
    "  if not uploaded:\n",
    "    print(row[\"name\"])\n",
    "    print(\"not uploaded\")"
   ]
  }
 ],
 "metadata": {
  "colab": {
   "collapsed_sections": [],
   "name": "Textile-CARGenerator.ipynb",
   "provenance": []
  },
  "kernelspec": {
   "display_name": "Python 3.8.10 ('venv': venv)",
   "language": "python",
   "name": "python3"
  },
  "language_info": {
   "codemirror_mode": {
    "name": "ipython",
    "version": 3
   },
   "file_extension": ".py",
   "mimetype": "text/x-python",
   "name": "python",
   "nbconvert_exporter": "python",
   "pygments_lexer": "ipython3",
   "version": "3.8.10"
  },
  "vscode": {
   "interpreter": {
    "hash": "b576831b488a8de8e804ded287515713baa2a09571a748216473aed04ce0b04b"
   }
  }
 },
 "nbformat": 4,
 "nbformat_minor": 1
}
