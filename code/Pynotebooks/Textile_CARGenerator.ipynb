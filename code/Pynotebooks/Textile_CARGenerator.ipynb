{
 "cells": [
  {
   "cell_type": "markdown",
   "metadata": {},
   "source": [
    "# Generate CAR files for each Landsat scene"
   ]
  },
  {
   "cell_type": "markdown",
   "metadata": {},
   "source": [
    "## Imports"
   ]
  },
  {
   "cell_type": "code",
   "execution_count": 13,
   "metadata": {
    "id": "wxzGHl-x0Bf5"
   },
   "outputs": [
    {
     "data": {
      "text/plain": [
       "True"
      ]
     },
     "execution_count": 13,
     "metadata": {},
     "output_type": "execute_result"
    }
   ],
   "source": [
    "import tarfile\n",
    "from pathlib import Path\n",
    "import os\n",
    "import subprocess\n",
    "import pandas as pd\n",
    "import json\n",
    "from dotenv import load_dotenv\n",
    "import datetime\n",
    "load_dotenv()"
   ]
  },
  {
   "cell_type": "markdown",
   "metadata": {},
   "source": [
    "## Setup source and destination directories"
   ]
  },
  {
   "cell_type": "code",
   "execution_count": 2,
   "metadata": {},
   "outputs": [],
   "source": [
    "source_tar_dir = Path(\"../../data/input/\")\n",
    "source_tars = list(source_tar_dir.glob(\"*.tar\"))\n",
    "extracted_tar_dir = Path(\"../../data/output/\")\n",
    "car_file_dir = Path(\"../../data/car_files/\")\n",
    "temp_dir = \"../../data/temp/\"\n",
    "data_root = \"../../data/\""
   ]
  },
  {
   "cell_type": "markdown",
   "metadata": {},
   "source": [
    "## Load ENV variables"
   ]
  },
  {
   "cell_type": "code",
   "execution_count": 15,
   "metadata": {},
   "outputs": [],
   "source": [
    "pow_path = os.getenv(\"POW_PATH\")"
   ]
  },
  {
   "cell_type": "markdown",
   "metadata": {},
   "source": [
    "## Extract .tar files (Landsat Scenes) to a new directory"
   ]
  },
  {
   "cell_type": "code",
   "execution_count": 20,
   "metadata": {
    "id": "-Gki9SCm0K16"
   },
   "outputs": [
    {
     "name": "stdout",
     "output_type": "stream",
     "text": [
      "Extracting TAR file to ../../data/output\n",
      "Extracting TAR file to ../../data/output\n"
     ]
    }
   ],
   "source": [
    "for tar in source_tars:\n",
    "  destination_extracted_tar_file = f\"{extracted_tar_dir}/{tar.stem}\"\n",
    "  print (f\"Extracting TAR file to {extracted_tar_dir}\")\n",
    "  with tarfile.open(str(tar)) as tar:\n",
    "    tar.extractall(path=destination_extracted_tar_file)"
   ]
  },
  {
   "cell_type": "markdown",
   "metadata": {
    "id": "A0MnrXHO1dBk"
   },
   "source": [
    "## Generate CARS"
   ]
  },
  {
   "cell_type": "code",
   "execution_count": null,
   "metadata": {},
   "outputs": [],
   "source": [
    "# car_dir.mkdir(parents=True, exist_ok=True) # create car dir automatically"
   ]
  },
  {
   "cell_type": "code",
   "execution_count": 3,
   "metadata": {
    "id": "Tm8pUKGTywWQ"
   },
   "outputs": [
    {
     "data": {
      "text/plain": [
       "2"
      ]
     },
     "execution_count": 3,
     "metadata": {},
     "output_type": "execute_result"
    }
   ],
   "source": [
    "extracted_tars = [x for x in extracted_tar_dir.glob(\"*\") if x.is_dir()]\n",
    "len (extracted_tars)"
   ]
  },
  {
   "cell_type": "code",
   "execution_count": 16,
   "metadata": {
    "colab": {
     "background_save": true
    },
    "id": "E91XahiGyzGs"
   },
   "outputs": [
    {
     "name": "stdout",
     "output_type": "stream",
     "text": [
      "../../data/output/LC09_L2SP_041034_20221005_20221007_02_T1\n"
     ]
    },
    {
     "name": "stderr",
     "output_type": "stream",
     "text": [
      "/var/folders/lp/l4c9kmls2t345m7xvcq8l2wm0000gs/T/ipykernel_17176/2024942018.py:20: FutureWarning: The frame.append method is deprecated and will be removed from pandas in a future version. Use pandas.concat instead.\n",
      "  df = df.append(temp_df, ignore_index=True)\n"
     ]
    },
    {
     "name": "stdout",
     "output_type": "stream",
     "text": [
      "{'payload_cid': 'bafybeidtebq2flwt4ptb377ogg7p47ot6ff7kv64s2fuek2hiqemyzz3wy', 'piece_size': 1073741824, 'piece_cid': 'baga6ea4seaqadpu7etgzshjxozolgjamlhj4urtvs6i3elibdadcvnpefnmhidy', 'files': [{'name': '../../data/output/LC09_L2SP_041034_20221005_20221007_02_T1/LC09_L2SP_041034_20221005_20221007_02_T1_ANG.txt', 'Cid': 'QmUfWzt6eZKzGahyrFVHHZQV46DaNQ6m8Pou2jK2kygBse'}, {'name': '../../data/output/LC09_L2SP_041034_20221005_20221007_02_T1/LC09_L2SP_041034_20221005_20221007_02_T1_MTL.json', 'Cid': 'QmWD4zg6XgEsv1UCyh25M8aTYtVF58wZfC3mFrZWcroRpx'}, {'name': '../../data/output/LC09_L2SP_041034_20221005_20221007_02_T1/LC09_L2SP_041034_20221005_20221007_02_T1_MTL.txt', 'Cid': 'QmaJGekbHbBcKNF649ajEH2ccjyhwygGXKhVQWZSFD7UL5'}, {'name': '../../data/output/LC09_L2SP_041034_20221005_20221007_02_T1/LC09_L2SP_041034_20221005_20221007_02_T1_MTL.xml', 'Cid': 'Qmf1iwq3Ni6hgmAe9s3tvBLeYZ6oyexE9BHYKxJD2GbaBN'}, {'name': '../../data/output/LC09_L2SP_041034_20221005_20221007_02_T1/LC09_L2SP_041034_20221005_20221007_02_T1_QA_PIXEL.TIF', 'Cid': 'QmNyUg321CX9uv2HzXGKZyxBHBZEPuYRPNpmQG3JnAn7PX'}, {'name': '../../data/output/LC09_L2SP_041034_20221005_20221007_02_T1/LC09_L2SP_041034_20221005_20221007_02_T1_QA_RADSAT.TIF', 'Cid': 'QmbHbrrysajXt6k1rBFcRe7BnBg9n4Nt8uTM6VQ6C2R2vy'}, {'name': '../../data/output/LC09_L2SP_041034_20221005_20221007_02_T1/LC09_L2SP_041034_20221005_20221007_02_T1_SR_B1.TIF', 'Cid': 'QmVkaUuv786i3rkHS2hhaXj32whuyC4ze2rRjSpwwYa3bJ'}, {'name': '../../data/output/LC09_L2SP_041034_20221005_20221007_02_T1/LC09_L2SP_041034_20221005_20221007_02_T1_SR_B2.TIF', 'Cid': 'QmeHKWKQKDmoUKt8xxCJ122kHjebn8ZZ8bztRQHNmCw34G'}, {'name': '../../data/output/LC09_L2SP_041034_20221005_20221007_02_T1/LC09_L2SP_041034_20221005_20221007_02_T1_SR_B3.TIF', 'Cid': 'QmdPHNRBNpxv9aGCSh8N95zKdU6gUvGXMaqv2gr4ccPtT1'}, {'name': '../../data/output/LC09_L2SP_041034_20221005_20221007_02_T1/LC09_L2SP_041034_20221005_20221007_02_T1_SR_B4.TIF', 'Cid': 'QmSt867UTRL1fu7KkTjqLvifnZqxuqLcX7DVXxxd7Xxv6U'}, {'name': '../../data/output/LC09_L2SP_041034_20221005_20221007_02_T1/LC09_L2SP_041034_20221005_20221007_02_T1_SR_B5.TIF', 'Cid': 'QmXzQEmmJZB2a92LLeF53RYJkbbzHKoGGvc4ctoLt6tTY7'}, {'name': '../../data/output/LC09_L2SP_041034_20221005_20221007_02_T1/LC09_L2SP_041034_20221005_20221007_02_T1_SR_B6.TIF', 'Cid': 'QmUeKi12JsoGacuv7Si8UQ2rSRfrXcm9nQF97t6f9gs3S5'}, {'name': '../../data/output/LC09_L2SP_041034_20221005_20221007_02_T1/LC09_L2SP_041034_20221005_20221007_02_T1_SR_B7.TIF', 'Cid': 'QmWkVRzkirX7VYSnHZnRHG73FfjgTGQJaf4oR2DNr4nMP8'}, {'name': '../../data/output/LC09_L2SP_041034_20221005_20221007_02_T1/LC09_L2SP_041034_20221005_20221007_02_T1_SR_QA_AEROSOL.TIF', 'Cid': 'QmeBFqx1xBqzUgr6zxPWEGUnqhWLSbRdMNvyrnHfY745tC'}, {'name': '../../data/output/LC09_L2SP_041034_20221005_20221007_02_T1/LC09_L2SP_041034_20221005_20221007_02_T1_SR_stac.json', 'Cid': 'QmWcTDQYLy6irmUoynwQ8CXfW6wKR6zBrw6DHzCy6qpU9t'}, {'name': '../../data/output/LC09_L2SP_041034_20221005_20221007_02_T1/LC09_L2SP_041034_20221005_20221007_02_T1_ST_ATRAN.TIF', 'Cid': 'QmbbDZrrCYGgcveMtrFQauhrshnHYQe2AzhdYkXXL9qWmr'}, {'name': '../../data/output/LC09_L2SP_041034_20221005_20221007_02_T1/LC09_L2SP_041034_20221005_20221007_02_T1_ST_B10.TIF', 'Cid': 'QmNyq3taAFdMhCpRpRv3oXhEg3AeW9w3bVpTbD58J7ka6V'}, {'name': '../../data/output/LC09_L2SP_041034_20221005_20221007_02_T1/LC09_L2SP_041034_20221005_20221007_02_T1_ST_CDIST.TIF', 'Cid': 'QmfAUwbzwjSicjMXVKvURudVZUtUZkmnmhs4zsthrDSCix'}, {'name': '../../data/output/LC09_L2SP_041034_20221005_20221007_02_T1/LC09_L2SP_041034_20221005_20221007_02_T1_ST_DRAD.TIF', 'Cid': 'QmV5kw1wEHFcvmMAEu8FcSdzDMMBBQ7ZhPyoQv9rkGYMdz'}, {'name': '../../data/output/LC09_L2SP_041034_20221005_20221007_02_T1/LC09_L2SP_041034_20221005_20221007_02_T1_ST_EMIS.TIF', 'Cid': 'QmQ5MKS3FT677HMb42F9D2Aed5WsfN4qmF8dr1nF1EwEWM'}, {'name': '../../data/output/LC09_L2SP_041034_20221005_20221007_02_T1/LC09_L2SP_041034_20221005_20221007_02_T1_ST_EMSD.TIF', 'Cid': 'QmdYn8tjRUgMNB9Vq69Ef8eF4jjqQCmTmy5xunJNPMfwnR'}, {'name': '../../data/output/LC09_L2SP_041034_20221005_20221007_02_T1/LC09_L2SP_041034_20221005_20221007_02_T1_ST_QA.TIF', 'Cid': 'QmczhymSLXBwxPkZqTkw9c2YsDrbVCQhsFTToaqacdT4Cs'}, {'name': '../../data/output/LC09_L2SP_041034_20221005_20221007_02_T1/LC09_L2SP_041034_20221005_20221007_02_T1_ST_TRAD.TIF', 'Cid': 'QmTTFaKi74u1MfBNfjiwGojG3L6UfuvZ8wp3H163CMyuzM'}, {'name': '../../data/output/LC09_L2SP_041034_20221005_20221007_02_T1/LC09_L2SP_041034_20221005_20221007_02_T1_ST_URAD.TIF', 'Cid': 'QmfZszdYSeBHJnFMYgGKqMTu7iS1rJWLks8d6KNoCvMykt'}, {'name': '../../data/output/LC09_L2SP_041034_20221005_20221007_02_T1/LC09_L2SP_041034_20221005_20221007_02_T1_ST_stac.json', 'Cid': 'QmbEeVr52cXZeu3seBRG1DALdLCy6ygrqmgh2S7yCSSYLe'}, {'name': '../../data/output/LC09_L2SP_041034_20221005_20221007_02_T1/LC09_L2SP_041034_20221005_20221007_02_T1_thumb_large.jpeg', 'Cid': 'QmR2i2pym27GjzdiCbZ6eDAdEVQ2d3XbuJtm1myq7tCUZ5'}, {'name': '../../data/output/LC09_L2SP_041034_20221005_20221007_02_T1/LC09_L2SP_041034_20221005_20221007_02_T1_thumb_small.jpeg', 'Cid': 'QmPcViGTM3L7GtvQve8whVF5BKbHoidLxyDWhLARc4HhKW'}, {'name': '../../data/output/LC09_L2SP_041034_20221005_20221007_02_T1/__init__.py', 'Cid': 'QmbFMke1KXqnYyBBWxB74N4c5SBnJMVAiMNRcGu6x1AwQH'}]}\n",
      "../../data/output/LC08_L1TP_001028_20220615_20220627_02_T1\n",
      "{'payload_cid': 'bafybeig3f4dvtifgweusczoqzmmmbtrwnzwplynxqgxaeef5epnyhjoppm', 'piece_size': 2147483648, 'piece_cid': 'baga6ea4seaql3cj67537avtytlg6ttaa362fdjaqun2c3p7tnlidpz6bpefuudq', 'files': [{'name': '../../data/output/LC08_L1TP_001028_20220615_20220627_02_T1/LC08_L1TP_001028_20220615_20220627_02_T1_ANG.txt', 'Cid': 'QmV1jmEtUJMRqAWkpYjUnW5YzbSgYjWN4s9MnTQTYKAosA'}, {'name': '../../data/output/LC08_L1TP_001028_20220615_20220627_02_T1/LC08_L1TP_001028_20220615_20220627_02_T1_B1.TIF', 'Cid': 'QmesiYxuhRNb8RZt5m2iK3k4EafFDUaMnzkbYJHiMNFztu'}, {'name': '../../data/output/LC08_L1TP_001028_20220615_20220627_02_T1/LC08_L1TP_001028_20220615_20220627_02_T1_B10.TIF', 'Cid': 'QmYJLufhyrAaPH1US9Gtc9aEZS1i5gp3ysdLqhmeyUdU7J'}, {'name': '../../data/output/LC08_L1TP_001028_20220615_20220627_02_T1/LC08_L1TP_001028_20220615_20220627_02_T1_B11.TIF', 'Cid': 'Qmf7Z7hdmTNRc6DzdirAxz6GzaQSRwEvbW385GgtzGbmot'}, {'name': '../../data/output/LC08_L1TP_001028_20220615_20220627_02_T1/LC08_L1TP_001028_20220615_20220627_02_T1_B2.TIF', 'Cid': 'QmU84SF8xHXSc8AMv3htR1jSCAVDK3yVi9GD7x3rXm5SW1'}, {'name': '../../data/output/LC08_L1TP_001028_20220615_20220627_02_T1/LC08_L1TP_001028_20220615_20220627_02_T1_B3.TIF', 'Cid': 'QmepZLYAL6GJW3JrBcbGc1rPKMvKi7W9VUKQkNbUJZsvsV'}, {'name': '../../data/output/LC08_L1TP_001028_20220615_20220627_02_T1/LC08_L1TP_001028_20220615_20220627_02_T1_B4.TIF', 'Cid': 'QmRjsWxfpKPsebtbQUnpFqgsECTSXJrqosCytyRWseMAif'}, {'name': '../../data/output/LC08_L1TP_001028_20220615_20220627_02_T1/LC08_L1TP_001028_20220615_20220627_02_T1_B5.TIF', 'Cid': 'QmdV8F5NFWnpYLvnXDvZwcHXxEJEhPGB6mp6jYbAUhhNTv'}, {'name': '../../data/output/LC08_L1TP_001028_20220615_20220627_02_T1/LC08_L1TP_001028_20220615_20220627_02_T1_B6.TIF', 'Cid': 'QmY3ZyN5w5G8e8DfmAecnTohL6oFr7u7WeAtQvdvrYcWn6'}, {'name': '../../data/output/LC08_L1TP_001028_20220615_20220627_02_T1/LC08_L1TP_001028_20220615_20220627_02_T1_B7.TIF', 'Cid': 'QmYb3KzYAwiGYxyG5U6gqMyRv8Cv1Rv6yegRserz4H9oYh'}, {'name': '../../data/output/LC08_L1TP_001028_20220615_20220627_02_T1/LC08_L1TP_001028_20220615_20220627_02_T1_B8.TIF', 'Cid': 'QmaWzzDHufBQtdjFDbvU7KnqsoQs1FPfGHmhYhGnXH29r3'}, {'name': '../../data/output/LC08_L1TP_001028_20220615_20220627_02_T1/LC08_L1TP_001028_20220615_20220627_02_T1_B9.TIF', 'Cid': 'QmZSL8YW23KBRdn4dkYYAw78jpB1Ki3yi7UiyN8kwAZGiJ'}, {'name': '../../data/output/LC08_L1TP_001028_20220615_20220627_02_T1/LC08_L1TP_001028_20220615_20220627_02_T1_MTL.txt', 'Cid': 'QmR2d1H9dmpnNxcMWhRhd54T7mbfEML9LDLuhPKfcxjeew'}, {'name': '../../data/output/LC08_L1TP_001028_20220615_20220627_02_T1/LC08_L1TP_001028_20220615_20220627_02_T1_MTL.xml', 'Cid': 'QmbSEtRi8iMFzLPT1hgKjSapdnVqxzPRFnWtvtmy9QCCjU'}, {'name': '../../data/output/LC08_L1TP_001028_20220615_20220627_02_T1/LC08_L1TP_001028_20220615_20220627_02_T1_QA_PIXEL.TIF', 'Cid': 'QmZZaDz3ktU7oi6tervmtBRsQWo7iKcdK37K3ecrDVLJjZ'}, {'name': '../../data/output/LC08_L1TP_001028_20220615_20220627_02_T1/LC08_L1TP_001028_20220615_20220627_02_T1_QA_RADSAT.TIF', 'Cid': 'QmekprhR3vGXn7eCqkJ5AxQ6PMkNvum4TxDppMAM6DDH5w'}, {'name': '../../data/output/LC08_L1TP_001028_20220615_20220627_02_T1/LC08_L1TP_001028_20220615_20220627_02_T1_SAA.TIF', 'Cid': 'QmdmTZSZnk5rhPvwdmzLiwWdHY9ghdxQPRDeyTJsiEgskt'}, {'name': '../../data/output/LC08_L1TP_001028_20220615_20220627_02_T1/LC08_L1TP_001028_20220615_20220627_02_T1_SZA.TIF', 'Cid': 'Qmbm41uGsYHSwo3F4JakKTBaDUtnoibxN1PZ3ZuYto64JH'}, {'name': '../../data/output/LC08_L1TP_001028_20220615_20220627_02_T1/LC08_L1TP_001028_20220615_20220627_02_T1_VAA.TIF', 'Cid': 'QmTSjQRfA1x6d8W3XYi5rtT7aLvub5QRZdcYrLTincmeK1'}, {'name': '../../data/output/LC08_L1TP_001028_20220615_20220627_02_T1/LC08_L1TP_001028_20220615_20220627_02_T1_VZA.TIF', 'Cid': 'QmfPuH1JN2Z23V8nAhRckPFkzrP3ogeS547PwmYKpHWNz1'}]}\n"
     ]
    },
    {
     "name": "stderr",
     "output_type": "stream",
     "text": [
      "/var/folders/lp/l4c9kmls2t345m7xvcq8l2wm0000gs/T/ipykernel_17176/2024942018.py:20: FutureWarning: The frame.append method is deprecated and will be removed from pandas in a future version. Use pandas.concat instead.\n",
      "  df = df.append(temp_df, ignore_index=True)\n"
     ]
    }
   ],
   "source": [
    "df = pd.DataFrame(columns = ['name', 'payload_cid', 'piece_size', 'piece_cid', \"file\"])\n",
    "for target in extracted_tars:\n",
    "    print(target)\n",
    "    car_target = Path(f\"{car_file_dir}/{target.stem}.car\")\n",
    "\n",
    "    if car_target.exists():\n",
    "        print(f\"Skipping {car_target.name}\")\n",
    "        continue\n",
    "\n",
    "    # Don't aggregate \n",
    "    # result = subprocess.run([str(pow_path), \"offline\", \"prepare\", \"--json\", str(target), str(car_target)], shell=True, capture_output=True)\n",
    "    \n",
    "    # Aggregate\n",
    "    result = subprocess.run(f\"{pow_path} offline prepare --json --aggregate {str(target)} {str(car_target)} --tmpdir {temp_dir}\", shell=True, capture_output=True)\n",
    "    #limited tmp folder on GEOG cluster; add tmpdir to redirect tmp files\n",
    "    \n",
    "    try:\n",
    "        result=json.loads(result.stderr.decode('utf-8'))\n",
    "        temp_df = {\"name\": str(car_target.stem), \"payload_cid\": result[\"payload_cid\"], \"piece_size\": result[\"piece_size\"], \"piece_cid\": result[\"piece_cid\"], \"file\": str(car_target.name)}\n",
    "        df = df.append(temp_df, ignore_index=True)\n",
    "        df.to_csv(f\"{str(car_file_dir.parent)}/{str(car_file_dir.stem)}_car_master.csv\") # CHANGE AS REQUIRED\n",
    "        with open(f\"{str(car_file_dir.parent)}/{str(car_file_dir.stem)}_{str(target.stem)}_car_reference.json\",'w',encoding='utf-8') as fw:\n",
    "            json.dump(result,fw,ensure_ascii=False, indent=4)\n",
    "    except Exception as e:\n",
    "        print(f\"error - {target}  - {e}\")\n",
    "    \n",
    "    print(result)"
   ]
  }
 ],
 "metadata": {
  "colab": {
   "collapsed_sections": [],
   "name": "Textile-CARGenerator.ipynb",
   "provenance": []
  },
  "kernelspec": {
   "display_name": "Python 3.10.7 ('venv': venv)",
   "language": "python",
   "name": "python3"
  },
  "language_info": {
   "codemirror_mode": {
    "name": "ipython",
    "version": 3
   },
   "file_extension": ".py",
   "mimetype": "text/x-python",
   "name": "python",
   "nbconvert_exporter": "python",
   "pygments_lexer": "ipython3",
   "version": "3.10.7"
  },
  "vscode": {
   "interpreter": {
    "hash": "fb06483d433fe4a4167710c74b044303c64c391fff93d157ac52bd32ba531e9e"
   }
  }
 },
 "nbformat": 4,
 "nbformat_minor": 4
}
