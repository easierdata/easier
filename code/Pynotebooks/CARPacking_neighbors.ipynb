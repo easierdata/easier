{
 "cells": [
  {
   "cell_type": "markdown",
   "metadata": {},
   "source": [
    "## Imports and Directories"
   ]
  },
  {
   "cell_type": "code",
   "execution_count": 120,
   "metadata": {},
   "outputs": [],
   "source": [
    "import random\n",
    "\n",
    "from scipy.spatial import KDTree"
   ]
  },
  {
   "cell_type": "markdown",
   "metadata": {},
   "source": [
    "## Mock Landsat Path/Rows with KDtree"
   ]
  },
  {
   "cell_type": "code",
   "execution_count": 121,
   "metadata": {},
   "outputs": [],
   "source": [
    "row = range(0, 10000)\n",
    "path = range(0, 10000)\n",
    "scenes = list(\n",
    "    zip(row, path)\n",
    ")  # Simulate 10K scenes with 10000 rows and 10000 paths (each scene is a row/path combination)\n",
    "tree = KDTree(scenes)"
   ]
  },
  {
   "cell_type": "markdown",
   "metadata": {},
   "source": [
    "## Pack Car File"
   ]
  },
  {
   "cell_type": "code",
   "execution_count": null,
   "metadata": {},
   "outputs": [],
   "source": [
    "car_scenes = (\n",
    "    []\n",
    ")  # Each car will have a list of scenes that will be used to pack it. len(car_scenes) = scenes / 25\n",
    "scene = random.choice(scenes)\n",
    "\n",
    "while True:  # Keep packing as long as there are still scenes left\n",
    "    k_nearest_neighbors = tree.query(scene, k=25)  # Pack each CAR file with 25 scenes\n",
    "    car_scenes.append([scenes[i] for i in k_nearest_neighbors[1]])\n",
    "    scenes = [\n",
    "        v for i, v in enumerate(scenes) if i not in k_nearest_neighbors[1]\n",
    "    ]  # Remove the scenes that were packed into the CAR file\n",
    "    if not scenes:\n",
    "        break\n",
    "    tree = KDTree(scenes)  # Rebuild tree with nearest neighbors removed\n",
    "    scene = random.choice(scenes)\n",
    "\n",
    "car_scenes"
   ]
  }
 ],
 "metadata": {
  "kernelspec": {
   "display_name": "Python 3.8.10 ('venv': venv)",
   "language": "python",
   "name": "python3"
  },
  "language_info": {
   "codemirror_mode": {
    "name": "ipython",
    "version": 3
   },
   "file_extension": ".py",
   "mimetype": "text/x-python",
   "name": "python",
   "nbconvert_exporter": "python",
   "pygments_lexer": "ipython3",
   "version": "3.8.10"
  },
  "orig_nbformat": 4,
  "vscode": {
   "interpreter": {
    "hash": "3f16b2a5f3cddf2cd8b2eb7e4ad710ac2daa320f112ca40ceb142835e7507422"
   }
  }
 },
 "nbformat": 4,
 "nbformat_minor": 2
}
