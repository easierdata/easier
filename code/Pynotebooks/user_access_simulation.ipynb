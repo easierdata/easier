{
 "cells": [
  {
   "cell_type": "markdown",
   "metadata": {},
   "source": [
    "# Simulate a user accessing scenes to estimate # of sectors needed to unseal"
   ]
  },
  {
   "cell_type": "markdown",
   "metadata": {},
   "source": [
    "## Imports"
   ]
  },
  {
   "cell_type": "code",
   "execution_count": 1,
   "metadata": {},
   "outputs": [],
   "source": [
    "import random\n",
    "import geopandas as gpd"
   ]
  },
  {
   "cell_type": "markdown",
   "metadata": {},
   "source": [
    "## Prepare Landsat scenes (Rows/Paths) of the US"
   ]
  },
  {
   "cell_type": "markdown",
   "metadata": {},
   "source": [
    "## Fetch files"
   ]
  },
  {
   "cell_type": "code",
   "execution_count": 2,
   "metadata": {},
   "outputs": [],
   "source": [
    "# From https://www.usgs.gov/media/files/landsat-wrs-2-descending-path-row-shapefile\n",
    "landsat_scenes_shp = gpd.read_file(\"https://d9-wret.s3.us-west-2.amazonaws.com/assets/palladium/production/s3fs-public/atoms/files/WRS2_descending_0.zip\")\n",
    "\n",
    "# From https://www.census.gov/geographies/mapping-files/time-series/geo/carto-boundary-file.html\n",
    "us_states_shp = gpd.read_file(\"https://www2.census.gov/geo/tiger/GENZ2018/shp/cb_2018_us_state_20m.zip\")"
   ]
  },
  {
   "cell_type": "markdown",
   "metadata": {},
   "source": [
    "## Reproject to WGS84 (to match Landsat)"
   ]
  },
  {
   "cell_type": "code",
   "execution_count": 3,
   "metadata": {},
   "outputs": [],
   "source": [
    "\n",
    "us_states_shp = us_states_shp.to_crs(epsg=4326)"
   ]
  },
  {
   "cell_type": "code",
   "execution_count": 4,
   "metadata": {},
   "outputs": [
    {
     "name": "stderr",
     "output_type": "stream",
     "text": [
      "/Users/jsolly.admin/Documents/code/easier/venv/lib/python3.10/site-packages/geopandas/tools/clip.py:67: FutureWarning: In a future version, `df.iloc[:, i] = newvals` will attempt to set the values inplace instead of always setting a new array. To retain the old behavior, use either `df[df.columns[i]] = newvals` or, if columns are non-unique, `df.isetitem(i, newvals)`\n",
      "  clipped.loc[\n"
     ]
    }
   ],
   "source": [
    "us_states_continential = us_states_shp[us_states_shp[\"STUSPS\"].isin([\"AK\", \"HI\", \"PR\", \"VI\", \"GU\", \"AS\", \"MP\", \"UM\"]) == False]\n",
    "landsat_scenes_clipped = gpd.clip(landsat_scenes_shp, us_states_continential)\n",
    "landsat_scenes_clipped # Should be about 457 scenes"
   ]
  },
  {
   "cell_type": "code",
   "execution_count": 6,
   "metadata": {},
   "outputs": [],
   "source": [
    "landsat_scenes_clipped_rows_paths = landsat_scenes_clipped[[\"PATH\", \"ROW\"]]"
   ]
  },
  {
   "cell_type": "markdown",
   "metadata": {},
   "source": [
    "## Prepare US Metropolitan Statistical Areas (MSAs)"
   ]
  },
  {
   "cell_type": "code",
   "execution_count": null,
   "metadata": {},
   "outputs": [],
   "source": [
    "US_cell_dict = {\n",
    "    cell_1: {row: 1\n",
    "             path: 1\n",
    "             sector: 1}\n",
    "    cell_2: {row: 30\n",
    "             path: 30\n",
    "             sector: 2}\n",
    "}\n",
    "\n",
    "# The number of Landsat scenes intersected by MSA\n",
    "MSA_dict = {\n",
    "    'MSA1': ['cell1', 'cell2', 'cell3'],\n",
    "    'MSA2': ['cell4', 'cell5'],\n",
    "}"
   ]
  },
  {
   "cell_type": "markdown",
   "metadata": {},
   "source": [
    "## User Access Settings"
   ]
  },
  {
   "cell_type": "code",
   "execution_count": null,
   "metadata": {},
   "outputs": [],
   "source": [
    "scenes_requested = random.randint(1, 5)"
   ]
  },
  {
   "cell_type": "markdown",
   "metadata": {},
   "source": [
    "## Sector and Cache Settings"
   ]
  },
  {
   "cell_type": "code",
   "execution_count": null,
   "metadata": {},
   "outputs": [],
   "source": [
    "hot_storage_cache_time = 1000 # Number of requests (loops) before hot storage cache is cleared\n"
   ]
  }
 ],
 "metadata": {
  "kernelspec": {
   "display_name": "Python 3.10.7 ('venv': venv)",
   "language": "python",
   "name": "python3"
  },
  "language_info": {
   "codemirror_mode": {
    "name": "ipython",
    "version": 3
   },
   "file_extension": ".py",
   "mimetype": "text/x-python",
   "name": "python",
   "nbconvert_exporter": "python",
   "pygments_lexer": "ipython3",
   "version": "3.10.7"
  },
  "orig_nbformat": 4,
  "vscode": {
   "interpreter": {
    "hash": "fb06483d433fe4a4167710c74b044303c64c391fff93d157ac52bd32ba531e9e"
   }
  }
 },
 "nbformat": 4,
 "nbformat_minor": 2
}
