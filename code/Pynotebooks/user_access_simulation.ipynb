{
 "cells": [
  {
   "cell_type": "markdown",
   "metadata": {},
   "source": [
    "# Simulate a user accessing scenes to estimate # of sectors needed to unseal"
   ]
  },
  {
   "cell_type": "markdown",
   "metadata": {},
   "source": [
    "## Imports"
   ]
  },
  {
   "cell_type": "code",
   "execution_count": 2,
   "metadata": {},
   "outputs": [],
   "source": [
    "%matplotlib inline\n",
    "import random\n",
    "import geopandas as gpd\n",
    "from scipy.spatial import KDTree\n",
    "import numpy as np"
   ]
  },
  {
   "cell_type": "markdown",
   "metadata": {},
   "source": [
    "## Prepare Landsat scenes (Rows/Paths) of the US"
   ]
  },
  {
   "cell_type": "markdown",
   "metadata": {},
   "source": [
    "### Fetch files"
   ]
  },
  {
   "cell_type": "code",
   "execution_count": 3,
   "metadata": {},
   "outputs": [],
   "source": [
    "# From https://www.usgs.gov/media/files/landsat-wrs-2-descending-path-row-shapefile\n",
    "landsat_scenes_shp = gpd.read_file(\"https://d9-wret.s3.us-west-2.amazonaws.com/assets/palladium/production/s3fs-public/atoms/files/WRS2_descending_0.zip\")[[\"PATH\", \"ROW\", \"geometry\"]]\n",
    "\n",
    "# From https://www.census.gov/geographies/mapping-files/time-series/geo/carto-boundary-file.html\n",
    "us_states_shp = gpd.read_file(\"https://www2.census.gov/geo/tiger/GENZ2018/shp/cb_2018_us_state_20m.zip\")[[\"geometry\"]]\n",
    "\n",
    "# From https://www.census.gov/geographies/mapping-files/time-series/geo/carto-boundary-file.html\n",
    "msa_boundaries = gpd.read_file(\"https://www2.census.gov/geo/tiger/GENZ2018/shp/cb_2018_us_cbsa_20m.zip\")[[\"CBSAFP\", \"geometry\"]]"
   ]
  },
  {
   "cell_type": "markdown",
   "metadata": {},
   "source": [
    "### Reproject to WGS84 (to match Landsat)"
   ]
  },
  {
   "cell_type": "code",
   "execution_count": 35,
   "metadata": {},
   "outputs": [],
   "source": [
    "us_states_shp = us_states_shp.to_crs(epsg=4326)\n",
    "msa_boundaries = msa_boundaries.to_crs(epsg=4326)"
   ]
  },
  {
   "cell_type": "markdown",
   "metadata": {},
   "source": [
    "### Clip Scenes to Continential US "
   ]
  },
  {
   "cell_type": "code",
   "execution_count": 36,
   "metadata": {},
   "outputs": [
    {
     "name": "stdout",
     "output_type": "stream",
     "text": [
      "457\n"
     ]
    },
    {
     "name": "stderr",
     "output_type": "stream",
     "text": [
      "/Users/jsolly.admin/Documents/code/easier/venv/lib/python3.10/site-packages/geopandas/tools/clip.py:67: FutureWarning: In a future version, `df.iloc[:, i] = newvals` will attempt to set the values inplace instead of always setting a new array. To retain the old behavior, use either `df[df.columns[i]] = newvals` or, if columns are non-unique, `df.isetitem(i, newvals)`\n",
      "  clipped.loc[\n"
     ]
    }
   ],
   "source": [
    "us_states_continential = us_states_shp[us_states_shp[\"STUSPS\"].isin([\"AK\", \"HI\", \"PR\", \"VI\", \"GU\", \"AS\", \"MP\", \"UM\"]) == False]\n",
    "landsat_scenes_clipped = gpd.clip(landsat_scenes_shp, us_states_continential)\n",
    "print(len(landsat_scenes_clipped)) # Should be about 457 scenes"
   ]
  },
  {
   "cell_type": "markdown",
   "metadata": {},
   "source": [
    "## Intersect MSAs with Landsat scenes"
   ]
  },
  {
   "cell_type": "code",
   "execution_count": 38,
   "metadata": {},
   "outputs": [
    {
     "name": "stderr",
     "output_type": "stream",
     "text": [
      "/Users/jsolly.admin/Documents/code/easier/venv/lib/python3.10/site-packages/IPython/core/interactiveshell.py:3318: FutureWarning: The `op` parameter is deprecated and will be removed in a future release. Please use the `predicate` parameter instead.\n",
      "  if await self.run_code(code, result, async_=asy):\n"
     ]
    }
   ],
   "source": [
    "msa_boundaries_intersect= gpd.sjoin(msa_boundaries, landsat_scenes_clipped, how=\"inner\", op=\"intersects\")"
   ]
  },
  {
   "cell_type": "markdown",
   "metadata": {},
   "source": [
    "## Drop Geometry of MSAs"
   ]
  },
  {
   "cell_type": "code",
   "execution_count": 39,
   "metadata": {},
   "outputs": [],
   "source": [
    "msa_boundaries_intersect_drop_geom = msa_boundaries_intersect[[\"CBSAFP\", \"PATH\", \"ROW\"]]\n",
    "msa_boundaries_intersect_drop_geom"
   ]
  },
  {
   "cell_type": "markdown",
   "metadata": {},
   "source": [
    "## User Settings"
   ]
  },
  {
   "cell_type": "code",
   "execution_count": 41,
   "metadata": {},
   "outputs": [],
   "source": [
    "scenes_requested_per_request = random.randint(1, 5)\n",
    "number_of_requests = 1000"
   ]
  },
  {
   "cell_type": "markdown",
   "metadata": {},
   "source": [
    "## Sector and Cache Settings"
   ]
  },
  {
   "cell_type": "code",
   "execution_count": 42,
   "metadata": {},
   "outputs": [],
   "source": [
    "cache_time = 1000 # Number of requests (loops) before hot storage cache is cleared\n",
    "cache_hit_count = 0\n",
    "sector_scene_count = 25\n",
    "sector_packing_method = \"random-greedy\" # \"random-greedy\" or \"sequential\""
   ]
  },
  {
   "cell_type": "markdown",
   "metadata": {},
   "source": [
    "## Pack Sectors"
   ]
  },
  {
   "cell_type": "code",
   "execution_count": 50,
   "metadata": {},
   "outputs": [],
   "source": [
    "scenes = landsat_scenes_clipped[[\"PATH\", \"ROW\"]].values # Only need the path and row to identify a scene\n",
    "tree = KDTree(scenes)\n",
    "\n",
    "car_scenes = [] # Each car will have a list of scenes that will be used to pack it. len(car_scenes) = scenes / 25\n",
    "scene = random.choice(scenes)\n",
    "\n",
    "while True: # Keep packing as long as there are still scenes left\n",
    "    k_nearest_neighbors = tree.query(scene, k=25) # Pack each CAR file with 25 scenes\n",
    "    try:\n",
    "        scenes_to_pack = [scenes[i] for i in k_nearest_neighbors[1]]\n",
    "        car_scenes.append(scenes_to_pack)\n",
    "    except IndexError:\n",
    "        car_scenes.append(scenes) # If there are less than 25 scenes left, just pack the rest\n",
    "        break\n",
    "    scenes = [v for i, v in enumerate(scenes) if i not in k_nearest_neighbors[1]] # Remove the scenes that were packed into the CAR file\n",
    "    tree = KDTree(scenes) # Rebuild tree with nearest neighbors removed\n",
    "    scene = random.choice(scenes)"
   ]
  },
  {
   "cell_type": "code",
   "execution_count": 1,
   "metadata": {},
   "outputs": [
    {
     "ename": "NameError",
     "evalue": "name 'plt' is not defined",
     "output_type": "error",
     "traceback": [
      "\u001b[0;31m---------------------------------------------------------------------------\u001b[0m",
      "\u001b[0;31mNameError\u001b[0m                                 Traceback (most recent call last)",
      "Cell \u001b[0;32mIn [1], line 1\u001b[0m\n\u001b[0;32m----> 1\u001b[0m plt\u001b[39m.\u001b[39mplot(landsat_scenes_clipped)\n",
      "\u001b[0;31mNameError\u001b[0m: name 'plt' is not defined"
     ]
    }
   ],
   "source": [
    "# plt.plot(landsat_scenes_clipped)"
   ]
  },
  {
   "cell_type": "markdown",
   "metadata": {},
   "source": [
    "## Simulate User Access"
   ]
  },
  {
   "cell_type": "code",
   "execution_count": null,
   "metadata": {},
   "outputs": [],
   "source": []
  },
  {
   "cell_type": "markdown",
   "metadata": {},
   "source": []
  },
  {
   "cell_type": "markdown",
   "metadata": {},
   "source": [
    "## Plot Results"
   ]
  }
 ],
 "metadata": {
  "kernelspec": {
   "display_name": "Python 3.10.7 64-bit",
   "language": "python",
   "name": "python3"
  },
  "language_info": {
   "codemirror_mode": {
    "name": "ipython",
    "version": 3
   },
   "file_extension": ".py",
   "mimetype": "text/x-python",
   "name": "python",
   "nbconvert_exporter": "python",
   "pygments_lexer": "ipython3",
   "version": "3.10.7"
  },
  "orig_nbformat": 4,
  "vscode": {
   "interpreter": {
    "hash": "b0fa6594d8f4cbf19f97940f81e996739fb7646882a419484c72d19e05852a7e"
   }
  }
 },
 "nbformat": 4,
 "nbformat_minor": 2
}
