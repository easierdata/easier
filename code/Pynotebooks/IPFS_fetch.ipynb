{
 "cells": [
  {
   "cell_type": "code",
   "execution_count": 1,
   "metadata": {},
   "outputs": [],
   "source": [
    "import subprocess\n",
    "\n",
    "import requests\n",
    "from pystac_client import Client"
   ]
  },
  {
   "cell_type": "code",
   "execution_count": 2,
   "metadata": {},
   "outputs": [],
   "source": [
    "catalog = Client.open(\"http://ec2-54-172-212-55.compute-1.amazonaws.com/api/v1/pgstac/\")\n",
    "\n",
    "# Washington, DC\n",
    "bbox = [-76.964657, 38.978967, -76.928008, 39.002783]\n",
    "search = catalog.search(\n",
    "    collections=[\"landsat-c2l1\"],\n",
    "    bbox=bbox,\n",
    ")\n",
    "\n",
    "items = search.get_all_items()\n",
    "item = items[0]"
   ]
  },
  {
   "cell_type": "code",
   "execution_count": 3,
   "metadata": {},
   "outputs": [
    {
     "data": {
      "text/plain": [
       "'QmTgttqUf7PvZgdSoe71j3njeEKk1hC3h22n2sQmety3To'"
      ]
     },
     "execution_count": 3,
     "metadata": {},
     "output_type": "execute_result"
    }
   ],
   "source": [
    "item_cid = item.assets[\"red\"].extra_fields[\"alternate\"][\"IPFS\"][\"href\"].split(\"/\")[-1]\n",
    "item_cid"
   ]
  },
  {
   "cell_type": "code",
   "execution_count": 5,
   "metadata": {},
   "outputs": [
    {
     "name": "stdout",
     "output_type": "stream",
     "text": [
      "Local IPFS Node Detected! ipfs version 0.18.1\n",
      "\n",
      "CID: QmTgttqUf7PvZgdSoe71j3njeEKk1hC3h22n2sQmety3To found in local IPFS node\n"
     ]
    },
    {
     "name": "stderr",
     "output_type": "stream",
     "text": [
      " 82.62 MiB / 82.62 MiB  100.00% 0s\n"
     ]
    }
   ],
   "source": [
    "def check_local_ipfs():\n",
    "    try:\n",
    "        ipfs_present = subprocess.check_output([\"ipfs\", \"version\"]).decode(\"utf-8\")\n",
    "        print(f\"Local IPFS Node Detected! {ipfs_present}\")\n",
    "        return True\n",
    "    except subprocess.CalledProcessError as e:\n",
    "        print(e.output.decode(\"utf-8\"))\n",
    "        return False\n",
    "\n",
    "\n",
    "def get_data_from_local_ipfs(cid):\n",
    "    try:\n",
    "        subprocess.check_output([\"ipfs\", \"pin\", \"ls\", cid])\n",
    "        print(f\"CID: {cid} found in local IPFS node\")\n",
    "        data = subprocess.check_output([\"ipfs\", \"cat\", cid])\n",
    "        return data\n",
    "    except subprocess.CalledProcessError as e:\n",
    "        print(e.output.decode(\"utf-8\"))\n",
    "        return None\n",
    "\n",
    "\n",
    "def fetch_from_ipfs_network(cid):\n",
    "    try:\n",
    "        print(\"Attempting to fetch CID from IPFS network using local IPFS node\")\n",
    "        data = subprocess.check_output([\"ipfs\", \"cat\", cid])\n",
    "        print(f\"CID: {cid} found on IPFS network via local IPFS node\")\n",
    "        print(\"Pinning CID to local IPFS node\")\n",
    "        print(subprocess.check_output([\"ipfs\", \"pin\", \"add\", cid]))\n",
    "        return data\n",
    "    except subprocess.CalledProcessError as e:\n",
    "        print(e.output.decode(\"utf-8\"))\n",
    "        return None\n",
    "\n",
    "\n",
    "def fetch_from_ipfs_gateway(cid):\n",
    "    try:\n",
    "        data = requests.get(f\"https://ipfs.io/ipfs/{cid}\").content\n",
    "        print(f\"CID: {cid} found on IPFS network via Gateway\")\n",
    "        return data\n",
    "    except requests.exceptions.RequestException as e:\n",
    "        print(e.output.decode(\"utf-8\"))\n",
    "        return None\n",
    "\n",
    "\n",
    "def get_data(cid):\n",
    "    local_ipfs_present = check_local_ipfs()\n",
    "\n",
    "    if local_ipfs_present:\n",
    "        data = get_data_from_local_ipfs(cid)\n",
    "        if data is None:\n",
    "            data = fetch_from_ipfs_network(cid)\n",
    "\n",
    "    else:\n",
    "        data = fetch_from_ipfs_gateway(cid)\n",
    "\n",
    "    return data\n",
    "\n",
    "\n",
    "data = get_data(item_cid)"
   ]
  }
 ],
 "metadata": {
  "kernelspec": {
   "display_name": "venv",
   "language": "python",
   "name": "python3"
  },
  "language_info": {
   "codemirror_mode": {
    "name": "ipython",
    "version": 3
   },
   "file_extension": ".py",
   "mimetype": "text/x-python",
   "name": "python",
   "nbconvert_exporter": "python",
   "pygments_lexer": "ipython3",
   "version": "3.10.10"
  },
  "orig_nbformat": 4
 },
 "nbformat": 4,
 "nbformat_minor": 2
}
