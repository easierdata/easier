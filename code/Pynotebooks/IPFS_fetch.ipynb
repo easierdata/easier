{
 "cells": [
  {
   "cell_type": "code",
   "execution_count": 2,
   "metadata": {},
   "outputs": [],
   "source": [
    "import subprocess\n",
    "import requests\n",
    "from pystac_client import Client"
   ]
  },
  {
   "cell_type": "code",
   "execution_count": 3,
   "metadata": {},
   "outputs": [],
   "source": [
    "catalog = Client.open(\"http://ec2-54-172-212-55.compute-1.amazonaws.com/api/v1/pgstac/\")\n",
    "\n",
    "# Washington, DC\n",
    "bbox = [-76.964657, 38.978967, -76.928008, 39.002783] \n",
    "search = catalog.search(\n",
    "    collections=[\"landsat-c2l1\"],\n",
    "    bbox=bbox,\n",
    ")\n",
    "\n",
    "items = search.get_all_items()\n",
    "item = items[0]"
   ]
  },
  {
   "cell_type": "code",
   "execution_count": 4,
   "metadata": {},
   "outputs": [
    {
     "data": {
      "text/plain": [
       "'QmTgttqUf7PvZgdSoe71j3njeEKk1hC3h22n2sQmety3To'"
      ]
     },
     "execution_count": 4,
     "metadata": {},
     "output_type": "execute_result"
    }
   ],
   "source": [
    "item_cid = item.assets[\"red\"].extra_fields[\"alternate\"][\"IPFS\"][\"href\"].split(\"/\")[-1]\n",
    "item_cid"
   ]
  },
  {
   "cell_type": "code",
   "execution_count": 5,
   "metadata": {},
   "outputs": [
    {
     "name": "stdout",
     "output_type": "stream",
     "text": [
      "Local IPFS Node Detected! ipfs version 0.18.1\n",
      "\n",
      "CID: QmTgttqUf7PvZgdSoe71j3njeEKk1hC3h22n2sQmety3To found in local IPFS node\n"
     ]
    },
    {
     "name": "stderr",
     "output_type": "stream",
     "text": [
      " 82.62 MiB / 82.62 MiB  100.00% 0sK\n"
     ]
    }
   ],
   "source": [
    "def get_data(cid):\n",
    "    CID_FOUND = None\n",
    "    try:\n",
    "        IPFS_PRESENT = subprocess.check_output([\"ipfs\", \"version\"]).decode(\"utf-8\")\n",
    "        print(f\"Local IPFS Node Detected! {IPFS_PRESENT}\")\n",
    "        try:\n",
    "            CID_FOUND = subprocess.check_output([\"ipfs\", \"pin\", \"ls\", cid])\n",
    "            print(f\"CID: {item_cid} found in local IPFS node\")\n",
    "            CID_FOUND = subprocess.check_output([\"ipfs\", \"cat\", cid])\n",
    "            return CID_FOUND\n",
    "        except subprocess.CalledProcessError as e:\n",
    "            print(e.output.decode(\"utf-8\"))\n",
    "\n",
    "            try:\n",
    "                print(\"Attempting to fetch CID from IPFS network using local IPFS node\")\n",
    "                CID_FOUND = subprocess.check_output([\"ipfs\", \"cat\", cid])\n",
    "                print(f\"CID: {item_cid} found on IPFS network via local IPFS node\")\n",
    "                print(\"Pinning CID to local IPFS node\")\n",
    "                print(subprocess.check_output([\"ipfs\", \"pin\", \"add\", cid]))\n",
    "                return CID_FOUND\n",
    "            except subprocess.CalledProcessError as e:\n",
    "                print(f\"CID: {cid} not found anywhere on IPFS. Aborting...\")\n",
    "                return\n",
    "    except subprocess.CalledProcessError as e:\n",
    "        print(e.output.decode(\"utf-8\"))\n",
    "        try:\n",
    "            CID_FOUND = requests.get(f\"https://ipfs.io/ipfs/{cid}\").content\n",
    "            print(f\"CID: {item_cid} found on IPFS network via Gateway\")\n",
    "            subprocess.check_output([\"ipfs\", \"add\", \"--pin\", CID_FOUND])\n",
    "            print(\"Pinned cid to local IPFS node\")\n",
    "\n",
    "        except requests.exceptions.RequestException as e:\n",
    "            print(e.output.decode(\"utf-8\"))\n",
    "            return\n",
    "        \n",
    "    return CID_FOUND\n",
    "\n",
    "\n",
    "data = get_data(item_cid)"
   ]
  }
 ],
 "metadata": {
  "kernelspec": {
   "display_name": "venv",
   "language": "python",
   "name": "python3"
  },
  "language_info": {
   "codemirror_mode": {
    "name": "ipython",
    "version": 3
   },
   "file_extension": ".py",
   "mimetype": "text/x-python",
   "name": "python",
   "nbconvert_exporter": "python",
   "pygments_lexer": "ipython3",
   "version": "3.10.10"
  },
  "orig_nbformat": 4
 },
 "nbformat": 4,
 "nbformat_minor": 2
}
