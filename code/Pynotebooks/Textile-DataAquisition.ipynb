{
 "cells": [
  {
   "cell_type": "code",
   "execution_count": 1,
   "metadata": {},
   "outputs": [],
   "source": [
    "from dotenv import load_dotenv\n",
    "import os\n",
    "load_dotenv()\n",
    "token = os.getenv('TOKEN')"
   ]
  },
  {
   "cell_type": "code",
   "execution_count": 2,
   "metadata": {},
   "outputs": [],
   "source": [
    "output_dir=\"\""
   ]
  },
  {
   "cell_type": "code",
   "execution_count": 3,
   "metadata": {},
   "outputs": [],
   "source": [
    "dataset=\"MOD09Q1G_NDVI\"\n",
    "year=\"2008\""
   ]
  },
  {
   "cell_type": "code",
   "execution_count": null,
   "metadata": {},
   "outputs": [],
   "source": [
    "import datetime\n",
    "print(datetime.datetime.now())"
   ]
  },
  {
   "cell_type": "code",
   "execution_count": null,
   "metadata": {
    "id": "51L7sm32JN11"
   },
   "outputs": [],
   "source": [
    "import subprocess\n",
    "import sys\n",
    "targets = list(range(1, 369, 8))\n",
    "for target in targets:\n",
    "    target = str(target).zfill(3)\n",
    "    print(target)\n",
    "    #!wget -e robots=off -m -np -R .html,.tmp -nH --cut-dirs=3 \"https://ladsweb.modaps.eosdis.nasa.gov/archive/allData/6/MOD09Q1G_NDVI/$year/$target/\" --header \"Authorization: Bearer $token\" -P \"$output_dir\"\n",
    "    subprocess.run(f'wget -e robots=off -m -np -R .html,.tmp -nH --cut-dirs=3 \"https://ladsweb.modaps.eosdis.nasa.gov/archive/allData/6/{str(dataset)}/{str(year)}/{str(target)}/\" --header \"Authorization: Bearer {str(token)}\" -P \"{output_dir}\"', shell=True,stdout=sys.stdout, stderr=subprocess.STDOUT)\n",
    "    #subprocess.run(f'wget -e robots=off -m -np -R .html,.tmp -nH --cut-dirs=3 \"https://ladsweb.modaps.eosdis.nasa.gov/archive/allData/6/MOD09Q1G_NDVI/{str(year)}/{str(target)}/\" --header \"Authorization: Bearer $token\" -P \"{output_dir}\"', shell=True, )"
   ]
  },
  {
   "cell_type": "code",
   "execution_count": null,
   "metadata": {},
   "outputs": [],
   "source": [
    "\n",
    "subprocess.run(f'wget -e robots=off -m -np -R .html,.tmp -nH --cut-dirs=3 \"https://ladsweb.modaps.eosdis.nasa.gov/archive/allData/6/MOD09Q1G_NDVI/{str(year)}/{str(target)}/\" --header \"Authorization: Bearer {str(token)}\" -P \"{output_dir}\"', shell=True,stdout=sys.stdout, stderr=subprocess.STDOUT)"
   ]
  },
  {
   "cell_type": "code",
   "execution_count": null,
   "metadata": {},
   "outputs": [],
   "source": [
    "print(datetime.datetime.now())"
   ]
  }
 ],
 "metadata": {
  "colab": {
   "authorship_tag": "ABX9TyMG+K/zNkZT5Yo3uUq9hG14",
   "collapsed_sections": [],
   "mount_file_id": "17eGLYmkOsg2asRu1WR_qJWx2ow_Pq-MB",
   "name": "Textile-DataAquisition",
   "provenance": []
  },
  "kernelspec": {
   "display_name": "Python 3.8.10 ('venv': venv)",
   "language": "python",
   "name": "python3"
  },
  "language_info": {
   "codemirror_mode": {
    "name": "ipython",
    "version": 3
   },
   "file_extension": ".py",
   "mimetype": "text/x-python",
   "name": "python",
   "nbconvert_exporter": "python",
   "pygments_lexer": "ipython3",
   "version": "3.8.10"
  },
  "vscode": {
   "interpreter": {
    "hash": "b576831b488a8de8e804ded287515713baa2a09571a748216473aed04ce0b04b"
   }
  }
 },
 "nbformat": 4,
 "nbformat_minor": 1
}
