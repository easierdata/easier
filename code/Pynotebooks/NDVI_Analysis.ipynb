{
 "cells": [
  {
   "cell_type": "markdown",
   "metadata": {},
   "source": [
    "## Introduction"
   ]
  },
  {
   "cell_type": "markdown",
   "metadata": {},
   "source": [
    "In this notebook, we will calculate the normalized Vegetation Index (NDVI) for a Landsat 8 image. We will use the Landsat 8 image from the previous notebook, and we will use the same image for this notebook. The NDVI is a vegetation index that is used to measure the health of vegetation. It is calculated by subtracting the near-infrared band from the red band, and dividing the result by the sum of the near-infrared band and the red band. The NDVI is a dimensionless index that ranges from -1 to 1. A value of 0 indicates that there is no vegetation, and a value of 1 indicates that the vegetation is healthy. A value of -1 indicates that the vegetation is unhealthy. The NDVI is a very useful index for measuring the health of vegetation, and it is used in many applications, such as monitoring the health of vegetation in agricultural areas, and monitoring the health of vegetation in forested areas."
   ]
  },
  {
   "cell_type": "markdown",
   "metadata": {},
   "source": [
    "## Band Math to calculate NDVI"
   ]
  },
  {
   "cell_type": "markdown",
   "metadata": {},
   "source": [
    "NDVI is used to quantify vegetation greenness and is helpful in understanding vegetation density and assessing changes in plant health. NDVI is calculated as a ratio between the red ( R ) and near infrared ( NIR ) values in traditional fashion. According to USGS, for landsat 9, the following band math can be used to calculate NDVI\n",
    "\n",
    "NDVI = (Band 5 – Band 4) / (Band 5 + Band 4)\n",
    "\n",
    "Source"
   ]
  },
  {
   "cell_type": "markdown",
   "metadata": {},
   "source": [
    "## Fetch Bands 4 and 5 from the Landsat 9 image"
   ]
  },
  {
   "cell_type": "markdown",
   "metadata": {},
   "source": [
    "## Calculate NDVI"
   ]
  },
  {
   "cell_type": "markdown",
   "metadata": {},
   "source": [
    "## Save Notebook to IPFS"
   ]
  },
  {
   "cell_type": "code",
   "execution_count": null,
   "metadata": {},
   "outputs": [],
   "source": [
    "In the [last post] we talked about how the STAC specification can be enriched with CIDs in order to reference geospatial data from decentralized storage systems. In this post, we are going to put everything together by fetching a Landsat scene from FileCoin via A STAC server. We'll then pin our Python notebook to IPFS so anyone in the world can replicate our workflow.\n",
    "\n",
    "How to Calcuate NDVI for a Landsat Scene\n",
    "\n",
    "NDVI is used to quantify vegetation greenness and is helpful in understanding vegetation density and assessing changes in plant health. NDVI is calculated as a ratio between the red ( R ) and near infrared ( NIR ) values in traditional fashion. According to USGS, for landsat 9, the following band math can be used to calculate NDVI\n",
    "\n",
    "NDVI = (Band 5 – Band 4) / (Band 5 + Band 4)\n",
    "\n",
    "Source\n",
    "\n",
    "Calculate NDVI with data from IPFS in a Python Juptyter Notebook\n",
    "\n",
    "The EASIER Data Initiative has stood up a [STAC server] with a small amount of data for this exercise. To follow along, choose an [IPFS] gateway and access the Jupyter Notebook at [IPFS URL]."
   ]
  }
 ],
 "metadata": {
  "language_info": {
   "name": "python"
  },
  "orig_nbformat": 4
 },
 "nbformat": 4,
 "nbformat_minor": 2
}
