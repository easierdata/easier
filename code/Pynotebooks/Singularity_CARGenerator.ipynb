{
 "cells": [
  {
   "cell_type": "markdown",
   "metadata": {},
   "source": [
    "# Generate CAR files for each Landsat scene"
   ]
  },
  {
   "cell_type": "markdown",
   "metadata": {},
   "source": [
    "## Imports"
   ]
  },
  {
   "cell_type": "code",
   "execution_count": 2,
   "metadata": {
    "id": "wxzGHl-x0Bf5"
   },
   "outputs": [
    {
     "data": {
      "text/plain": [
       "True"
      ]
     },
     "execution_count": 2,
     "metadata": {},
     "output_type": "execute_result"
    }
   ],
   "source": [
    "import tarfile\n",
    "from pathlib import Path\n",
    "import os\n",
    "import subprocess\n",
    "import pandas as pd\n",
    "import json\n",
    "from dotenv import load_dotenv\n",
    "import datetime\n",
    "load_dotenv()"
   ]
  },
  {
   "cell_type": "markdown",
   "metadata": {},
   "source": [
    "## Setup source and destination directories"
   ]
  },
  {
   "cell_type": "code",
   "execution_count": 4,
   "metadata": {},
   "outputs": [],
   "source": [
    "source_tar_dir = Path(\"../../data/input/\")\n",
    "source_tars = list(source_tar_dir.glob(\"*.tar\"))\n",
    "extracted_tar_dir = Path(\"../../data/output/\")\n",
    "car_file_dir = Path(\"../../data/car_files/\")"
   ]
  },
  {
   "cell_type": "markdown",
   "metadata": {},
   "source": [
    "## Extract .tar files (Landsat Scenes) to a new directory"
   ]
  },
  {
   "cell_type": "code",
   "execution_count": 20,
   "metadata": {
    "id": "-Gki9SCm0K16"
   },
   "outputs": [
    {
     "name": "stdout",
     "output_type": "stream",
     "text": [
      "Extracting TAR file to ../../data/output\n",
      "Extracting TAR file to ../../data/output\n"
     ]
    }
   ],
   "source": [
    "for tar in source_tars:\n",
    "  destination_extracted_tar_file = f\"{extracted_tar_dir}/{tar.stem}\"\n",
    "  print (f\"Extracting TAR file to {extracted_tar_dir}\")\n",
    "  with tarfile.open(str(tar)) as tar:\n",
    "    tar.extractall(path=destination_extracted_tar_file)"
   ]
  },
  {
   "cell_type": "markdown",
   "metadata": {
    "id": "A0MnrXHO1dBk"
   },
   "source": [
    "## Generate CARS"
   ]
  },
  {
   "cell_type": "markdown",
   "metadata": {},
   "source": [
    "### Start Singularity Daemon (in a terminal window)"
   ]
  },
  {
   "cell_type": "code",
   "execution_count": 16,
   "metadata": {},
   "outputs": [
    {
     "name": "stdout",
     "output_type": "stream",
     "text": [
      "singularity prep create MyData ../../data/input ../../data/car_files\n"
     ]
    }
   ],
   "source": [
    "dataset_name = \"MyData\"\n",
    "command = f\"singularity prep create {dataset_name} {source_tar_dir} {car_file_dir}\"\n",
    "print(command)\n",
    "result = subprocess.run(command, shell=True, capture_output=True)\n",
    "print (result.stdout.decode(\"utf-8\"))"
   ]
  }
 ],
 "metadata": {
  "colab": {
   "collapsed_sections": [],
   "name": "Textile-CARGenerator.ipynb",
   "provenance": []
  },
  "kernelspec": {
   "display_name": "Python 3.10.7 ('venv': venv)",
   "language": "python",
   "name": "python3"
  },
  "language_info": {
   "codemirror_mode": {
    "name": "ipython",
    "version": 3
   },
   "file_extension": ".py",
   "mimetype": "text/x-python",
   "name": "python",
   "nbconvert_exporter": "python",
   "pygments_lexer": "ipython3",
   "version": "3.10.7"
  },
  "vscode": {
   "interpreter": {
    "hash": "fb06483d433fe4a4167710c74b044303c64c391fff93d157ac52bd32ba531e9e"
   }
  }
 },
 "nbformat": 4,
 "nbformat_minor": 4
}
