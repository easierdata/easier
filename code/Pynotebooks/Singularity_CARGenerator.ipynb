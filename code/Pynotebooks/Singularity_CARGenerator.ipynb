{
 "cells": [
  {
   "cell_type": "markdown",
   "metadata": {},
   "source": [
    "# Generate CAR files for each Landsat scene"
   ]
  },
  {
   "cell_type": "markdown",
   "metadata": {},
   "source": [
    "## Imports"
   ]
  },
  {
   "cell_type": "code",
   "execution_count": 1,
   "metadata": {
    "id": "wxzGHl-x0Bf5"
   },
   "outputs": [
    {
     "data": {
      "text/plain": [
       "True"
      ]
     },
     "execution_count": 1,
     "metadata": {},
     "output_type": "execute_result"
    }
   ],
   "source": [
    "import subprocess\n",
    "import tarfile\n",
    "from pathlib import Path\n",
    "\n",
    "from dotenv import load_dotenv\n",
    "\n",
    "load_dotenv()"
   ]
  },
  {
   "cell_type": "markdown",
   "metadata": {},
   "source": [
    "## Setup source and destination directories"
   ]
  },
  {
   "cell_type": "code",
   "execution_count": 2,
   "metadata": {},
   "outputs": [],
   "source": [
    "source_tar_dir = Path(\"../../data/input/\")\n",
    "source_tars = list(source_tar_dir.glob(\"*.tar\"))\n",
    "extracted_tar_dir = Path(\"../../data/output/\")\n",
    "car_file_dir = Path(\"../../data/car_files/\")"
   ]
  },
  {
   "cell_type": "markdown",
   "metadata": {},
   "source": [
    "## Extract .tar files (Landsat Scenes) to a new directory"
   ]
  },
  {
   "cell_type": "code",
   "execution_count": 3,
   "metadata": {
    "id": "-Gki9SCm0K16"
   },
   "outputs": [],
   "source": [
    "for tar in source_tars:\n",
    "    destination_extracted_tar_file = f\"{extracted_tar_dir}/{tar.stem}\"\n",
    "    print(f\"Extracting TAR file to {extracted_tar_dir}\")\n",
    "    with tarfile.open(str(tar)) as tar:\n",
    "        tar.extractall(path=destination_extracted_tar_file)"
   ]
  },
  {
   "cell_type": "markdown",
   "metadata": {
    "id": "A0MnrXHO1dBk"
   },
   "source": [
    "## Generate CARS"
   ]
  },
  {
   "cell_type": "markdown",
   "metadata": {},
   "source": [
    "### Start Singularity Daemon (in a terminal window)\n",
    "$ singularity daemon"
   ]
  },
  {
   "cell_type": "code",
   "execution_count": 5,
   "metadata": {},
   "outputs": [
    {
     "name": "stdout",
     "output_type": "stream",
     "text": [
      "singularity prep create Landsat_9 ../../data/input ../../data/car_files\n",
      "┌─────────┬────────────────────────────────────────────────────────────┐\n",
      "│ (index) │                           Values                           │\n",
      "├─────────┼────────────────────────────────────────────────────────────┤\n",
      "│   id    │                 '638a17f7a30f2eef13574710'                 │\n",
      "│  name   │                        'Landsat_9'                         │\n",
      "│ minSize │                        18897856102                         │\n",
      "│ maxSize │                        32641751449                         │\n",
      "│  path   │   '/Users/jsolly.admin/Documents/code/easier/data/input'   │\n",
      "│ outDir  │ '/Users/jsolly.admin/Documents/code/easier/data/car_files' │\n",
      "│ status  │                          'active'                          │\n",
      "└─────────┴────────────────────────────────────────────────────────────┘\n",
      "\n"
     ]
    }
   ],
   "source": [
    "dataset_name = \"Landsat_9\"\n",
    "command = f\"singularity prep create {dataset_name} {source_tar_dir} {car_file_dir}\"\n",
    "print(command)\n",
    "result = subprocess.run(command, shell=True, capture_output=True)\n",
    "print(result.stdout.decode(\"utf-8\"))"
   ]
  }
 ],
 "metadata": {
  "colab": {
   "collapsed_sections": [],
   "name": "Textile-CARGenerator.ipynb",
   "provenance": []
  },
  "kernelspec": {
   "display_name": "Python 3.10.7 ('venv': venv)",
   "language": "python",
   "name": "python3"
  },
  "language_info": {
   "codemirror_mode": {
    "name": "ipython",
    "version": 3
   },
   "file_extension": ".py",
   "mimetype": "text/x-python",
   "name": "python",
   "nbconvert_exporter": "python",
   "pygments_lexer": "ipython3",
   "version": "3.10.8"
  },
  "vscode": {
   "interpreter": {
    "hash": "fb06483d433fe4a4167710c74b044303c64c391fff93d157ac52bd32ba531e9e"
   }
  }
 },
 "nbformat": 4,
 "nbformat_minor": 4
}
